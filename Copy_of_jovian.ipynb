{
  "nbformat": 4,
  "nbformat_minor": 0,
  "metadata": {
    "colab": {
      "name": "Copy of jovian.ipynb",
      "provenance": [],
      "collapsed_sections": [],
      "authorship_tag": "ABX9TyPn/v84HUKmPQ/WRpaysn1R",
      "include_colab_link": true
    },
    "kernelspec": {
      "name": "python3",
      "display_name": "Python 3"
    },
    "language_info": {
      "name": "python"
    },
    "accelerator": "GPU"
  },
  "cells": [
    {
      "cell_type": "markdown",
      "metadata": {
        "id": "view-in-github",
        "colab_type": "text"
      },
      "source": [
        "<a href=\"https://colab.research.google.com/github/vinaynamani/Jovian/blob/main/Copy_of_jovian.ipynb\" target=\"_parent\"><img src=\"https://colab.research.google.com/assets/colab-badge.svg\" alt=\"Open In Colab\"/></a>"
      ]
    },
    {
      "cell_type": "code",
      "metadata": {
        "id": "ZrkyXJahBTP0",
        "colab": {
          "base_uri": "https://localhost:8080/"
        },
        "outputId": "75499fdf-f65e-481a-fd3f-647340bed71e"
      },
      "source": [
        "!pip install opendatasets"
      ],
      "execution_count": 1,
      "outputs": [
        {
          "output_type": "stream",
          "text": [
            "Collecting opendatasets\n",
            "  Downloading opendatasets-0.1.20-py3-none-any.whl (14 kB)\n",
            "Requirement already satisfied: click in /usr/local/lib/python3.7/dist-packages (from opendatasets) (7.1.2)\n",
            "Requirement already satisfied: kaggle in /usr/local/lib/python3.7/dist-packages (from opendatasets) (1.5.12)\n",
            "Requirement already satisfied: tqdm in /usr/local/lib/python3.7/dist-packages (from opendatasets) (4.41.1)\n",
            "Requirement already satisfied: python-dateutil in /usr/local/lib/python3.7/dist-packages (from kaggle->opendatasets) (2.8.1)\n",
            "Requirement already satisfied: urllib3 in /usr/local/lib/python3.7/dist-packages (from kaggle->opendatasets) (1.24.3)\n",
            "Requirement already satisfied: requests in /usr/local/lib/python3.7/dist-packages (from kaggle->opendatasets) (2.23.0)\n",
            "Requirement already satisfied: certifi in /usr/local/lib/python3.7/dist-packages (from kaggle->opendatasets) (2021.5.30)\n",
            "Requirement already satisfied: python-slugify in /usr/local/lib/python3.7/dist-packages (from kaggle->opendatasets) (5.0.2)\n",
            "Requirement already satisfied: six>=1.10 in /usr/local/lib/python3.7/dist-packages (from kaggle->opendatasets) (1.15.0)\n",
            "Requirement already satisfied: text-unidecode>=1.3 in /usr/local/lib/python3.7/dist-packages (from python-slugify->kaggle->opendatasets) (1.3)\n",
            "Requirement already satisfied: chardet<4,>=3.0.2 in /usr/local/lib/python3.7/dist-packages (from requests->kaggle->opendatasets) (3.0.4)\n",
            "Requirement already satisfied: idna<3,>=2.5 in /usr/local/lib/python3.7/dist-packages (from requests->kaggle->opendatasets) (2.10)\n",
            "Installing collected packages: opendatasets\n",
            "Successfully installed opendatasets-0.1.20\n"
          ],
          "name": "stdout"
        }
      ]
    },
    {
      "cell_type": "code",
      "metadata": {
        "id": "Jt2qYqegA5eY",
        "colab": {
          "base_uri": "https://localhost:8080/"
        },
        "outputId": "0925a0af-0ccb-4f42-d3a1-652328972976"
      },
      "source": [
        "import pandas as pd\n",
        "import numpy as np\n",
        "import opendatasets as od\n",
        "kaggle_data = od.download(\"https://www.kaggle.com/c/DontGetKicked\",force=True)"
      ],
      "execution_count": 2,
      "outputs": [
        {
          "output_type": "stream",
          "text": [
            "Please provide your Kaggle credentials to download this dataset. Learn more: http://bit.ly/kaggle-creds\n",
            "Your Kaggle username: vinaynamani\n",
            "Your Kaggle Key: ··········\n"
          ],
          "name": "stdout"
        },
        {
          "output_type": "stream",
          "text": [
            " 78%|███████▊  | 8.00M/10.2M [00:00<00:00, 82.6MB/s]"
          ],
          "name": "stderr"
        },
        {
          "output_type": "stream",
          "text": [
            "Downloading DontGetKicked.zip to ./DontGetKicked\n"
          ],
          "name": "stdout"
        },
        {
          "output_type": "stream",
          "text": [
            "\r100%|██████████| 10.2M/10.2M [00:00<00:00, 49.5MB/s]\n"
          ],
          "name": "stderr"
        },
        {
          "output_type": "stream",
          "text": [
            "\n",
            "Extracting archive ./DontGetKicked/DontGetKicked.zip to ./DontGetKicked\n"
          ],
          "name": "stdout"
        }
      ]
    },
    {
      "cell_type": "code",
      "metadata": {
        "id": "qb81TVpSOKib",
        "colab": {
          "base_uri": "https://localhost:8080/"
        },
        "outputId": "548a068d-88eb-428d-8f8c-0efecbff228a"
      },
      "source": [
        "# Jovian Commit Essentials\n",
        "# Please retain and execute this cell without modifying the contents for `jovian.commit` to work\n",
        "!pip install jovian --upgrade -q\n",
        "import jovian\n",
        "jovian.set_project('zerotogbms-project')\n",
        "jovian.set_colab_id('1BmFCV0YNcZgULeTJbtkzLcKG4JF813bF')"
      ],
      "execution_count": 3,
      "outputs": [
        {
          "output_type": "stream",
          "text": [
            "\u001b[?25l\r\u001b[K     |████▊                           | 10 kB 24.0 MB/s eta 0:00:01\r\u001b[K     |█████████▌                      | 20 kB 9.5 MB/s eta 0:00:01\r\u001b[K     |██████████████▎                 | 30 kB 7.9 MB/s eta 0:00:01\r\u001b[K     |███████████████████             | 40 kB 7.4 MB/s eta 0:00:01\r\u001b[K     |███████████████████████▉        | 51 kB 4.0 MB/s eta 0:00:01\r\u001b[K     |████████████████████████████▋   | 61 kB 4.2 MB/s eta 0:00:01\r\u001b[K     |████████████████████████████████| 68 kB 2.7 MB/s \n",
            "\u001b[?25h  Building wheel for uuid (setup.py) ... \u001b[?25l\u001b[?25hdone\n"
          ],
          "name": "stdout"
        }
      ]
    },
    {
      "cell_type": "markdown",
      "metadata": {
        "id": "awfPbcJuOKbx"
      },
      "source": [
        "# zerotogbms-project\n",
        "\n",
        "Use the \"Run\" button to execute the code."
      ]
    },
    {
      "cell_type": "code",
      "metadata": {
        "id": "oGLj0VpmOKN-"
      },
      "source": [
        "!pip install jovian --upgrade --quiet"
      ],
      "execution_count": 4,
      "outputs": []
    },
    {
      "cell_type": "code",
      "metadata": {
        "id": "RMHp88vPOaBg"
      },
      "source": [
        "import jovian"
      ],
      "execution_count": 5,
      "outputs": []
    },
    {
      "cell_type": "code",
      "metadata": {
        "colab": {
          "base_uri": "https://localhost:8080/",
          "height": 132
        },
        "id": "4UG4U3KwOaE6",
        "outputId": "3e89d22e-cd4d-418c-f1df-dafa18cc2260"
      },
      "source": [
        "# Execute this to save new versions of the notebook\n",
        "jovian.commit(project=\"zerotogbms-project\")"
      ],
      "execution_count": 6,
      "outputs": [
        {
          "output_type": "stream",
          "text": [
            "[jovian] Detected Colab notebook...\u001b[0m\n",
            "[jovian] Please enter your API key ( from https://jovian.ai/ ):\u001b[0m\n",
            "API KEY: ··········\n",
            "[jovian] Uploading colab notebook to Jovian...\u001b[0m\n",
            "Committed successfully! https://jovian.ai/nvinay1586/zerotogbms-project\n"
          ],
          "name": "stdout"
        },
        {
          "output_type": "execute_result",
          "data": {
            "application/vnd.google.colaboratory.intrinsic+json": {
              "type": "string"
            },
            "text/plain": [
              "'https://jovian.ai/nvinay1586/zerotogbms-project'"
            ]
          },
          "metadata": {
            "tags": []
          },
          "execution_count": 6
        }
      ]
    },
    {
      "cell_type": "markdown",
      "metadata": {
        "id": "p9I8zH8DyxJJ"
      },
      "source": [
        "# Jovain Course - Project (https://www.kaggle.com/c/DontGetKicked)"
      ]
    },
    {
      "cell_type": "markdown",
      "metadata": {
        "id": "rKch3lPWy7x6"
      },
      "source": [
        "# Description : \n",
        "# One of the biggest challenges of an auto dealership purchasing a used car at an auto auction is the risk of that the vehicle might have serious issues that prevent it from being sold to customers. The auto community calls these unfortunate purchases \"kicks\".\n",
        "\n",
        "# Kicked cars often result when there are tampered odometers, mechanical issues the dealer is not able to address, issues with getting the vehicle title from the seller, or some other unforeseen problem. Kick cars can be very costly to dealers after transportation cost, throw-away repair work, and market losses in reselling the vehicle.\n",
        "\n",
        "# Modelers who can figure out which cars have a higher risk of being kick can provide real value to dealerships trying to provide the best inventory selection possible to their customers.\n",
        "\n",
        "# The challenge of this competition is to predict if the car purchased at the Auction is a Kick (bad buy)"
      ]
    },
    {
      "cell_type": "markdown",
      "metadata": {
        "id": "UZuHiiVszBri"
      },
      "source": [
        ""
      ]
    },
    {
      "cell_type": "markdown",
      "metadata": {
        "id": "g--ZN-OizHOC"
      },
      "source": [
        "# Problem Statement : \n",
        "     In this Problem we need to predict if the car purchased at the Auction is a good / bad buy. \n",
        "\n",
        "# The data contains missing values.\n",
        "\n",
        "# The dependent variable (IsBadBuy) is binary (C2).\n",
        "\n",
        "# There are 32 Independent variables (C3-C34).\n",
        "\n",
        "# The data set is split to 60% training and 40% testing"
      ]
    },
    {
      "cell_type": "code",
      "metadata": {
        "id": "QnRk-8RezIFY"
      },
      "source": [
        "#The Dataset Contains 72983 rows and 34 columns"
      ],
      "execution_count": 7,
      "outputs": []
    },
    {
      "cell_type": "code",
      "metadata": {
        "id": "doR8yFmzzIT3",
        "colab": {
          "base_uri": "https://localhost:8080/"
        },
        "outputId": "c5926b8b-add3-4177-dcaa-3f3e8ca01454"
      },
      "source": [
        "import numpy as np # Linear Algebra Operations\n",
        "import pandas as pd # Data Manipulation\n",
        "from sklearn.metrics import ConfusionMatrixDisplay,confusion_matrix,roc_curve # Performance metrics for Classification Problems\n",
        "import matplotlib.pyplot as plt # for visualizations\n",
        "import seaborn as sns # for visualizations \n",
        "from imblearn.over_sampling import RandomOverSampler # for balancing the data\n",
        "from sklearn.impute import SimpleImputer # Simple Imputer for filling the null values\n",
        "from sklearn.preprocessing import StandardScaler # for Scaling the data to Standard Normalization\n",
        "from sklearn.linear_model import LogisticRegression # Importing Logistic Regression\n",
        "from sklearn.ensemble import RandomForestClassifier # Importing ensemble technique\n",
        "from xgboost import XGBClassifier # importing Xtreme Gradient Boosting Classifier"
      ],
      "execution_count": 8,
      "outputs": [
        {
          "output_type": "stream",
          "text": [
            "/usr/local/lib/python3.7/dist-packages/sklearn/externals/six.py:31: FutureWarning: The module is deprecated in version 0.21 and will be removed in version 0.23 since we've dropped support for Python 2.7. Please rely on the official version of six (https://pypi.org/project/six/).\n",
            "  \"(https://pypi.org/project/six/).\", FutureWarning)\n",
            "/usr/local/lib/python3.7/dist-packages/sklearn/utils/deprecation.py:144: FutureWarning: The sklearn.neighbors.base module is  deprecated in version 0.22 and will be removed in version 0.24. The corresponding classes / functions should instead be imported from sklearn.neighbors. Anything that cannot be imported from sklearn.neighbors is now part of the private API.\n",
            "  warnings.warn(message, FutureWarning)\n"
          ],
          "name": "stderr"
        }
      ]
    },
    {
      "cell_type": "code",
      "metadata": {
        "id": "Fp2cX2cay6m7"
      },
      "source": [
        "# Reading The dataset from my Github Link as it is convinient for me\n",
        "# df = pd.read_csv(\"DontGetKicked/training.csv\")\n",
        "df = pd.read_csv(\"https://raw.githubusercontent.com/vinaynamani/Jovian/main/training.csv\")"
      ],
      "execution_count": 128,
      "outputs": []
    },
    {
      "cell_type": "code",
      "metadata": {
        "id": "vo2jD9KlzKps",
        "colab": {
          "base_uri": "https://localhost:8080/"
        },
        "outputId": "c84c99a3-f1ed-443d-bab7-f1e2df754004"
      },
      "source": [
        "df.shape #Checking the shape of the dataset"
      ],
      "execution_count": 129,
      "outputs": [
        {
          "output_type": "execute_result",
          "data": {
            "text/plain": [
              "(72983, 34)"
            ]
          },
          "metadata": {
            "tags": []
          },
          "execution_count": 129
        }
      ]
    },
    {
      "cell_type": "code",
      "metadata": {
        "colab": {
          "base_uri": "https://localhost:8080/",
          "height": 382
        },
        "id": "ig6yOmjfzoic",
        "outputId": "44dd0af1-c576-43d8-ec48-ac423e64ed8c"
      },
      "source": [
        "df.head() # Checking the first 5 rows of the dataset"
      ],
      "execution_count": 131,
      "outputs": [
        {
          "output_type": "execute_result",
          "data": {
            "text/html": [
              "<div>\n",
              "<style scoped>\n",
              "    .dataframe tbody tr th:only-of-type {\n",
              "        vertical-align: middle;\n",
              "    }\n",
              "\n",
              "    .dataframe tbody tr th {\n",
              "        vertical-align: top;\n",
              "    }\n",
              "\n",
              "    .dataframe thead th {\n",
              "        text-align: right;\n",
              "    }\n",
              "</style>\n",
              "<table border=\"1\" class=\"dataframe\">\n",
              "  <thead>\n",
              "    <tr style=\"text-align: right;\">\n",
              "      <th></th>\n",
              "      <th>RefId</th>\n",
              "      <th>IsBadBuy</th>\n",
              "      <th>PurchDate</th>\n",
              "      <th>Auction</th>\n",
              "      <th>VehYear</th>\n",
              "      <th>VehicleAge</th>\n",
              "      <th>Make</th>\n",
              "      <th>Model</th>\n",
              "      <th>Trim</th>\n",
              "      <th>SubModel</th>\n",
              "      <th>Color</th>\n",
              "      <th>Transmission</th>\n",
              "      <th>WheelTypeID</th>\n",
              "      <th>WheelType</th>\n",
              "      <th>VehOdo</th>\n",
              "      <th>Nationality</th>\n",
              "      <th>Size</th>\n",
              "      <th>TopThreeAmericanName</th>\n",
              "      <th>MMRAcquisitionAuctionAveragePrice</th>\n",
              "      <th>MMRAcquisitionAuctionCleanPrice</th>\n",
              "      <th>MMRAcquisitionRetailAveragePrice</th>\n",
              "      <th>MMRAcquisitonRetailCleanPrice</th>\n",
              "      <th>MMRCurrentAuctionAveragePrice</th>\n",
              "      <th>MMRCurrentAuctionCleanPrice</th>\n",
              "      <th>MMRCurrentRetailAveragePrice</th>\n",
              "      <th>MMRCurrentRetailCleanPrice</th>\n",
              "      <th>PRIMEUNIT</th>\n",
              "      <th>AUCGUART</th>\n",
              "      <th>BYRNO</th>\n",
              "      <th>VNZIP1</th>\n",
              "      <th>VNST</th>\n",
              "      <th>VehBCost</th>\n",
              "      <th>IsOnlineSale</th>\n",
              "      <th>WarrantyCost</th>\n",
              "    </tr>\n",
              "  </thead>\n",
              "  <tbody>\n",
              "    <tr>\n",
              "      <th>0</th>\n",
              "      <td>1</td>\n",
              "      <td>0</td>\n",
              "      <td>12/7/2009</td>\n",
              "      <td>ADESA</td>\n",
              "      <td>2006</td>\n",
              "      <td>3</td>\n",
              "      <td>MAZDA</td>\n",
              "      <td>MAZDA3</td>\n",
              "      <td>i</td>\n",
              "      <td>4D SEDAN I</td>\n",
              "      <td>RED</td>\n",
              "      <td>AUTO</td>\n",
              "      <td>1.0</td>\n",
              "      <td>Alloy</td>\n",
              "      <td>89046</td>\n",
              "      <td>OTHER ASIAN</td>\n",
              "      <td>MEDIUM</td>\n",
              "      <td>OTHER</td>\n",
              "      <td>8155.0</td>\n",
              "      <td>9829.0</td>\n",
              "      <td>11636.0</td>\n",
              "      <td>13600.0</td>\n",
              "      <td>7451.0</td>\n",
              "      <td>8552.0</td>\n",
              "      <td>11597.0</td>\n",
              "      <td>12409.0</td>\n",
              "      <td>NaN</td>\n",
              "      <td>NaN</td>\n",
              "      <td>21973</td>\n",
              "      <td>33619</td>\n",
              "      <td>FL</td>\n",
              "      <td>7100.0</td>\n",
              "      <td>0</td>\n",
              "      <td>1113</td>\n",
              "    </tr>\n",
              "    <tr>\n",
              "      <th>1</th>\n",
              "      <td>2</td>\n",
              "      <td>0</td>\n",
              "      <td>12/7/2009</td>\n",
              "      <td>ADESA</td>\n",
              "      <td>2004</td>\n",
              "      <td>5</td>\n",
              "      <td>DODGE</td>\n",
              "      <td>1500 RAM PICKUP 2WD</td>\n",
              "      <td>ST</td>\n",
              "      <td>QUAD CAB 4.7L SLT</td>\n",
              "      <td>WHITE</td>\n",
              "      <td>AUTO</td>\n",
              "      <td>1.0</td>\n",
              "      <td>Alloy</td>\n",
              "      <td>93593</td>\n",
              "      <td>AMERICAN</td>\n",
              "      <td>LARGE TRUCK</td>\n",
              "      <td>CHRYSLER</td>\n",
              "      <td>6854.0</td>\n",
              "      <td>8383.0</td>\n",
              "      <td>10897.0</td>\n",
              "      <td>12572.0</td>\n",
              "      <td>7456.0</td>\n",
              "      <td>9222.0</td>\n",
              "      <td>11374.0</td>\n",
              "      <td>12791.0</td>\n",
              "      <td>NaN</td>\n",
              "      <td>NaN</td>\n",
              "      <td>19638</td>\n",
              "      <td>33619</td>\n",
              "      <td>FL</td>\n",
              "      <td>7600.0</td>\n",
              "      <td>0</td>\n",
              "      <td>1053</td>\n",
              "    </tr>\n",
              "    <tr>\n",
              "      <th>2</th>\n",
              "      <td>3</td>\n",
              "      <td>0</td>\n",
              "      <td>12/7/2009</td>\n",
              "      <td>ADESA</td>\n",
              "      <td>2005</td>\n",
              "      <td>4</td>\n",
              "      <td>DODGE</td>\n",
              "      <td>STRATUS V6</td>\n",
              "      <td>SXT</td>\n",
              "      <td>4D SEDAN SXT FFV</td>\n",
              "      <td>MAROON</td>\n",
              "      <td>AUTO</td>\n",
              "      <td>2.0</td>\n",
              "      <td>Covers</td>\n",
              "      <td>73807</td>\n",
              "      <td>AMERICAN</td>\n",
              "      <td>MEDIUM</td>\n",
              "      <td>CHRYSLER</td>\n",
              "      <td>3202.0</td>\n",
              "      <td>4760.0</td>\n",
              "      <td>6943.0</td>\n",
              "      <td>8457.0</td>\n",
              "      <td>4035.0</td>\n",
              "      <td>5557.0</td>\n",
              "      <td>7146.0</td>\n",
              "      <td>8702.0</td>\n",
              "      <td>NaN</td>\n",
              "      <td>NaN</td>\n",
              "      <td>19638</td>\n",
              "      <td>33619</td>\n",
              "      <td>FL</td>\n",
              "      <td>4900.0</td>\n",
              "      <td>0</td>\n",
              "      <td>1389</td>\n",
              "    </tr>\n",
              "    <tr>\n",
              "      <th>3</th>\n",
              "      <td>4</td>\n",
              "      <td>0</td>\n",
              "      <td>12/7/2009</td>\n",
              "      <td>ADESA</td>\n",
              "      <td>2004</td>\n",
              "      <td>5</td>\n",
              "      <td>DODGE</td>\n",
              "      <td>NEON</td>\n",
              "      <td>SXT</td>\n",
              "      <td>4D SEDAN</td>\n",
              "      <td>SILVER</td>\n",
              "      <td>AUTO</td>\n",
              "      <td>1.0</td>\n",
              "      <td>Alloy</td>\n",
              "      <td>65617</td>\n",
              "      <td>AMERICAN</td>\n",
              "      <td>COMPACT</td>\n",
              "      <td>CHRYSLER</td>\n",
              "      <td>1893.0</td>\n",
              "      <td>2675.0</td>\n",
              "      <td>4658.0</td>\n",
              "      <td>5690.0</td>\n",
              "      <td>1844.0</td>\n",
              "      <td>2646.0</td>\n",
              "      <td>4375.0</td>\n",
              "      <td>5518.0</td>\n",
              "      <td>NaN</td>\n",
              "      <td>NaN</td>\n",
              "      <td>19638</td>\n",
              "      <td>33619</td>\n",
              "      <td>FL</td>\n",
              "      <td>4100.0</td>\n",
              "      <td>0</td>\n",
              "      <td>630</td>\n",
              "    </tr>\n",
              "    <tr>\n",
              "      <th>4</th>\n",
              "      <td>5</td>\n",
              "      <td>0</td>\n",
              "      <td>12/7/2009</td>\n",
              "      <td>ADESA</td>\n",
              "      <td>2005</td>\n",
              "      <td>4</td>\n",
              "      <td>FORD</td>\n",
              "      <td>FOCUS</td>\n",
              "      <td>ZX3</td>\n",
              "      <td>2D COUPE ZX3</td>\n",
              "      <td>SILVER</td>\n",
              "      <td>MANUAL</td>\n",
              "      <td>2.0</td>\n",
              "      <td>Covers</td>\n",
              "      <td>69367</td>\n",
              "      <td>AMERICAN</td>\n",
              "      <td>COMPACT</td>\n",
              "      <td>FORD</td>\n",
              "      <td>3913.0</td>\n",
              "      <td>5054.0</td>\n",
              "      <td>7723.0</td>\n",
              "      <td>8707.0</td>\n",
              "      <td>3247.0</td>\n",
              "      <td>4384.0</td>\n",
              "      <td>6739.0</td>\n",
              "      <td>7911.0</td>\n",
              "      <td>NaN</td>\n",
              "      <td>NaN</td>\n",
              "      <td>19638</td>\n",
              "      <td>33619</td>\n",
              "      <td>FL</td>\n",
              "      <td>4000.0</td>\n",
              "      <td>0</td>\n",
              "      <td>1020</td>\n",
              "    </tr>\n",
              "  </tbody>\n",
              "</table>\n",
              "</div>"
            ],
            "text/plain": [
              "   RefId  IsBadBuy  PurchDate  ... VehBCost  IsOnlineSale  WarrantyCost\n",
              "0      1         0  12/7/2009  ...   7100.0             0          1113\n",
              "1      2         0  12/7/2009  ...   7600.0             0          1053\n",
              "2      3         0  12/7/2009  ...   4900.0             0          1389\n",
              "3      4         0  12/7/2009  ...   4100.0             0           630\n",
              "4      5         0  12/7/2009  ...   4000.0             0          1020\n",
              "\n",
              "[5 rows x 34 columns]"
            ]
          },
          "metadata": {
            "tags": []
          },
          "execution_count": 131
        }
      ]
    },
    {
      "cell_type": "code",
      "metadata": {
        "id": "v0lJpnebzpq4"
      },
      "source": [
        "#Extracting the Dependent Variable\n",
        "target = df['IsBadBuy']"
      ],
      "execution_count": 132,
      "outputs": []
    },
    {
      "cell_type": "code",
      "metadata": {
        "id": "mPh-WKmPz56s"
      },
      "source": [
        "# Removing RefId & VehYear also, because VehYear and VehicleAge representing the Same values.\n",
        "df.drop(['RefId',\"VehYear\"],1,inplace=True)"
      ],
      "execution_count": 133,
      "outputs": []
    },
    {
      "cell_type": "code",
      "metadata": {
        "colab": {
          "base_uri": "https://localhost:8080/",
          "height": 320
        },
        "id": "acWPCX2kz7DR",
        "outputId": "8b305d9a-b547-4766-a303-7482505afad5"
      },
      "source": [
        "df.describe() # Checking the basic information of the Data"
      ],
      "execution_count": 134,
      "outputs": [
        {
          "output_type": "execute_result",
          "data": {
            "text/html": [
              "<div>\n",
              "<style scoped>\n",
              "    .dataframe tbody tr th:only-of-type {\n",
              "        vertical-align: middle;\n",
              "    }\n",
              "\n",
              "    .dataframe tbody tr th {\n",
              "        vertical-align: top;\n",
              "    }\n",
              "\n",
              "    .dataframe thead th {\n",
              "        text-align: right;\n",
              "    }\n",
              "</style>\n",
              "<table border=\"1\" class=\"dataframe\">\n",
              "  <thead>\n",
              "    <tr style=\"text-align: right;\">\n",
              "      <th></th>\n",
              "      <th>IsBadBuy</th>\n",
              "      <th>VehicleAge</th>\n",
              "      <th>WheelTypeID</th>\n",
              "      <th>VehOdo</th>\n",
              "      <th>MMRAcquisitionAuctionAveragePrice</th>\n",
              "      <th>MMRAcquisitionAuctionCleanPrice</th>\n",
              "      <th>MMRAcquisitionRetailAveragePrice</th>\n",
              "      <th>MMRAcquisitonRetailCleanPrice</th>\n",
              "      <th>MMRCurrentAuctionAveragePrice</th>\n",
              "      <th>MMRCurrentAuctionCleanPrice</th>\n",
              "      <th>MMRCurrentRetailAveragePrice</th>\n",
              "      <th>MMRCurrentRetailCleanPrice</th>\n",
              "      <th>BYRNO</th>\n",
              "      <th>VNZIP1</th>\n",
              "      <th>VehBCost</th>\n",
              "      <th>IsOnlineSale</th>\n",
              "      <th>WarrantyCost</th>\n",
              "    </tr>\n",
              "  </thead>\n",
              "  <tbody>\n",
              "    <tr>\n",
              "      <th>count</th>\n",
              "      <td>72983.000000</td>\n",
              "      <td>72983.000000</td>\n",
              "      <td>69814.000000</td>\n",
              "      <td>72983.000000</td>\n",
              "      <td>72965.000000</td>\n",
              "      <td>72965.000000</td>\n",
              "      <td>72965.000000</td>\n",
              "      <td>72965.000000</td>\n",
              "      <td>72668.000000</td>\n",
              "      <td>72668.000000</td>\n",
              "      <td>72668.000000</td>\n",
              "      <td>72668.000000</td>\n",
              "      <td>72983.000000</td>\n",
              "      <td>72983.000000</td>\n",
              "      <td>72983.000000</td>\n",
              "      <td>72983.000000</td>\n",
              "      <td>72983.000000</td>\n",
              "    </tr>\n",
              "    <tr>\n",
              "      <th>mean</th>\n",
              "      <td>0.122988</td>\n",
              "      <td>4.176644</td>\n",
              "      <td>1.494299</td>\n",
              "      <td>71499.995917</td>\n",
              "      <td>6128.909217</td>\n",
              "      <td>7373.636031</td>\n",
              "      <td>8497.034332</td>\n",
              "      <td>9850.928240</td>\n",
              "      <td>6132.081287</td>\n",
              "      <td>7390.681827</td>\n",
              "      <td>8775.723331</td>\n",
              "      <td>10145.385314</td>\n",
              "      <td>26345.842155</td>\n",
              "      <td>58043.059945</td>\n",
              "      <td>6730.934326</td>\n",
              "      <td>0.025280</td>\n",
              "      <td>1276.580985</td>\n",
              "    </tr>\n",
              "    <tr>\n",
              "      <th>std</th>\n",
              "      <td>0.328425</td>\n",
              "      <td>1.712210</td>\n",
              "      <td>0.521290</td>\n",
              "      <td>14578.913128</td>\n",
              "      <td>2461.992768</td>\n",
              "      <td>2722.491986</td>\n",
              "      <td>3156.285284</td>\n",
              "      <td>3385.789541</td>\n",
              "      <td>2434.567723</td>\n",
              "      <td>2686.248852</td>\n",
              "      <td>3090.702941</td>\n",
              "      <td>3310.254351</td>\n",
              "      <td>25717.351219</td>\n",
              "      <td>26151.640415</td>\n",
              "      <td>1767.846435</td>\n",
              "      <td>0.156975</td>\n",
              "      <td>598.846788</td>\n",
              "    </tr>\n",
              "    <tr>\n",
              "      <th>min</th>\n",
              "      <td>0.000000</td>\n",
              "      <td>0.000000</td>\n",
              "      <td>0.000000</td>\n",
              "      <td>4825.000000</td>\n",
              "      <td>0.000000</td>\n",
              "      <td>0.000000</td>\n",
              "      <td>0.000000</td>\n",
              "      <td>0.000000</td>\n",
              "      <td>0.000000</td>\n",
              "      <td>0.000000</td>\n",
              "      <td>0.000000</td>\n",
              "      <td>0.000000</td>\n",
              "      <td>835.000000</td>\n",
              "      <td>2764.000000</td>\n",
              "      <td>1.000000</td>\n",
              "      <td>0.000000</td>\n",
              "      <td>462.000000</td>\n",
              "    </tr>\n",
              "    <tr>\n",
              "      <th>25%</th>\n",
              "      <td>0.000000</td>\n",
              "      <td>3.000000</td>\n",
              "      <td>1.000000</td>\n",
              "      <td>61837.000000</td>\n",
              "      <td>4273.000000</td>\n",
              "      <td>5406.000000</td>\n",
              "      <td>6280.000000</td>\n",
              "      <td>7493.000000</td>\n",
              "      <td>4275.000000</td>\n",
              "      <td>5414.000000</td>\n",
              "      <td>6536.000000</td>\n",
              "      <td>7784.000000</td>\n",
              "      <td>17212.000000</td>\n",
              "      <td>32124.000000</td>\n",
              "      <td>5435.000000</td>\n",
              "      <td>0.000000</td>\n",
              "      <td>837.000000</td>\n",
              "    </tr>\n",
              "    <tr>\n",
              "      <th>50%</th>\n",
              "      <td>0.000000</td>\n",
              "      <td>4.000000</td>\n",
              "      <td>1.000000</td>\n",
              "      <td>73361.000000</td>\n",
              "      <td>6097.000000</td>\n",
              "      <td>7303.000000</td>\n",
              "      <td>8444.000000</td>\n",
              "      <td>9789.000000</td>\n",
              "      <td>6062.000000</td>\n",
              "      <td>7313.000000</td>\n",
              "      <td>8729.000000</td>\n",
              "      <td>10103.000000</td>\n",
              "      <td>19662.000000</td>\n",
              "      <td>73108.000000</td>\n",
              "      <td>6700.000000</td>\n",
              "      <td>0.000000</td>\n",
              "      <td>1155.000000</td>\n",
              "    </tr>\n",
              "    <tr>\n",
              "      <th>75%</th>\n",
              "      <td>0.000000</td>\n",
              "      <td>5.000000</td>\n",
              "      <td>2.000000</td>\n",
              "      <td>82436.000000</td>\n",
              "      <td>7765.000000</td>\n",
              "      <td>9021.000000</td>\n",
              "      <td>10651.000000</td>\n",
              "      <td>12088.000000</td>\n",
              "      <td>7736.000000</td>\n",
              "      <td>9013.000000</td>\n",
              "      <td>10911.000000</td>\n",
              "      <td>12309.000000</td>\n",
              "      <td>22808.000000</td>\n",
              "      <td>80022.000000</td>\n",
              "      <td>7900.000000</td>\n",
              "      <td>0.000000</td>\n",
              "      <td>1623.000000</td>\n",
              "    </tr>\n",
              "    <tr>\n",
              "      <th>max</th>\n",
              "      <td>1.000000</td>\n",
              "      <td>9.000000</td>\n",
              "      <td>3.000000</td>\n",
              "      <td>115717.000000</td>\n",
              "      <td>35722.000000</td>\n",
              "      <td>36859.000000</td>\n",
              "      <td>39080.000000</td>\n",
              "      <td>41482.000000</td>\n",
              "      <td>35722.000000</td>\n",
              "      <td>36859.000000</td>\n",
              "      <td>39080.000000</td>\n",
              "      <td>41062.000000</td>\n",
              "      <td>99761.000000</td>\n",
              "      <td>99224.000000</td>\n",
              "      <td>45469.000000</td>\n",
              "      <td>1.000000</td>\n",
              "      <td>7498.000000</td>\n",
              "    </tr>\n",
              "  </tbody>\n",
              "</table>\n",
              "</div>"
            ],
            "text/plain": [
              "           IsBadBuy    VehicleAge  ...  IsOnlineSale  WarrantyCost\n",
              "count  72983.000000  72983.000000  ...  72983.000000  72983.000000\n",
              "mean       0.122988      4.176644  ...      0.025280   1276.580985\n",
              "std        0.328425      1.712210  ...      0.156975    598.846788\n",
              "min        0.000000      0.000000  ...      0.000000    462.000000\n",
              "25%        0.000000      3.000000  ...      0.000000    837.000000\n",
              "50%        0.000000      4.000000  ...      0.000000   1155.000000\n",
              "75%        0.000000      5.000000  ...      0.000000   1623.000000\n",
              "max        1.000000      9.000000  ...      1.000000   7498.000000\n",
              "\n",
              "[8 rows x 17 columns]"
            ]
          },
          "metadata": {
            "tags": []
          },
          "execution_count": 134
        }
      ]
    },
    {
      "cell_type": "code",
      "metadata": {
        "colab": {
          "base_uri": "https://localhost:8080/"
        },
        "id": "No3SgeZuz8Ba",
        "outputId": "4c586f36-0e12-47ea-bae8-13017cbe95d2"
      },
      "source": [
        "df.info()"
      ],
      "execution_count": 135,
      "outputs": [
        {
          "output_type": "stream",
          "text": [
            "<class 'pandas.core.frame.DataFrame'>\n",
            "RangeIndex: 72983 entries, 0 to 72982\n",
            "Data columns (total 32 columns):\n",
            " #   Column                             Non-Null Count  Dtype  \n",
            "---  ------                             --------------  -----  \n",
            " 0   IsBadBuy                           72983 non-null  int64  \n",
            " 1   PurchDate                          72983 non-null  object \n",
            " 2   Auction                            72983 non-null  object \n",
            " 3   VehicleAge                         72983 non-null  int64  \n",
            " 4   Make                               72983 non-null  object \n",
            " 5   Model                              72983 non-null  object \n",
            " 6   Trim                               70623 non-null  object \n",
            " 7   SubModel                           72975 non-null  object \n",
            " 8   Color                              72975 non-null  object \n",
            " 9   Transmission                       72974 non-null  object \n",
            " 10  WheelTypeID                        69814 non-null  float64\n",
            " 11  WheelType                          69809 non-null  object \n",
            " 12  VehOdo                             72983 non-null  int64  \n",
            " 13  Nationality                        72978 non-null  object \n",
            " 14  Size                               72978 non-null  object \n",
            " 15  TopThreeAmericanName               72978 non-null  object \n",
            " 16  MMRAcquisitionAuctionAveragePrice  72965 non-null  float64\n",
            " 17  MMRAcquisitionAuctionCleanPrice    72965 non-null  float64\n",
            " 18  MMRAcquisitionRetailAveragePrice   72965 non-null  float64\n",
            " 19  MMRAcquisitonRetailCleanPrice      72965 non-null  float64\n",
            " 20  MMRCurrentAuctionAveragePrice      72668 non-null  float64\n",
            " 21  MMRCurrentAuctionCleanPrice        72668 non-null  float64\n",
            " 22  MMRCurrentRetailAveragePrice       72668 non-null  float64\n",
            " 23  MMRCurrentRetailCleanPrice         72668 non-null  float64\n",
            " 24  PRIMEUNIT                          3419 non-null   object \n",
            " 25  AUCGUART                           3419 non-null   object \n",
            " 26  BYRNO                              72983 non-null  int64  \n",
            " 27  VNZIP1                             72983 non-null  int64  \n",
            " 28  VNST                               72983 non-null  object \n",
            " 29  VehBCost                           72983 non-null  float64\n",
            " 30  IsOnlineSale                       72983 non-null  int64  \n",
            " 31  WarrantyCost                       72983 non-null  int64  \n",
            "dtypes: float64(10), int64(7), object(15)\n",
            "memory usage: 17.8+ MB\n"
          ],
          "name": "stdout"
        }
      ]
    },
    {
      "cell_type": "code",
      "metadata": {
        "colab": {
          "base_uri": "https://localhost:8080/"
        },
        "id": "k3txXRGdz9j_",
        "outputId": "59fa13a1-d2ea-4972-fb5a-77554db96584"
      },
      "source": [
        "df.isnull().sum() / len(df) # Checing the Percentage of null values per Each Column."
      ],
      "execution_count": 136,
      "outputs": [
        {
          "output_type": "execute_result",
          "data": {
            "text/plain": [
              "IsBadBuy                             0.000000\n",
              "PurchDate                            0.000000\n",
              "Auction                              0.000000\n",
              "VehicleAge                           0.000000\n",
              "Make                                 0.000000\n",
              "Model                                0.000000\n",
              "Trim                                 0.032336\n",
              "SubModel                             0.000110\n",
              "Color                                0.000110\n",
              "Transmission                         0.000123\n",
              "WheelTypeID                          0.043421\n",
              "WheelType                            0.043490\n",
              "VehOdo                               0.000000\n",
              "Nationality                          0.000069\n",
              "Size                                 0.000069\n",
              "TopThreeAmericanName                 0.000069\n",
              "MMRAcquisitionAuctionAveragePrice    0.000247\n",
              "MMRAcquisitionAuctionCleanPrice      0.000247\n",
              "MMRAcquisitionRetailAveragePrice     0.000247\n",
              "MMRAcquisitonRetailCleanPrice        0.000247\n",
              "MMRCurrentAuctionAveragePrice        0.004316\n",
              "MMRCurrentAuctionCleanPrice          0.004316\n",
              "MMRCurrentRetailAveragePrice         0.004316\n",
              "MMRCurrentRetailCleanPrice           0.004316\n",
              "PRIMEUNIT                            0.953153\n",
              "AUCGUART                             0.953153\n",
              "BYRNO                                0.000000\n",
              "VNZIP1                               0.000000\n",
              "VNST                                 0.000000\n",
              "VehBCost                             0.000000\n",
              "IsOnlineSale                         0.000000\n",
              "WarrantyCost                         0.000000\n",
              "dtype: float64"
            ]
          },
          "metadata": {
            "tags": []
          },
          "execution_count": 136
        }
      ]
    },
    {
      "cell_type": "markdown",
      "metadata": {
        "id": "E1PzRsKaz_vW"
      },
      "source": [
        "Conclusin : As we can see Only \"PRIMEUNITI\" & \"AUCGUART\" has a more than 95% of NULL-Values , so we are removing both the columns."
      ]
    },
    {
      "cell_type": "code",
      "metadata": {
        "id": "5dqSMAkbGp7R"
      },
      "source": [
        "df.drop([\"AUCGUART\",\"PRIMEUNIT\"],1,inplace=True)"
      ],
      "execution_count": 137,
      "outputs": []
    },
    {
      "cell_type": "code",
      "metadata": {
        "id": "ui4igf5c0R_u"
      },
      "source": [
        "# Extracting all the null columns from the dataset columns\n",
        "null_cols = []\n",
        "for column in df.columns:\n",
        "    if df[column].isnull().sum() > 0:\n",
        "        null_cols.append(column)"
      ],
      "execution_count": 138,
      "outputs": []
    },
    {
      "cell_type": "code",
      "metadata": {
        "colab": {
          "base_uri": "https://localhost:8080/"
        },
        "id": "dPLnXJPe0U3i",
        "outputId": "f7e179c3-624c-47d7-aa79-7cf6dabb386c"
      },
      "source": [
        "null_cols"
      ],
      "execution_count": 139,
      "outputs": [
        {
          "output_type": "execute_result",
          "data": {
            "text/plain": [
              "['Trim',\n",
              " 'SubModel',\n",
              " 'Color',\n",
              " 'Transmission',\n",
              " 'WheelTypeID',\n",
              " 'WheelType',\n",
              " 'Nationality',\n",
              " 'Size',\n",
              " 'TopThreeAmericanName',\n",
              " 'MMRAcquisitionAuctionAveragePrice',\n",
              " 'MMRAcquisitionAuctionCleanPrice',\n",
              " 'MMRAcquisitionRetailAveragePrice',\n",
              " 'MMRAcquisitonRetailCleanPrice',\n",
              " 'MMRCurrentAuctionAveragePrice',\n",
              " 'MMRCurrentAuctionCleanPrice',\n",
              " 'MMRCurrentRetailAveragePrice',\n",
              " 'MMRCurrentRetailCleanPrice']"
            ]
          },
          "metadata": {
            "tags": []
          },
          "execution_count": 139
        }
      ]
    },
    {
      "cell_type": "code",
      "metadata": {
        "colab": {
          "base_uri": "https://localhost:8080/"
        },
        "id": "ksAa9OiddWfB",
        "outputId": "c30d7757-9139-4811-9bca-0fa0f47c11a1"
      },
      "source": [
        "categorical_null_cols = [column for column in null_cols if column not in df.select_dtypes(exclude=\"O\")]\n",
        "categorical_null_cols"
      ],
      "execution_count": 140,
      "outputs": [
        {
          "output_type": "execute_result",
          "data": {
            "text/plain": [
              "['Trim',\n",
              " 'SubModel',\n",
              " 'Color',\n",
              " 'Transmission',\n",
              " 'WheelType',\n",
              " 'Nationality',\n",
              " 'Size',\n",
              " 'TopThreeAmericanName']"
            ]
          },
          "metadata": {
            "tags": []
          },
          "execution_count": 140
        }
      ]
    },
    {
      "cell_type": "code",
      "metadata": {
        "colab": {
          "base_uri": "https://localhost:8080/"
        },
        "id": "yRTet95qdWbR",
        "outputId": "629c0db8-402d-459f-d4ab-5c4ab0bc7448"
      },
      "source": [
        "numerical_null_cols = [column for column in null_cols if column in df.select_dtypes(exclude=\"O\")]\n",
        "numerical_null_cols"
      ],
      "execution_count": 141,
      "outputs": [
        {
          "output_type": "execute_result",
          "data": {
            "text/plain": [
              "['WheelTypeID',\n",
              " 'MMRAcquisitionAuctionAveragePrice',\n",
              " 'MMRAcquisitionAuctionCleanPrice',\n",
              " 'MMRAcquisitionRetailAveragePrice',\n",
              " 'MMRAcquisitonRetailCleanPrice',\n",
              " 'MMRCurrentAuctionAveragePrice',\n",
              " 'MMRCurrentAuctionCleanPrice',\n",
              " 'MMRCurrentRetailAveragePrice',\n",
              " 'MMRCurrentRetailCleanPrice']"
            ]
          },
          "metadata": {
            "tags": []
          },
          "execution_count": 141
        }
      ]
    },
    {
      "cell_type": "code",
      "metadata": {
        "id": "fZTyZXU50icG"
      },
      "source": [
        "#Creating an object for simple Imputer \n",
        "categorical_imputer = SimpleImputer(strategy='most_frequent')"
      ],
      "execution_count": 142,
      "outputs": []
    },
    {
      "cell_type": "code",
      "metadata": {
        "id": "ieYasnBNd8Os"
      },
      "source": [
        "df[categorical_null_cols] = categorical_imputer.fit_transform(df[categorical_null_cols])"
      ],
      "execution_count": 143,
      "outputs": []
    },
    {
      "cell_type": "code",
      "metadata": {
        "colab": {
          "base_uri": "https://localhost:8080/"
        },
        "id": "99xljm_yd8F2",
        "outputId": "a965b55d-c5aa-4300-b897-3ee43b5eb017"
      },
      "source": [
        "df.isnull().sum()"
      ],
      "execution_count": 144,
      "outputs": [
        {
          "output_type": "execute_result",
          "data": {
            "text/plain": [
              "IsBadBuy                                0\n",
              "PurchDate                               0\n",
              "Auction                                 0\n",
              "VehicleAge                              0\n",
              "Make                                    0\n",
              "Model                                   0\n",
              "Trim                                    0\n",
              "SubModel                                0\n",
              "Color                                   0\n",
              "Transmission                            0\n",
              "WheelTypeID                          3169\n",
              "WheelType                               0\n",
              "VehOdo                                  0\n",
              "Nationality                             0\n",
              "Size                                    0\n",
              "TopThreeAmericanName                    0\n",
              "MMRAcquisitionAuctionAveragePrice      18\n",
              "MMRAcquisitionAuctionCleanPrice        18\n",
              "MMRAcquisitionRetailAveragePrice       18\n",
              "MMRAcquisitonRetailCleanPrice          18\n",
              "MMRCurrentAuctionAveragePrice         315\n",
              "MMRCurrentAuctionCleanPrice           315\n",
              "MMRCurrentRetailAveragePrice          315\n",
              "MMRCurrentRetailCleanPrice            315\n",
              "BYRNO                                   0\n",
              "VNZIP1                                  0\n",
              "VNST                                    0\n",
              "VehBCost                                0\n",
              "IsOnlineSale                            0\n",
              "WarrantyCost                            0\n",
              "dtype: int64"
            ]
          },
          "metadata": {
            "tags": []
          },
          "execution_count": 144
        }
      ]
    },
    {
      "cell_type": "code",
      "metadata": {
        "id": "fpJ6OxAteX1J"
      },
      "source": [
        "numerical_imputer = SimpleImputer(strategy=\"mean\")"
      ],
      "execution_count": 145,
      "outputs": []
    },
    {
      "cell_type": "code",
      "metadata": {
        "id": "1AGcZf89eXsk"
      },
      "source": [
        "df[numerical_null_cols] = numerical_imputer.fit_transform(df[numerical_null_cols])"
      ],
      "execution_count": 146,
      "outputs": []
    },
    {
      "cell_type": "code",
      "metadata": {
        "colab": {
          "base_uri": "https://localhost:8080/"
        },
        "id": "WNNbW5ec0y7W",
        "outputId": "28459db1-d6d5-415a-eaac-7efc0171b131"
      },
      "source": [
        "# Checking the Dataframe after filling the numeric_null_cols wiht the simple imputer.\n",
        "df.isnull().sum()"
      ],
      "execution_count": 147,
      "outputs": [
        {
          "output_type": "execute_result",
          "data": {
            "text/plain": [
              "IsBadBuy                             0\n",
              "PurchDate                            0\n",
              "Auction                              0\n",
              "VehicleAge                           0\n",
              "Make                                 0\n",
              "Model                                0\n",
              "Trim                                 0\n",
              "SubModel                             0\n",
              "Color                                0\n",
              "Transmission                         0\n",
              "WheelTypeID                          0\n",
              "WheelType                            0\n",
              "VehOdo                               0\n",
              "Nationality                          0\n",
              "Size                                 0\n",
              "TopThreeAmericanName                 0\n",
              "MMRAcquisitionAuctionAveragePrice    0\n",
              "MMRAcquisitionAuctionCleanPrice      0\n",
              "MMRAcquisitionRetailAveragePrice     0\n",
              "MMRAcquisitonRetailCleanPrice        0\n",
              "MMRCurrentAuctionAveragePrice        0\n",
              "MMRCurrentAuctionCleanPrice          0\n",
              "MMRCurrentRetailAveragePrice         0\n",
              "MMRCurrentRetailCleanPrice           0\n",
              "BYRNO                                0\n",
              "VNZIP1                               0\n",
              "VNST                                 0\n",
              "VehBCost                             0\n",
              "IsOnlineSale                         0\n",
              "WarrantyCost                         0\n",
              "dtype: int64"
            ]
          },
          "metadata": {
            "tags": []
          },
          "execution_count": 147
        }
      ]
    },
    {
      "cell_type": "markdown",
      "metadata": {
        "id": "Hhx9-4Yk1Cx_"
      },
      "source": [
        "Conclusion : We have successfully filled the Numerical Null columns "
      ]
    },
    {
      "cell_type": "code",
      "metadata": {
        "id": "-VzSIKv81kct"
      },
      "source": [
        "#as we have a date column we need to convert it into separate columns\n",
        "df['year'] = pd.DatetimeIndex(df['PurchDate']).year\n",
        "df['month'] = pd.DatetimeIndex(df['PurchDate']).month\n",
        "df['date'] = pd.DatetimeIndex(df['PurchDate']).day"
      ],
      "execution_count": 148,
      "outputs": []
    },
    {
      "cell_type": "code",
      "metadata": {
        "colab": {
          "base_uri": "https://localhost:8080/",
          "height": 739
        },
        "id": "NwL_d_QV1n4i",
        "outputId": "0d146747-0b99-4b96-a87e-c1b4e8704e76"
      },
      "source": [
        "#Checking the DataFrame after Adding Year,Month and Date columns.\n",
        "df"
      ],
      "execution_count": 149,
      "outputs": [
        {
          "output_type": "execute_result",
          "data": {
            "text/html": [
              "<div>\n",
              "<style scoped>\n",
              "    .dataframe tbody tr th:only-of-type {\n",
              "        vertical-align: middle;\n",
              "    }\n",
              "\n",
              "    .dataframe tbody tr th {\n",
              "        vertical-align: top;\n",
              "    }\n",
              "\n",
              "    .dataframe thead th {\n",
              "        text-align: right;\n",
              "    }\n",
              "</style>\n",
              "<table border=\"1\" class=\"dataframe\">\n",
              "  <thead>\n",
              "    <tr style=\"text-align: right;\">\n",
              "      <th></th>\n",
              "      <th>IsBadBuy</th>\n",
              "      <th>PurchDate</th>\n",
              "      <th>Auction</th>\n",
              "      <th>VehicleAge</th>\n",
              "      <th>Make</th>\n",
              "      <th>Model</th>\n",
              "      <th>Trim</th>\n",
              "      <th>SubModel</th>\n",
              "      <th>Color</th>\n",
              "      <th>Transmission</th>\n",
              "      <th>WheelTypeID</th>\n",
              "      <th>WheelType</th>\n",
              "      <th>VehOdo</th>\n",
              "      <th>Nationality</th>\n",
              "      <th>Size</th>\n",
              "      <th>TopThreeAmericanName</th>\n",
              "      <th>MMRAcquisitionAuctionAveragePrice</th>\n",
              "      <th>MMRAcquisitionAuctionCleanPrice</th>\n",
              "      <th>MMRAcquisitionRetailAveragePrice</th>\n",
              "      <th>MMRAcquisitonRetailCleanPrice</th>\n",
              "      <th>MMRCurrentAuctionAveragePrice</th>\n",
              "      <th>MMRCurrentAuctionCleanPrice</th>\n",
              "      <th>MMRCurrentRetailAveragePrice</th>\n",
              "      <th>MMRCurrentRetailCleanPrice</th>\n",
              "      <th>BYRNO</th>\n",
              "      <th>VNZIP1</th>\n",
              "      <th>VNST</th>\n",
              "      <th>VehBCost</th>\n",
              "      <th>IsOnlineSale</th>\n",
              "      <th>WarrantyCost</th>\n",
              "      <th>year</th>\n",
              "      <th>month</th>\n",
              "      <th>date</th>\n",
              "    </tr>\n",
              "  </thead>\n",
              "  <tbody>\n",
              "    <tr>\n",
              "      <th>0</th>\n",
              "      <td>0</td>\n",
              "      <td>12/7/2009</td>\n",
              "      <td>ADESA</td>\n",
              "      <td>3</td>\n",
              "      <td>MAZDA</td>\n",
              "      <td>MAZDA3</td>\n",
              "      <td>i</td>\n",
              "      <td>4D SEDAN I</td>\n",
              "      <td>RED</td>\n",
              "      <td>AUTO</td>\n",
              "      <td>1.000000</td>\n",
              "      <td>Alloy</td>\n",
              "      <td>89046</td>\n",
              "      <td>OTHER ASIAN</td>\n",
              "      <td>MEDIUM</td>\n",
              "      <td>OTHER</td>\n",
              "      <td>8155.0</td>\n",
              "      <td>9829.0</td>\n",
              "      <td>11636.0</td>\n",
              "      <td>13600.0</td>\n",
              "      <td>7451.0</td>\n",
              "      <td>8552.0</td>\n",
              "      <td>11597.0</td>\n",
              "      <td>12409.0</td>\n",
              "      <td>21973</td>\n",
              "      <td>33619</td>\n",
              "      <td>FL</td>\n",
              "      <td>7100.0</td>\n",
              "      <td>0</td>\n",
              "      <td>1113</td>\n",
              "      <td>2009</td>\n",
              "      <td>12</td>\n",
              "      <td>7</td>\n",
              "    </tr>\n",
              "    <tr>\n",
              "      <th>1</th>\n",
              "      <td>0</td>\n",
              "      <td>12/7/2009</td>\n",
              "      <td>ADESA</td>\n",
              "      <td>5</td>\n",
              "      <td>DODGE</td>\n",
              "      <td>1500 RAM PICKUP 2WD</td>\n",
              "      <td>ST</td>\n",
              "      <td>QUAD CAB 4.7L SLT</td>\n",
              "      <td>WHITE</td>\n",
              "      <td>AUTO</td>\n",
              "      <td>1.000000</td>\n",
              "      <td>Alloy</td>\n",
              "      <td>93593</td>\n",
              "      <td>AMERICAN</td>\n",
              "      <td>LARGE TRUCK</td>\n",
              "      <td>CHRYSLER</td>\n",
              "      <td>6854.0</td>\n",
              "      <td>8383.0</td>\n",
              "      <td>10897.0</td>\n",
              "      <td>12572.0</td>\n",
              "      <td>7456.0</td>\n",
              "      <td>9222.0</td>\n",
              "      <td>11374.0</td>\n",
              "      <td>12791.0</td>\n",
              "      <td>19638</td>\n",
              "      <td>33619</td>\n",
              "      <td>FL</td>\n",
              "      <td>7600.0</td>\n",
              "      <td>0</td>\n",
              "      <td>1053</td>\n",
              "      <td>2009</td>\n",
              "      <td>12</td>\n",
              "      <td>7</td>\n",
              "    </tr>\n",
              "    <tr>\n",
              "      <th>2</th>\n",
              "      <td>0</td>\n",
              "      <td>12/7/2009</td>\n",
              "      <td>ADESA</td>\n",
              "      <td>4</td>\n",
              "      <td>DODGE</td>\n",
              "      <td>STRATUS V6</td>\n",
              "      <td>SXT</td>\n",
              "      <td>4D SEDAN SXT FFV</td>\n",
              "      <td>MAROON</td>\n",
              "      <td>AUTO</td>\n",
              "      <td>2.000000</td>\n",
              "      <td>Covers</td>\n",
              "      <td>73807</td>\n",
              "      <td>AMERICAN</td>\n",
              "      <td>MEDIUM</td>\n",
              "      <td>CHRYSLER</td>\n",
              "      <td>3202.0</td>\n",
              "      <td>4760.0</td>\n",
              "      <td>6943.0</td>\n",
              "      <td>8457.0</td>\n",
              "      <td>4035.0</td>\n",
              "      <td>5557.0</td>\n",
              "      <td>7146.0</td>\n",
              "      <td>8702.0</td>\n",
              "      <td>19638</td>\n",
              "      <td>33619</td>\n",
              "      <td>FL</td>\n",
              "      <td>4900.0</td>\n",
              "      <td>0</td>\n",
              "      <td>1389</td>\n",
              "      <td>2009</td>\n",
              "      <td>12</td>\n",
              "      <td>7</td>\n",
              "    </tr>\n",
              "    <tr>\n",
              "      <th>3</th>\n",
              "      <td>0</td>\n",
              "      <td>12/7/2009</td>\n",
              "      <td>ADESA</td>\n",
              "      <td>5</td>\n",
              "      <td>DODGE</td>\n",
              "      <td>NEON</td>\n",
              "      <td>SXT</td>\n",
              "      <td>4D SEDAN</td>\n",
              "      <td>SILVER</td>\n",
              "      <td>AUTO</td>\n",
              "      <td>1.000000</td>\n",
              "      <td>Alloy</td>\n",
              "      <td>65617</td>\n",
              "      <td>AMERICAN</td>\n",
              "      <td>COMPACT</td>\n",
              "      <td>CHRYSLER</td>\n",
              "      <td>1893.0</td>\n",
              "      <td>2675.0</td>\n",
              "      <td>4658.0</td>\n",
              "      <td>5690.0</td>\n",
              "      <td>1844.0</td>\n",
              "      <td>2646.0</td>\n",
              "      <td>4375.0</td>\n",
              "      <td>5518.0</td>\n",
              "      <td>19638</td>\n",
              "      <td>33619</td>\n",
              "      <td>FL</td>\n",
              "      <td>4100.0</td>\n",
              "      <td>0</td>\n",
              "      <td>630</td>\n",
              "      <td>2009</td>\n",
              "      <td>12</td>\n",
              "      <td>7</td>\n",
              "    </tr>\n",
              "    <tr>\n",
              "      <th>4</th>\n",
              "      <td>0</td>\n",
              "      <td>12/7/2009</td>\n",
              "      <td>ADESA</td>\n",
              "      <td>4</td>\n",
              "      <td>FORD</td>\n",
              "      <td>FOCUS</td>\n",
              "      <td>ZX3</td>\n",
              "      <td>2D COUPE ZX3</td>\n",
              "      <td>SILVER</td>\n",
              "      <td>MANUAL</td>\n",
              "      <td>2.000000</td>\n",
              "      <td>Covers</td>\n",
              "      <td>69367</td>\n",
              "      <td>AMERICAN</td>\n",
              "      <td>COMPACT</td>\n",
              "      <td>FORD</td>\n",
              "      <td>3913.0</td>\n",
              "      <td>5054.0</td>\n",
              "      <td>7723.0</td>\n",
              "      <td>8707.0</td>\n",
              "      <td>3247.0</td>\n",
              "      <td>4384.0</td>\n",
              "      <td>6739.0</td>\n",
              "      <td>7911.0</td>\n",
              "      <td>19638</td>\n",
              "      <td>33619</td>\n",
              "      <td>FL</td>\n",
              "      <td>4000.0</td>\n",
              "      <td>0</td>\n",
              "      <td>1020</td>\n",
              "      <td>2009</td>\n",
              "      <td>12</td>\n",
              "      <td>7</td>\n",
              "    </tr>\n",
              "    <tr>\n",
              "      <th>...</th>\n",
              "      <td>...</td>\n",
              "      <td>...</td>\n",
              "      <td>...</td>\n",
              "      <td>...</td>\n",
              "      <td>...</td>\n",
              "      <td>...</td>\n",
              "      <td>...</td>\n",
              "      <td>...</td>\n",
              "      <td>...</td>\n",
              "      <td>...</td>\n",
              "      <td>...</td>\n",
              "      <td>...</td>\n",
              "      <td>...</td>\n",
              "      <td>...</td>\n",
              "      <td>...</td>\n",
              "      <td>...</td>\n",
              "      <td>...</td>\n",
              "      <td>...</td>\n",
              "      <td>...</td>\n",
              "      <td>...</td>\n",
              "      <td>...</td>\n",
              "      <td>...</td>\n",
              "      <td>...</td>\n",
              "      <td>...</td>\n",
              "      <td>...</td>\n",
              "      <td>...</td>\n",
              "      <td>...</td>\n",
              "      <td>...</td>\n",
              "      <td>...</td>\n",
              "      <td>...</td>\n",
              "      <td>...</td>\n",
              "      <td>...</td>\n",
              "      <td>...</td>\n",
              "    </tr>\n",
              "    <tr>\n",
              "      <th>72978</th>\n",
              "      <td>1</td>\n",
              "      <td>12/2/2009</td>\n",
              "      <td>ADESA</td>\n",
              "      <td>8</td>\n",
              "      <td>MERCURY</td>\n",
              "      <td>SABLE</td>\n",
              "      <td>GS</td>\n",
              "      <td>4D SEDAN GS</td>\n",
              "      <td>BLACK</td>\n",
              "      <td>AUTO</td>\n",
              "      <td>1.000000</td>\n",
              "      <td>Alloy</td>\n",
              "      <td>45234</td>\n",
              "      <td>AMERICAN</td>\n",
              "      <td>MEDIUM</td>\n",
              "      <td>FORD</td>\n",
              "      <td>1996.0</td>\n",
              "      <td>2993.0</td>\n",
              "      <td>2656.0</td>\n",
              "      <td>3732.0</td>\n",
              "      <td>2190.0</td>\n",
              "      <td>3055.0</td>\n",
              "      <td>4836.0</td>\n",
              "      <td>5937.0</td>\n",
              "      <td>18111</td>\n",
              "      <td>30212</td>\n",
              "      <td>GA</td>\n",
              "      <td>4200.0</td>\n",
              "      <td>0</td>\n",
              "      <td>993</td>\n",
              "      <td>2009</td>\n",
              "      <td>12</td>\n",
              "      <td>2</td>\n",
              "    </tr>\n",
              "    <tr>\n",
              "      <th>72979</th>\n",
              "      <td>0</td>\n",
              "      <td>12/2/2009</td>\n",
              "      <td>ADESA</td>\n",
              "      <td>2</td>\n",
              "      <td>CHEVROLET</td>\n",
              "      <td>MALIBU 4C</td>\n",
              "      <td>LS</td>\n",
              "      <td>4D SEDAN LS</td>\n",
              "      <td>SILVER</td>\n",
              "      <td>AUTO</td>\n",
              "      <td>1.494299</td>\n",
              "      <td>Alloy</td>\n",
              "      <td>71759</td>\n",
              "      <td>AMERICAN</td>\n",
              "      <td>MEDIUM</td>\n",
              "      <td>GM</td>\n",
              "      <td>6418.0</td>\n",
              "      <td>7325.0</td>\n",
              "      <td>7431.0</td>\n",
              "      <td>8411.0</td>\n",
              "      <td>6785.0</td>\n",
              "      <td>8132.0</td>\n",
              "      <td>10151.0</td>\n",
              "      <td>11652.0</td>\n",
              "      <td>18881</td>\n",
              "      <td>30212</td>\n",
              "      <td>GA</td>\n",
              "      <td>6200.0</td>\n",
              "      <td>0</td>\n",
              "      <td>1038</td>\n",
              "      <td>2009</td>\n",
              "      <td>12</td>\n",
              "      <td>2</td>\n",
              "    </tr>\n",
              "    <tr>\n",
              "      <th>72980</th>\n",
              "      <td>0</td>\n",
              "      <td>12/2/2009</td>\n",
              "      <td>ADESA</td>\n",
              "      <td>4</td>\n",
              "      <td>JEEP</td>\n",
              "      <td>GRAND CHEROKEE 2WD V</td>\n",
              "      <td>Lar</td>\n",
              "      <td>4D WAGON LAREDO</td>\n",
              "      <td>SILVER</td>\n",
              "      <td>AUTO</td>\n",
              "      <td>1.000000</td>\n",
              "      <td>Alloy</td>\n",
              "      <td>88500</td>\n",
              "      <td>AMERICAN</td>\n",
              "      <td>MEDIUM SUV</td>\n",
              "      <td>CHRYSLER</td>\n",
              "      <td>8545.0</td>\n",
              "      <td>9959.0</td>\n",
              "      <td>9729.0</td>\n",
              "      <td>11256.0</td>\n",
              "      <td>8375.0</td>\n",
              "      <td>9802.0</td>\n",
              "      <td>11831.0</td>\n",
              "      <td>14402.0</td>\n",
              "      <td>18111</td>\n",
              "      <td>30212</td>\n",
              "      <td>GA</td>\n",
              "      <td>8200.0</td>\n",
              "      <td>0</td>\n",
              "      <td>1893</td>\n",
              "      <td>2009</td>\n",
              "      <td>12</td>\n",
              "      <td>2</td>\n",
              "    </tr>\n",
              "    <tr>\n",
              "      <th>72981</th>\n",
              "      <td>0</td>\n",
              "      <td>12/2/2009</td>\n",
              "      <td>ADESA</td>\n",
              "      <td>3</td>\n",
              "      <td>CHEVROLET</td>\n",
              "      <td>IMPALA</td>\n",
              "      <td>LS</td>\n",
              "      <td>4D SEDAN LS</td>\n",
              "      <td>WHITE</td>\n",
              "      <td>AUTO</td>\n",
              "      <td>1.000000</td>\n",
              "      <td>Alloy</td>\n",
              "      <td>79554</td>\n",
              "      <td>AMERICAN</td>\n",
              "      <td>LARGE</td>\n",
              "      <td>GM</td>\n",
              "      <td>6420.0</td>\n",
              "      <td>7604.0</td>\n",
              "      <td>7434.0</td>\n",
              "      <td>8712.0</td>\n",
              "      <td>6590.0</td>\n",
              "      <td>7684.0</td>\n",
              "      <td>10099.0</td>\n",
              "      <td>11228.0</td>\n",
              "      <td>18881</td>\n",
              "      <td>30212</td>\n",
              "      <td>GA</td>\n",
              "      <td>7000.0</td>\n",
              "      <td>0</td>\n",
              "      <td>1974</td>\n",
              "      <td>2009</td>\n",
              "      <td>12</td>\n",
              "      <td>2</td>\n",
              "    </tr>\n",
              "    <tr>\n",
              "      <th>72982</th>\n",
              "      <td>0</td>\n",
              "      <td>12/2/2009</td>\n",
              "      <td>ADESA</td>\n",
              "      <td>3</td>\n",
              "      <td>MAZDA</td>\n",
              "      <td>MAZDA6</td>\n",
              "      <td>s</td>\n",
              "      <td>4D SEDAN S</td>\n",
              "      <td>SILVER</td>\n",
              "      <td>AUTO</td>\n",
              "      <td>1.000000</td>\n",
              "      <td>Alloy</td>\n",
              "      <td>66855</td>\n",
              "      <td>OTHER ASIAN</td>\n",
              "      <td>MEDIUM</td>\n",
              "      <td>OTHER</td>\n",
              "      <td>7535.0</td>\n",
              "      <td>8771.0</td>\n",
              "      <td>8638.0</td>\n",
              "      <td>9973.0</td>\n",
              "      <td>7730.0</td>\n",
              "      <td>9102.0</td>\n",
              "      <td>11954.0</td>\n",
              "      <td>13246.0</td>\n",
              "      <td>18111</td>\n",
              "      <td>30212</td>\n",
              "      <td>GA</td>\n",
              "      <td>8000.0</td>\n",
              "      <td>0</td>\n",
              "      <td>1313</td>\n",
              "      <td>2009</td>\n",
              "      <td>12</td>\n",
              "      <td>2</td>\n",
              "    </tr>\n",
              "  </tbody>\n",
              "</table>\n",
              "<p>72983 rows × 33 columns</p>\n",
              "</div>"
            ],
            "text/plain": [
              "       IsBadBuy  PurchDate Auction  VehicleAge  ... WarrantyCost  year month date\n",
              "0             0  12/7/2009   ADESA           3  ...         1113  2009    12    7\n",
              "1             0  12/7/2009   ADESA           5  ...         1053  2009    12    7\n",
              "2             0  12/7/2009   ADESA           4  ...         1389  2009    12    7\n",
              "3             0  12/7/2009   ADESA           5  ...          630  2009    12    7\n",
              "4             0  12/7/2009   ADESA           4  ...         1020  2009    12    7\n",
              "...         ...        ...     ...         ...  ...          ...   ...   ...  ...\n",
              "72978         1  12/2/2009   ADESA           8  ...          993  2009    12    2\n",
              "72979         0  12/2/2009   ADESA           2  ...         1038  2009    12    2\n",
              "72980         0  12/2/2009   ADESA           4  ...         1893  2009    12    2\n",
              "72981         0  12/2/2009   ADESA           3  ...         1974  2009    12    2\n",
              "72982         0  12/2/2009   ADESA           3  ...         1313  2009    12    2\n",
              "\n",
              "[72983 rows x 33 columns]"
            ]
          },
          "metadata": {
            "tags": []
          },
          "execution_count": 149
        }
      ]
    },
    {
      "cell_type": "code",
      "metadata": {
        "id": "DzRDB_80102L"
      },
      "source": [
        "#removing PurchDate Column\n",
        "df.drop('PurchDate',1,inplace=True)"
      ],
      "execution_count": 150,
      "outputs": []
    },
    {
      "cell_type": "code",
      "metadata": {
        "id": "usVywcwzu1of"
      },
      "source": [
        "# Making a dataframe with only Bad Purchases.\n",
        "bad_buy_df = df[df['IsBadBuy']==1]"
      ],
      "execution_count": 151,
      "outputs": []
    },
    {
      "cell_type": "code",
      "metadata": {
        "id": "n10svWMJwaml",
        "colab": {
          "base_uri": "https://localhost:8080/",
          "height": 356
        },
        "outputId": "1ab12cc2-315a-4707-cd5a-3c1b27b2f95a"
      },
      "source": [
        "# Checking in which year we have most number of Bad Purchases.\n",
        "sns.countplot(bad_buy_df['year'])"
      ],
      "execution_count": 152,
      "outputs": [
        {
          "output_type": "stream",
          "text": [
            "/usr/local/lib/python3.7/dist-packages/seaborn/_decorators.py:43: FutureWarning: Pass the following variable as a keyword arg: x. From version 0.12, the only valid positional argument will be `data`, and passing other arguments without an explicit keyword will result in an error or misinterpretation.\n",
            "  FutureWarning\n"
          ],
          "name": "stderr"
        },
        {
          "output_type": "execute_result",
          "data": {
            "text/plain": [
              "<matplotlib.axes._subplots.AxesSubplot at 0x7fe689bc0590>"
            ]
          },
          "metadata": {
            "tags": []
          },
          "execution_count": 152
        },
        {
          "output_type": "display_data",
          "data": {
            "image/png": "[encoded data removed]",
            "text/plain": [
              "<Figure size 432x288 with 1 Axes>"
            ]
          },
          "metadata": {
            "tags": [],
            "needs_background": "light"
          }
        }
      ]
    },
    {
      "cell_type": "code",
      "metadata": {
        "id": "YF0ce5Znvm6l",
        "colab": {
          "base_uri": "https://localhost:8080/",
          "height": 356
        },
        "outputId": "68c08db9-dbbb-4e13-adb2-e5eeb7b890a4"
      },
      "source": [
        "# Checking Based on month for year 2009\n",
        "year_2009 = df[df['year']==2009]\n",
        "sns.countplot(year_2009['month'])"
      ],
      "execution_count": 153,
      "outputs": [
        {
          "output_type": "stream",
          "text": [
            "/usr/local/lib/python3.7/dist-packages/seaborn/_decorators.py:43: FutureWarning: Pass the following variable as a keyword arg: x. From version 0.12, the only valid positional argument will be `data`, and passing other arguments without an explicit keyword will result in an error or misinterpretation.\n",
            "  FutureWarning\n"
          ],
          "name": "stderr"
        },
        {
          "output_type": "execute_result",
          "data": {
            "text/plain": [
              "<matplotlib.axes._subplots.AxesSubplot at 0x7fe6880dbb90>"
            ]
          },
          "metadata": {
            "tags": []
          },
          "execution_count": 153
        },
        {
          "output_type": "display_data",
          "data": {
            "image/png": "[encoded data removed]",
            "text/plain": [
              "<Figure size 432x288 with 1 Axes>"
            ]
          },
          "metadata": {
            "tags": [],
            "needs_background": "light"
          }
        }
      ]
    },
    {
      "cell_type": "code",
      "metadata": {
        "id": "dk-D7gN5vmpQ",
        "colab": {
          "base_uri": "https://localhost:8080/",
          "height": 356
        },
        "outputId": "21a57d6c-4f91-439f-8934-59e1c8e18a18"
      },
      "source": [
        "# Checking Based on month for year 2009\n",
        "year_2010 = df[df['year']==2010]\n",
        "sns.countplot(year_2010['month'])"
      ],
      "execution_count": 154,
      "outputs": [
        {
          "output_type": "stream",
          "text": [
            "/usr/local/lib/python3.7/dist-packages/seaborn/_decorators.py:43: FutureWarning: Pass the following variable as a keyword arg: x. From version 0.12, the only valid positional argument will be `data`, and passing other arguments without an explicit keyword will result in an error or misinterpretation.\n",
            "  FutureWarning\n"
          ],
          "name": "stderr"
        },
        {
          "output_type": "execute_result",
          "data": {
            "text/plain": [
              "<matplotlib.axes._subplots.AxesSubplot at 0x7fe68805d8d0>"
            ]
          },
          "metadata": {
            "tags": []
          },
          "execution_count": 154
        },
        {
          "output_type": "display_data",
          "data": {
            "image/png": "[encoded data removed]",
            "text/plain": [
              "<Figure size 432x288 with 1 Axes>"
            ]
          },
          "metadata": {
            "tags": [],
            "needs_background": "light"
          }
        }
      ]
    },
    {
      "cell_type": "code",
      "metadata": {
        "id": "fI5qUD3Hu1R3",
        "colab": {
          "base_uri": "https://localhost:8080/",
          "height": 356
        },
        "outputId": "d6234290-9447-41d1-c364-7201ec66b150"
      },
      "source": [
        "# Checking whether the Auction showing any impact on Bad Buy.\n",
        "sns.countplot(bad_buy_df['Auction'],hue=bad_buy_df['year'])"
      ],
      "execution_count": 155,
      "outputs": [
        {
          "output_type": "stream",
          "text": [
            "/usr/local/lib/python3.7/dist-packages/seaborn/_decorators.py:43: FutureWarning: Pass the following variable as a keyword arg: x. From version 0.12, the only valid positional argument will be `data`, and passing other arguments without an explicit keyword will result in an error or misinterpretation.\n",
            "  FutureWarning\n"
          ],
          "name": "stderr"
        },
        {
          "output_type": "execute_result",
          "data": {
            "text/plain": [
              "<matplotlib.axes._subplots.AxesSubplot at 0x7fe687f8ff10>"
            ]
          },
          "metadata": {
            "tags": []
          },
          "execution_count": 155
        },
        {
          "output_type": "display_data",
          "data": {
            "image/png": "[encoded data removed]",
            "text/plain": [
              "<Figure size 432x288 with 1 Axes>"
            ]
          },
          "metadata": {
            "tags": [],
            "needs_background": "light"
          }
        }
      ]
    },
    {
      "cell_type": "code",
      "metadata": {
        "id": "jtBvfRe4x6a8",
        "colab": {
          "base_uri": "https://localhost:8080/",
          "height": 947
        },
        "outputId": "50f511bb-c945-40bc-f4fd-7e15fdb2c28f"
      },
      "source": [
        "plt.figure(figsize=(20,14))\n",
        "bad_buy_df[\"Model\"].value_counts().head(30).plot(kind='bar')"
      ],
      "execution_count": 156,
      "outputs": [
        {
          "output_type": "execute_result",
          "data": {
            "text/plain": [
              "<matplotlib.axes._subplots.AxesSubplot at 0x7fe687f87a10>"
            ]
          },
          "metadata": {
            "tags": []
          },
          "execution_count": 156
        },
        {
          "output_type": "display_data",
          "data": {
            "image/png": "[encoded data removed]",
            "text/plain": [
              "<Figure size 1440x1008 with 1 Axes>"
            ]
          },
          "metadata": {
            "tags": [],
            "needs_background": "light"
          }
        }
      ]
    },
    {
      "cell_type": "code",
      "metadata": {
        "id": "sovtveK7xfXu",
        "colab": {
          "base_uri": "https://localhost:8080/",
          "height": 791
        },
        "outputId": "10aa8c71-bd31-4ef2-9b88-979b072fdf97"
      },
      "source": [
        "plt.figure(figsize=(18,12))\n",
        "sns.scatterplot(bad_buy_df['Color'],bad_buy_df['MMRCurrentAuctionAveragePrice'])"
      ],
      "execution_count": 157,
      "outputs": [
        {
          "output_type": "stream",
          "text": [
            "/usr/local/lib/python3.7/dist-packages/seaborn/_decorators.py:43: FutureWarning: Pass the following variables as keyword args: x, y. From version 0.12, the only valid positional argument will be `data`, and passing other arguments without an explicit keyword will result in an error or misinterpretation.\n",
            "  FutureWarning\n"
          ],
          "name": "stderr"
        },
        {
          "output_type": "execute_result",
          "data": {
            "text/plain": [
              "<matplotlib.axes._subplots.AxesSubplot at 0x7fe687f8ce10>"
            ]
          },
          "metadata": {
            "tags": []
          },
          "execution_count": 157
        },
        {
          "output_type": "display_data",
          "data": {
            "image/png": "[encoded data removed]",
            "text/plain": [
              "<Figure size 1296x864 with 1 Axes>"
            ]
          },
          "metadata": {
            "tags": [],
            "needs_background": "light"
          }
        }
      ]
    },
    {
      "cell_type": "code",
      "metadata": {
        "id": "RupGXHyf2GxY"
      },
      "source": [
        "# Extracting all the Categorical columns from the Dataset.\n",
        "categorical_cols = [column for column in df.columns if column in df.select_dtypes(include=\"O\")]"
      ],
      "execution_count": 158,
      "outputs": []
    },
    {
      "cell_type": "code",
      "metadata": {
        "id": "3cS3YdoCNKPI"
      },
      "source": [
        "columns_with_high_labels=[]\n",
        "for column in categorical_cols:\n",
        "  labels = df[column].nunique()\n",
        "  if labels > 20:\n",
        "    columns_with_high_labels.append(column)"
      ],
      "execution_count": 159,
      "outputs": []
    },
    {
      "cell_type": "markdown",
      "metadata": {
        "id": "qw4nyLzLNKDf"
      },
      "source": [
        "\n",
        "Conclusion : As we see columns like Make,Model,Trim,SubModel & VNST has very high number of labels , so after the mapping we don't see them in the Categorical columns\n",
        "#columns_with_high_labels"
      ]
    },
    {
      "cell_type": "code",
      "metadata": {
        "id": "dy_o_RZn2LpI"
      },
      "source": [
        "# Mapping the Categorical columns with integers which has high labels.\n",
        "# Mapping Make column.\n",
        "labels = list(df['Make'].unique())\n",
        "make_dict = {i:k for k ,i in enumerate(labels,0)}\n",
        "df['Make'] = df['Make'].map(make_dict)"
      ],
      "execution_count": 160,
      "outputs": []
    },
    {
      "cell_type": "code",
      "metadata": {
        "id": "JciIr0I4H6EX"
      },
      "source": [
        "# Mapping Model column.\n",
        "labels = list(df['Model'].unique())\n",
        "model_dict = {i:k for k ,i in enumerate(labels,0)}\n",
        "df['Model'] = df['Model'].map(model_dict)"
      ],
      "execution_count": 161,
      "outputs": []
    },
    {
      "cell_type": "code",
      "metadata": {
        "id": "DvVLP99qOhG6"
      },
      "source": [
        "# Mapping Trim column.\n",
        "labels = list(df['Trim'].unique())\n",
        "trim_dict = {i:k for k ,i in enumerate(labels,0)}\n",
        "df['Trim'] = df['Trim'].map(trim_dict)"
      ],
      "execution_count": 162,
      "outputs": []
    },
    {
      "cell_type": "code",
      "metadata": {
        "id": "AnOWQ5lQOhBZ"
      },
      "source": [
        "# Mapping SubModel column.\n",
        "labels = list(df['SubModel'].unique())\n",
        "submodel_dict = {i:k for k ,i in enumerate(labels,0)}\n",
        "df['SubModel'] = df['SubModel'].map(submodel_dict)"
      ],
      "execution_count": 163,
      "outputs": []
    },
    {
      "cell_type": "code",
      "metadata": {
        "id": "wKpoux35Og65"
      },
      "source": [
        "# Mapping VNST column.\n",
        "labels = list(df[\"VNST\"].unique())\n",
        "vnst_dict = {i:k for k ,i in enumerate(labels,0)}\n",
        "df['VNST'] = df['VNST'].map(vnst_dict)"
      ],
      "execution_count": 164,
      "outputs": []
    },
    {
      "cell_type": "code",
      "metadata": {
        "colab": {
          "base_uri": "https://localhost:8080/",
          "height": 513
        },
        "id": "NkrppjvT2SjQ",
        "outputId": "c8a275f3-37ee-4c93-8d1b-7b437f75b8e0"
      },
      "source": [
        "# Checking the DataFrame after the Transformation.\n",
        "df"
      ],
      "execution_count": 165,
      "outputs": [
        {
          "output_type": "execute_result",
          "data": {
            "text/html": [
              "<div>\n",
              "<style scoped>\n",
              "    .dataframe tbody tr th:only-of-type {\n",
              "        vertical-align: middle;\n",
              "    }\n",
              "\n",
              "    .dataframe tbody tr th {\n",
              "        vertical-align: top;\n",
              "    }\n",
              "\n",
              "    .dataframe thead th {\n",
              "        text-align: right;\n",
              "    }\n",
              "</style>\n",
              "<table border=\"1\" class=\"dataframe\">\n",
              "  <thead>\n",
              "    <tr style=\"text-align: right;\">\n",
              "      <th></th>\n",
              "      <th>IsBadBuy</th>\n",
              "      <th>Auction</th>\n",
              "      <th>VehicleAge</th>\n",
              "      <th>Make</th>\n",
              "      <th>Model</th>\n",
              "      <th>Trim</th>\n",
              "      <th>SubModel</th>\n",
              "      <th>Color</th>\n",
              "      <th>Transmission</th>\n",
              "      <th>WheelTypeID</th>\n",
              "      <th>WheelType</th>\n",
              "      <th>VehOdo</th>\n",
              "      <th>Nationality</th>\n",
              "      <th>Size</th>\n",
              "      <th>TopThreeAmericanName</th>\n",
              "      <th>MMRAcquisitionAuctionAveragePrice</th>\n",
              "      <th>MMRAcquisitionAuctionCleanPrice</th>\n",
              "      <th>MMRAcquisitionRetailAveragePrice</th>\n",
              "      <th>MMRAcquisitonRetailCleanPrice</th>\n",
              "      <th>MMRCurrentAuctionAveragePrice</th>\n",
              "      <th>MMRCurrentAuctionCleanPrice</th>\n",
              "      <th>MMRCurrentRetailAveragePrice</th>\n",
              "      <th>MMRCurrentRetailCleanPrice</th>\n",
              "      <th>BYRNO</th>\n",
              "      <th>VNZIP1</th>\n",
              "      <th>VNST</th>\n",
              "      <th>VehBCost</th>\n",
              "      <th>IsOnlineSale</th>\n",
              "      <th>WarrantyCost</th>\n",
              "      <th>year</th>\n",
              "      <th>month</th>\n",
              "      <th>date</th>\n",
              "    </tr>\n",
              "  </thead>\n",
              "  <tbody>\n",
              "    <tr>\n",
              "      <th>0</th>\n",
              "      <td>0</td>\n",
              "      <td>ADESA</td>\n",
              "      <td>3</td>\n",
              "      <td>0</td>\n",
              "      <td>0</td>\n",
              "      <td>0</td>\n",
              "      <td>0</td>\n",
              "      <td>RED</td>\n",
              "      <td>AUTO</td>\n",
              "      <td>1.000000</td>\n",
              "      <td>Alloy</td>\n",
              "      <td>89046</td>\n",
              "      <td>OTHER ASIAN</td>\n",
              "      <td>MEDIUM</td>\n",
              "      <td>OTHER</td>\n",
              "      <td>8155.0</td>\n",
              "      <td>9829.0</td>\n",
              "      <td>11636.0</td>\n",
              "      <td>13600.0</td>\n",
              "      <td>7451.0</td>\n",
              "      <td>8552.0</td>\n",
              "      <td>11597.0</td>\n",
              "      <td>12409.0</td>\n",
              "      <td>21973</td>\n",
              "      <td>33619</td>\n",
              "      <td>0</td>\n",
              "      <td>7100.0</td>\n",
              "      <td>0</td>\n",
              "      <td>1113</td>\n",
              "      <td>2009</td>\n",
              "      <td>12</td>\n",
              "      <td>7</td>\n",
              "    </tr>\n",
              "    <tr>\n",
              "      <th>1</th>\n",
              "      <td>0</td>\n",
              "      <td>ADESA</td>\n",
              "      <td>5</td>\n",
              "      <td>1</td>\n",
              "      <td>1</td>\n",
              "      <td>1</td>\n",
              "      <td>1</td>\n",
              "      <td>WHITE</td>\n",
              "      <td>AUTO</td>\n",
              "      <td>1.000000</td>\n",
              "      <td>Alloy</td>\n",
              "      <td>93593</td>\n",
              "      <td>AMERICAN</td>\n",
              "      <td>LARGE TRUCK</td>\n",
              "      <td>CHRYSLER</td>\n",
              "      <td>6854.0</td>\n",
              "      <td>8383.0</td>\n",
              "      <td>10897.0</td>\n",
              "      <td>12572.0</td>\n",
              "      <td>7456.0</td>\n",
              "      <td>9222.0</td>\n",
              "      <td>11374.0</td>\n",
              "      <td>12791.0</td>\n",
              "      <td>19638</td>\n",
              "      <td>33619</td>\n",
              "      <td>0</td>\n",
              "      <td>7600.0</td>\n",
              "      <td>0</td>\n",
              "      <td>1053</td>\n",
              "      <td>2009</td>\n",
              "      <td>12</td>\n",
              "      <td>7</td>\n",
              "    </tr>\n",
              "    <tr>\n",
              "      <th>2</th>\n",
              "      <td>0</td>\n",
              "      <td>ADESA</td>\n",
              "      <td>4</td>\n",
              "      <td>1</td>\n",
              "      <td>2</td>\n",
              "      <td>2</td>\n",
              "      <td>2</td>\n",
              "      <td>MAROON</td>\n",
              "      <td>AUTO</td>\n",
              "      <td>2.000000</td>\n",
              "      <td>Covers</td>\n",
              "      <td>73807</td>\n",
              "      <td>AMERICAN</td>\n",
              "      <td>MEDIUM</td>\n",
              "      <td>CHRYSLER</td>\n",
              "      <td>3202.0</td>\n",
              "      <td>4760.0</td>\n",
              "      <td>6943.0</td>\n",
              "      <td>8457.0</td>\n",
              "      <td>4035.0</td>\n",
              "      <td>5557.0</td>\n",
              "      <td>7146.0</td>\n",
              "      <td>8702.0</td>\n",
              "      <td>19638</td>\n",
              "      <td>33619</td>\n",
              "      <td>0</td>\n",
              "      <td>4900.0</td>\n",
              "      <td>0</td>\n",
              "      <td>1389</td>\n",
              "      <td>2009</td>\n",
              "      <td>12</td>\n",
              "      <td>7</td>\n",
              "    </tr>\n",
              "    <tr>\n",
              "      <th>3</th>\n",
              "      <td>0</td>\n",
              "      <td>ADESA</td>\n",
              "      <td>5</td>\n",
              "      <td>1</td>\n",
              "      <td>3</td>\n",
              "      <td>2</td>\n",
              "      <td>3</td>\n",
              "      <td>SILVER</td>\n",
              "      <td>AUTO</td>\n",
              "      <td>1.000000</td>\n",
              "      <td>Alloy</td>\n",
              "      <td>65617</td>\n",
              "      <td>AMERICAN</td>\n",
              "      <td>COMPACT</td>\n",
              "      <td>CHRYSLER</td>\n",
              "      <td>1893.0</td>\n",
              "      <td>2675.0</td>\n",
              "      <td>4658.0</td>\n",
              "      <td>5690.0</td>\n",
              "      <td>1844.0</td>\n",
              "      <td>2646.0</td>\n",
              "      <td>4375.0</td>\n",
              "      <td>5518.0</td>\n",
              "      <td>19638</td>\n",
              "      <td>33619</td>\n",
              "      <td>0</td>\n",
              "      <td>4100.0</td>\n",
              "      <td>0</td>\n",
              "      <td>630</td>\n",
              "      <td>2009</td>\n",
              "      <td>12</td>\n",
              "      <td>7</td>\n",
              "    </tr>\n",
              "    <tr>\n",
              "      <th>4</th>\n",
              "      <td>0</td>\n",
              "      <td>ADESA</td>\n",
              "      <td>4</td>\n",
              "      <td>2</td>\n",
              "      <td>4</td>\n",
              "      <td>3</td>\n",
              "      <td>4</td>\n",
              "      <td>SILVER</td>\n",
              "      <td>MANUAL</td>\n",
              "      <td>2.000000</td>\n",
              "      <td>Covers</td>\n",
              "      <td>69367</td>\n",
              "      <td>AMERICAN</td>\n",
              "      <td>COMPACT</td>\n",
              "      <td>FORD</td>\n",
              "      <td>3913.0</td>\n",
              "      <td>5054.0</td>\n",
              "      <td>7723.0</td>\n",
              "      <td>8707.0</td>\n",
              "      <td>3247.0</td>\n",
              "      <td>4384.0</td>\n",
              "      <td>6739.0</td>\n",
              "      <td>7911.0</td>\n",
              "      <td>19638</td>\n",
              "      <td>33619</td>\n",
              "      <td>0</td>\n",
              "      <td>4000.0</td>\n",
              "      <td>0</td>\n",
              "      <td>1020</td>\n",
              "      <td>2009</td>\n",
              "      <td>12</td>\n",
              "      <td>7</td>\n",
              "    </tr>\n",
              "    <tr>\n",
              "      <th>...</th>\n",
              "      <td>...</td>\n",
              "      <td>...</td>\n",
              "      <td>...</td>\n",
              "      <td>...</td>\n",
              "      <td>...</td>\n",
              "      <td>...</td>\n",
              "      <td>...</td>\n",
              "      <td>...</td>\n",
              "      <td>...</td>\n",
              "      <td>...</td>\n",
              "      <td>...</td>\n",
              "      <td>...</td>\n",
              "      <td>...</td>\n",
              "      <td>...</td>\n",
              "      <td>...</td>\n",
              "      <td>...</td>\n",
              "      <td>...</td>\n",
              "      <td>...</td>\n",
              "      <td>...</td>\n",
              "      <td>...</td>\n",
              "      <td>...</td>\n",
              "      <td>...</td>\n",
              "      <td>...</td>\n",
              "      <td>...</td>\n",
              "      <td>...</td>\n",
              "      <td>...</td>\n",
              "      <td>...</td>\n",
              "      <td>...</td>\n",
              "      <td>...</td>\n",
              "      <td>...</td>\n",
              "      <td>...</td>\n",
              "      <td>...</td>\n",
              "    </tr>\n",
              "    <tr>\n",
              "      <th>72978</th>\n",
              "      <td>1</td>\n",
              "      <td>ADESA</td>\n",
              "      <td>8</td>\n",
              "      <td>10</td>\n",
              "      <td>22</td>\n",
              "      <td>44</td>\n",
              "      <td>119</td>\n",
              "      <td>BLACK</td>\n",
              "      <td>AUTO</td>\n",
              "      <td>1.000000</td>\n",
              "      <td>Alloy</td>\n",
              "      <td>45234</td>\n",
              "      <td>AMERICAN</td>\n",
              "      <td>MEDIUM</td>\n",
              "      <td>FORD</td>\n",
              "      <td>1996.0</td>\n",
              "      <td>2993.0</td>\n",
              "      <td>2656.0</td>\n",
              "      <td>3732.0</td>\n",
              "      <td>2190.0</td>\n",
              "      <td>3055.0</td>\n",
              "      <td>4836.0</td>\n",
              "      <td>5937.0</td>\n",
              "      <td>18111</td>\n",
              "      <td>30212</td>\n",
              "      <td>14</td>\n",
              "      <td>4200.0</td>\n",
              "      <td>0</td>\n",
              "      <td>993</td>\n",
              "      <td>2009</td>\n",
              "      <td>12</td>\n",
              "      <td>2</td>\n",
              "    </tr>\n",
              "    <tr>\n",
              "      <th>72979</th>\n",
              "      <td>0</td>\n",
              "      <td>ADESA</td>\n",
              "      <td>2</td>\n",
              "      <td>7</td>\n",
              "      <td>104</td>\n",
              "      <td>11</td>\n",
              "      <td>47</td>\n",
              "      <td>SILVER</td>\n",
              "      <td>AUTO</td>\n",
              "      <td>1.494299</td>\n",
              "      <td>Alloy</td>\n",
              "      <td>71759</td>\n",
              "      <td>AMERICAN</td>\n",
              "      <td>MEDIUM</td>\n",
              "      <td>GM</td>\n",
              "      <td>6418.0</td>\n",
              "      <td>7325.0</td>\n",
              "      <td>7431.0</td>\n",
              "      <td>8411.0</td>\n",
              "      <td>6785.0</td>\n",
              "      <td>8132.0</td>\n",
              "      <td>10151.0</td>\n",
              "      <td>11652.0</td>\n",
              "      <td>18881</td>\n",
              "      <td>30212</td>\n",
              "      <td>14</td>\n",
              "      <td>6200.0</td>\n",
              "      <td>0</td>\n",
              "      <td>1038</td>\n",
              "      <td>2009</td>\n",
              "      <td>12</td>\n",
              "      <td>2</td>\n",
              "    </tr>\n",
              "    <tr>\n",
              "      <th>72980</th>\n",
              "      <td>0</td>\n",
              "      <td>ADESA</td>\n",
              "      <td>4</td>\n",
              "      <td>15</td>\n",
              "      <td>103</td>\n",
              "      <td>20</td>\n",
              "      <td>112</td>\n",
              "      <td>SILVER</td>\n",
              "      <td>AUTO</td>\n",
              "      <td>1.000000</td>\n",
              "      <td>Alloy</td>\n",
              "      <td>88500</td>\n",
              "      <td>AMERICAN</td>\n",
              "      <td>MEDIUM SUV</td>\n",
              "      <td>CHRYSLER</td>\n",
              "      <td>8545.0</td>\n",
              "      <td>9959.0</td>\n",
              "      <td>9729.0</td>\n",
              "      <td>11256.0</td>\n",
              "      <td>8375.0</td>\n",
              "      <td>9802.0</td>\n",
              "      <td>11831.0</td>\n",
              "      <td>14402.0</td>\n",
              "      <td>18111</td>\n",
              "      <td>30212</td>\n",
              "      <td>14</td>\n",
              "      <td>8200.0</td>\n",
              "      <td>0</td>\n",
              "      <td>1893</td>\n",
              "      <td>2009</td>\n",
              "      <td>12</td>\n",
              "      <td>2</td>\n",
              "    </tr>\n",
              "    <tr>\n",
              "      <th>72981</th>\n",
              "      <td>0</td>\n",
              "      <td>ADESA</td>\n",
              "      <td>3</td>\n",
              "      <td>7</td>\n",
              "      <td>16</td>\n",
              "      <td>11</td>\n",
              "      <td>47</td>\n",
              "      <td>WHITE</td>\n",
              "      <td>AUTO</td>\n",
              "      <td>1.000000</td>\n",
              "      <td>Alloy</td>\n",
              "      <td>79554</td>\n",
              "      <td>AMERICAN</td>\n",
              "      <td>LARGE</td>\n",
              "      <td>GM</td>\n",
              "      <td>6420.0</td>\n",
              "      <td>7604.0</td>\n",
              "      <td>7434.0</td>\n",
              "      <td>8712.0</td>\n",
              "      <td>6590.0</td>\n",
              "      <td>7684.0</td>\n",
              "      <td>10099.0</td>\n",
              "      <td>11228.0</td>\n",
              "      <td>18881</td>\n",
              "      <td>30212</td>\n",
              "      <td>14</td>\n",
              "      <td>7000.0</td>\n",
              "      <td>0</td>\n",
              "      <td>1974</td>\n",
              "      <td>2009</td>\n",
              "      <td>12</td>\n",
              "      <td>2</td>\n",
              "    </tr>\n",
              "    <tr>\n",
              "      <th>72982</th>\n",
              "      <td>0</td>\n",
              "      <td>ADESA</td>\n",
              "      <td>3</td>\n",
              "      <td>0</td>\n",
              "      <td>70</td>\n",
              "      <td>35</td>\n",
              "      <td>95</td>\n",
              "      <td>SILVER</td>\n",
              "      <td>AUTO</td>\n",
              "      <td>1.000000</td>\n",
              "      <td>Alloy</td>\n",
              "      <td>66855</td>\n",
              "      <td>OTHER ASIAN</td>\n",
              "      <td>MEDIUM</td>\n",
              "      <td>OTHER</td>\n",
              "      <td>7535.0</td>\n",
              "      <td>8771.0</td>\n",
              "      <td>8638.0</td>\n",
              "      <td>9973.0</td>\n",
              "      <td>7730.0</td>\n",
              "      <td>9102.0</td>\n",
              "      <td>11954.0</td>\n",
              "      <td>13246.0</td>\n",
              "      <td>18111</td>\n",
              "      <td>30212</td>\n",
              "      <td>14</td>\n",
              "      <td>8000.0</td>\n",
              "      <td>0</td>\n",
              "      <td>1313</td>\n",
              "      <td>2009</td>\n",
              "      <td>12</td>\n",
              "      <td>2</td>\n",
              "    </tr>\n",
              "  </tbody>\n",
              "</table>\n",
              "<p>72983 rows × 32 columns</p>\n",
              "</div>"
            ],
            "text/plain": [
              "       IsBadBuy Auction  VehicleAge  Make  ...  WarrantyCost  year  month date\n",
              "0             0   ADESA           3     0  ...          1113  2009     12    7\n",
              "1             0   ADESA           5     1  ...          1053  2009     12    7\n",
              "2             0   ADESA           4     1  ...          1389  2009     12    7\n",
              "3             0   ADESA           5     1  ...           630  2009     12    7\n",
              "4             0   ADESA           4     2  ...          1020  2009     12    7\n",
              "...         ...     ...         ...   ...  ...           ...   ...    ...  ...\n",
              "72978         1   ADESA           8    10  ...           993  2009     12    2\n",
              "72979         0   ADESA           2     7  ...          1038  2009     12    2\n",
              "72980         0   ADESA           4    15  ...          1893  2009     12    2\n",
              "72981         0   ADESA           3     7  ...          1974  2009     12    2\n",
              "72982         0   ADESA           3     0  ...          1313  2009     12    2\n",
              "\n",
              "[72983 rows x 32 columns]"
            ]
          },
          "metadata": {
            "tags": []
          },
          "execution_count": 165
        }
      ]
    },
    {
      "cell_type": "code",
      "metadata": {
        "id": "K3-yoxqpm1Rt"
      },
      "source": [
        "df.drop(\"IsBadBuy\",1,inplace=True)"
      ],
      "execution_count": 166,
      "outputs": []
    },
    {
      "cell_type": "code",
      "metadata": {
        "id": "ibtOglJX2YOQ",
        "colab": {
          "base_uri": "https://localhost:8080/"
        },
        "outputId": "e1f599e4-c101-41d2-d879-1d4695d291e0"
      },
      "source": [
        "#checking categorical columns after  mapping the high labeled columns\n",
        "categorical_cols = [column for column in df.columns if column in df.select_dtypes(include=\"O\")]\n",
        "len(categorical_cols)"
      ],
      "execution_count": 167,
      "outputs": [
        {
          "output_type": "execute_result",
          "data": {
            "text/plain": [
              "7"
            ]
          },
          "metadata": {
            "tags": []
          },
          "execution_count": 167
        }
      ]
    },
    {
      "cell_type": "code",
      "metadata": {
        "colab": {
          "base_uri": "https://localhost:8080/"
        },
        "id": "LTqGctgc2cSm",
        "outputId": "508bf1f7-729c-4bce-c4be-46584cd5d18d"
      },
      "source": [
        "categorical_cols"
      ],
      "execution_count": 168,
      "outputs": [
        {
          "output_type": "execute_result",
          "data": {
            "text/plain": [
              "['Auction',\n",
              " 'Color',\n",
              " 'Transmission',\n",
              " 'WheelType',\n",
              " 'Nationality',\n",
              " 'Size',\n",
              " 'TopThreeAmericanName']"
            ]
          },
          "metadata": {
            "tags": []
          },
          "execution_count": 168
        }
      ]
    },
    {
      "cell_type": "code",
      "metadata": {
        "id": "wRQun6RolAJe",
        "colab": {
          "base_uri": "https://localhost:8080/"
        },
        "outputId": "0f0da753-ee90-4da2-e8a2-7ded8941413d"
      },
      "source": [
        "numeric_cols = [column for column in df.columns if column in df.select_dtypes(exclude=\"O\")]\n",
        "print(len(numeric_cols))\n",
        "numeric_cols"
      ],
      "execution_count": 169,
      "outputs": [
        {
          "output_type": "stream",
          "text": [
            "24\n"
          ],
          "name": "stdout"
        },
        {
          "output_type": "execute_result",
          "data": {
            "text/plain": [
              "['VehicleAge',\n",
              " 'Make',\n",
              " 'Model',\n",
              " 'Trim',\n",
              " 'SubModel',\n",
              " 'WheelTypeID',\n",
              " 'VehOdo',\n",
              " 'MMRAcquisitionAuctionAveragePrice',\n",
              " 'MMRAcquisitionAuctionCleanPrice',\n",
              " 'MMRAcquisitionRetailAveragePrice',\n",
              " 'MMRAcquisitonRetailCleanPrice',\n",
              " 'MMRCurrentAuctionAveragePrice',\n",
              " 'MMRCurrentAuctionCleanPrice',\n",
              " 'MMRCurrentRetailAveragePrice',\n",
              " 'MMRCurrentRetailCleanPrice',\n",
              " 'BYRNO',\n",
              " 'VNZIP1',\n",
              " 'VNST',\n",
              " 'VehBCost',\n",
              " 'IsOnlineSale',\n",
              " 'WarrantyCost',\n",
              " 'year',\n",
              " 'month',\n",
              " 'date']"
            ]
          },
          "metadata": {
            "tags": []
          },
          "execution_count": 169
        }
      ]
    },
    {
      "cell_type": "code",
      "metadata": {
        "id": "jn0Ltxo02ua7"
      },
      "source": [
        "#Encoding Categorical Columns\n",
        "from sklearn.preprocessing import OneHotEncoder\n",
        "encoder = OneHotEncoder(sparse=False,handle_unknown='ignore')"
      ],
      "execution_count": 170,
      "outputs": []
    },
    {
      "cell_type": "code",
      "metadata": {
        "colab": {
          "base_uri": "https://localhost:8080/"
        },
        "id": "-RIn9zpH2_tR",
        "outputId": "9a74d053-95b5-4f9f-e5fa-100dc3f329d7"
      },
      "source": [
        "# Fitting the encoder with the Categorical Columns\n",
        "encoder.fit(df[categorical_cols])"
      ],
      "execution_count": 171,
      "outputs": [
        {
          "output_type": "execute_result",
          "data": {
            "text/plain": [
              "OneHotEncoder(categories='auto', drop=None, dtype=<class 'numpy.float64'>,\n",
              "              handle_unknown='ignore', sparse=False)"
            ]
          },
          "metadata": {
            "tags": []
          },
          "execution_count": 171
        }
      ]
    },
    {
      "cell_type": "code",
      "metadata": {
        "colab": {
          "base_uri": "https://localhost:8080/"
        },
        "id": "eBfMKQy-3FOw",
        "outputId": "c8d55ff8-05b6-466b-e394-1cad8aa47d45"
      },
      "source": [
        "# Getting all the encoded labels from the Categorical columns.\n",
        "encoded_cols = list(encoder.get_feature_names(categorical_cols))\n",
        "len(encoded_cols)"
      ],
      "execution_count": 172,
      "outputs": [
        {
          "output_type": "execute_result",
          "data": {
            "text/plain": [
              "45"
            ]
          },
          "metadata": {
            "tags": []
          },
          "execution_count": 172
        }
      ]
    },
    {
      "cell_type": "code",
      "metadata": {
        "id": "alkRBrDT3RBP"
      },
      "source": [
        "# Transforming the Categorical columns into encoded columns.\n",
        "df[encoded_cols] = encoder.fit_transform(df[categorical_cols])"
      ],
      "execution_count": 173,
      "outputs": []
    },
    {
      "cell_type": "code",
      "metadata": {
        "colab": {
          "base_uri": "https://localhost:8080/",
          "height": 461
        },
        "id": "yRFf1z3c3fwO",
        "outputId": "d7dbbf32-b2b2-46f4-f007-6f18c3a96719"
      },
      "source": [
        "# Whole DataFrame with Numerical and Categorical columns.\n",
        "df[numeric_cols + encoded_cols]"
      ],
      "execution_count": 174,
      "outputs": [
        {
          "output_type": "execute_result",
          "data": {
            "text/html": [
              "<div>\n",
              "<style scoped>\n",
              "    .dataframe tbody tr th:only-of-type {\n",
              "        vertical-align: middle;\n",
              "    }\n",
              "\n",
              "    .dataframe tbody tr th {\n",
              "        vertical-align: top;\n",
              "    }\n",
              "\n",
              "    .dataframe thead th {\n",
              "        text-align: right;\n",
              "    }\n",
              "</style>\n",
              "<table border=\"1\" class=\"dataframe\">\n",
              "  <thead>\n",
              "    <tr style=\"text-align: right;\">\n",
              "      <th></th>\n",
              "      <th>VehicleAge</th>\n",
              "      <th>Make</th>\n",
              "      <th>Model</th>\n",
              "      <th>Trim</th>\n",
              "      <th>SubModel</th>\n",
              "      <th>WheelTypeID</th>\n",
              "      <th>VehOdo</th>\n",
              "      <th>MMRAcquisitionAuctionAveragePrice</th>\n",
              "      <th>MMRAcquisitionAuctionCleanPrice</th>\n",
              "      <th>MMRAcquisitionRetailAveragePrice</th>\n",
              "      <th>MMRAcquisitonRetailCleanPrice</th>\n",
              "      <th>MMRCurrentAuctionAveragePrice</th>\n",
              "      <th>MMRCurrentAuctionCleanPrice</th>\n",
              "      <th>MMRCurrentRetailAveragePrice</th>\n",
              "      <th>MMRCurrentRetailCleanPrice</th>\n",
              "      <th>BYRNO</th>\n",
              "      <th>VNZIP1</th>\n",
              "      <th>VNST</th>\n",
              "      <th>VehBCost</th>\n",
              "      <th>IsOnlineSale</th>\n",
              "      <th>WarrantyCost</th>\n",
              "      <th>year</th>\n",
              "      <th>month</th>\n",
              "      <th>date</th>\n",
              "      <th>Auction_ADESA</th>\n",
              "      <th>Auction_MANHEIM</th>\n",
              "      <th>Auction_OTHER</th>\n",
              "      <th>Color_BEIGE</th>\n",
              "      <th>Color_BLACK</th>\n",
              "      <th>Color_BLUE</th>\n",
              "      <th>Color_BROWN</th>\n",
              "      <th>Color_GOLD</th>\n",
              "      <th>Color_GREEN</th>\n",
              "      <th>Color_GREY</th>\n",
              "      <th>Color_MAROON</th>\n",
              "      <th>Color_NOT AVAIL</th>\n",
              "      <th>Color_ORANGE</th>\n",
              "      <th>Color_OTHER</th>\n",
              "      <th>Color_PURPLE</th>\n",
              "      <th>Color_RED</th>\n",
              "      <th>Color_SILVER</th>\n",
              "      <th>Color_WHITE</th>\n",
              "      <th>Color_YELLOW</th>\n",
              "      <th>Transmission_AUTO</th>\n",
              "      <th>Transmission_MANUAL</th>\n",
              "      <th>Transmission_Manual</th>\n",
              "      <th>WheelType_Alloy</th>\n",
              "      <th>WheelType_Covers</th>\n",
              "      <th>WheelType_Special</th>\n",
              "      <th>Nationality_AMERICAN</th>\n",
              "      <th>Nationality_OTHER</th>\n",
              "      <th>Nationality_OTHER ASIAN</th>\n",
              "      <th>Nationality_TOP LINE ASIAN</th>\n",
              "      <th>Size_COMPACT</th>\n",
              "      <th>Size_CROSSOVER</th>\n",
              "      <th>Size_LARGE</th>\n",
              "      <th>Size_LARGE SUV</th>\n",
              "      <th>Size_LARGE TRUCK</th>\n",
              "      <th>Size_MEDIUM</th>\n",
              "      <th>Size_MEDIUM SUV</th>\n",
              "      <th>Size_SMALL SUV</th>\n",
              "      <th>Size_SMALL TRUCK</th>\n",
              "      <th>Size_SPECIALTY</th>\n",
              "      <th>Size_SPORTS</th>\n",
              "      <th>Size_VAN</th>\n",
              "      <th>TopThreeAmericanName_CHRYSLER</th>\n",
              "      <th>TopThreeAmericanName_FORD</th>\n",
              "      <th>TopThreeAmericanName_GM</th>\n",
              "      <th>TopThreeAmericanName_OTHER</th>\n",
              "    </tr>\n",
              "  </thead>\n",
              "  <tbody>\n",
              "    <tr>\n",
              "      <th>0</th>\n",
              "      <td>3</td>\n",
              "      <td>0</td>\n",
              "      <td>0</td>\n",
              "      <td>0</td>\n",
              "      <td>0</td>\n",
              "      <td>1.000000</td>\n",
              "      <td>89046</td>\n",
              "      <td>8155.0</td>\n",
              "      <td>9829.0</td>\n",
              "      <td>11636.0</td>\n",
              "      <td>13600.0</td>\n",
              "      <td>7451.0</td>\n",
              "      <td>8552.0</td>\n",
              "      <td>11597.0</td>\n",
              "      <td>12409.0</td>\n",
              "      <td>21973</td>\n",
              "      <td>33619</td>\n",
              "      <td>0</td>\n",
              "      <td>7100.0</td>\n",
              "      <td>0</td>\n",
              "      <td>1113</td>\n",
              "      <td>2009</td>\n",
              "      <td>12</td>\n",
              "      <td>7</td>\n",
              "      <td>1.0</td>\n",
              "      <td>0.0</td>\n",
              "      <td>0.0</td>\n",
              "      <td>0.0</td>\n",
              "      <td>0.0</td>\n",
              "      <td>0.0</td>\n",
              "      <td>0.0</td>\n",
              "      <td>0.0</td>\n",
              "      <td>0.0</td>\n",
              "      <td>0.0</td>\n",
              "      <td>0.0</td>\n",
              "      <td>0.0</td>\n",
              "      <td>0.0</td>\n",
              "      <td>0.0</td>\n",
              "      <td>0.0</td>\n",
              "      <td>1.0</td>\n",
              "      <td>0.0</td>\n",
              "      <td>0.0</td>\n",
              "      <td>0.0</td>\n",
              "      <td>1.0</td>\n",
              "      <td>0.0</td>\n",
              "      <td>0.0</td>\n",
              "      <td>1.0</td>\n",
              "      <td>0.0</td>\n",
              "      <td>0.0</td>\n",
              "      <td>0.0</td>\n",
              "      <td>0.0</td>\n",
              "      <td>1.0</td>\n",
              "      <td>0.0</td>\n",
              "      <td>0.0</td>\n",
              "      <td>0.0</td>\n",
              "      <td>0.0</td>\n",
              "      <td>0.0</td>\n",
              "      <td>0.0</td>\n",
              "      <td>1.0</td>\n",
              "      <td>0.0</td>\n",
              "      <td>0.0</td>\n",
              "      <td>0.0</td>\n",
              "      <td>0.0</td>\n",
              "      <td>0.0</td>\n",
              "      <td>0.0</td>\n",
              "      <td>0.0</td>\n",
              "      <td>0.0</td>\n",
              "      <td>0.0</td>\n",
              "      <td>1.0</td>\n",
              "    </tr>\n",
              "    <tr>\n",
              "      <th>1</th>\n",
              "      <td>5</td>\n",
              "      <td>1</td>\n",
              "      <td>1</td>\n",
              "      <td>1</td>\n",
              "      <td>1</td>\n",
              "      <td>1.000000</td>\n",
              "      <td>93593</td>\n",
              "      <td>6854.0</td>\n",
              "      <td>8383.0</td>\n",
              "      <td>10897.0</td>\n",
              "      <td>12572.0</td>\n",
              "      <td>7456.0</td>\n",
              "      <td>9222.0</td>\n",
              "      <td>11374.0</td>\n",
              "      <td>12791.0</td>\n",
              "      <td>19638</td>\n",
              "      <td>33619</td>\n",
              "      <td>0</td>\n",
              "      <td>7600.0</td>\n",
              "      <td>0</td>\n",
              "      <td>1053</td>\n",
              "      <td>2009</td>\n",
              "      <td>12</td>\n",
              "      <td>7</td>\n",
              "      <td>1.0</td>\n",
              "      <td>0.0</td>\n",
              "      <td>0.0</td>\n",
              "      <td>0.0</td>\n",
              "      <td>0.0</td>\n",
              "      <td>0.0</td>\n",
              "      <td>0.0</td>\n",
              "      <td>0.0</td>\n",
              "      <td>0.0</td>\n",
              "      <td>0.0</td>\n",
              "      <td>0.0</td>\n",
              "      <td>0.0</td>\n",
              "      <td>0.0</td>\n",
              "      <td>0.0</td>\n",
              "      <td>0.0</td>\n",
              "      <td>0.0</td>\n",
              "      <td>0.0</td>\n",
              "      <td>1.0</td>\n",
              "      <td>0.0</td>\n",
              "      <td>1.0</td>\n",
              "      <td>0.0</td>\n",
              "      <td>0.0</td>\n",
              "      <td>1.0</td>\n",
              "      <td>0.0</td>\n",
              "      <td>0.0</td>\n",
              "      <td>1.0</td>\n",
              "      <td>0.0</td>\n",
              "      <td>0.0</td>\n",
              "      <td>0.0</td>\n",
              "      <td>0.0</td>\n",
              "      <td>0.0</td>\n",
              "      <td>0.0</td>\n",
              "      <td>0.0</td>\n",
              "      <td>1.0</td>\n",
              "      <td>0.0</td>\n",
              "      <td>0.0</td>\n",
              "      <td>0.0</td>\n",
              "      <td>0.0</td>\n",
              "      <td>0.0</td>\n",
              "      <td>0.0</td>\n",
              "      <td>0.0</td>\n",
              "      <td>1.0</td>\n",
              "      <td>0.0</td>\n",
              "      <td>0.0</td>\n",
              "      <td>0.0</td>\n",
              "    </tr>\n",
              "    <tr>\n",
              "      <th>2</th>\n",
              "      <td>4</td>\n",
              "      <td>1</td>\n",
              "      <td>2</td>\n",
              "      <td>2</td>\n",
              "      <td>2</td>\n",
              "      <td>2.000000</td>\n",
              "      <td>73807</td>\n",
              "      <td>3202.0</td>\n",
              "      <td>4760.0</td>\n",
              "      <td>6943.0</td>\n",
              "      <td>8457.0</td>\n",
              "      <td>4035.0</td>\n",
              "      <td>5557.0</td>\n",
              "      <td>7146.0</td>\n",
              "      <td>8702.0</td>\n",
              "      <td>19638</td>\n",
              "      <td>33619</td>\n",
              "      <td>0</td>\n",
              "      <td>4900.0</td>\n",
              "      <td>0</td>\n",
              "      <td>1389</td>\n",
              "      <td>2009</td>\n",
              "      <td>12</td>\n",
              "      <td>7</td>\n",
              "      <td>1.0</td>\n",
              "      <td>0.0</td>\n",
              "      <td>0.0</td>\n",
              "      <td>0.0</td>\n",
              "      <td>0.0</td>\n",
              "      <td>0.0</td>\n",
              "      <td>0.0</td>\n",
              "      <td>0.0</td>\n",
              "      <td>0.0</td>\n",
              "      <td>0.0</td>\n",
              "      <td>1.0</td>\n",
              "      <td>0.0</td>\n",
              "      <td>0.0</td>\n",
              "      <td>0.0</td>\n",
              "      <td>0.0</td>\n",
              "      <td>0.0</td>\n",
              "      <td>0.0</td>\n",
              "      <td>0.0</td>\n",
              "      <td>0.0</td>\n",
              "      <td>1.0</td>\n",
              "      <td>0.0</td>\n",
              "      <td>0.0</td>\n",
              "      <td>0.0</td>\n",
              "      <td>1.0</td>\n",
              "      <td>0.0</td>\n",
              "      <td>1.0</td>\n",
              "      <td>0.0</td>\n",
              "      <td>0.0</td>\n",
              "      <td>0.0</td>\n",
              "      <td>0.0</td>\n",
              "      <td>0.0</td>\n",
              "      <td>0.0</td>\n",
              "      <td>0.0</td>\n",
              "      <td>0.0</td>\n",
              "      <td>1.0</td>\n",
              "      <td>0.0</td>\n",
              "      <td>0.0</td>\n",
              "      <td>0.0</td>\n",
              "      <td>0.0</td>\n",
              "      <td>0.0</td>\n",
              "      <td>0.0</td>\n",
              "      <td>1.0</td>\n",
              "      <td>0.0</td>\n",
              "      <td>0.0</td>\n",
              "      <td>0.0</td>\n",
              "    </tr>\n",
              "    <tr>\n",
              "      <th>3</th>\n",
              "      <td>5</td>\n",
              "      <td>1</td>\n",
              "      <td>3</td>\n",
              "      <td>2</td>\n",
              "      <td>3</td>\n",
              "      <td>1.000000</td>\n",
              "      <td>65617</td>\n",
              "      <td>1893.0</td>\n",
              "      <td>2675.0</td>\n",
              "      <td>4658.0</td>\n",
              "      <td>5690.0</td>\n",
              "      <td>1844.0</td>\n",
              "      <td>2646.0</td>\n",
              "      <td>4375.0</td>\n",
              "      <td>5518.0</td>\n",
              "      <td>19638</td>\n",
              "      <td>33619</td>\n",
              "      <td>0</td>\n",
              "      <td>4100.0</td>\n",
              "      <td>0</td>\n",
              "      <td>630</td>\n",
              "      <td>2009</td>\n",
              "      <td>12</td>\n",
              "      <td>7</td>\n",
              "      <td>1.0</td>\n",
              "      <td>0.0</td>\n",
              "      <td>0.0</td>\n",
              "      <td>0.0</td>\n",
              "      <td>0.0</td>\n",
              "      <td>0.0</td>\n",
              "      <td>0.0</td>\n",
              "      <td>0.0</td>\n",
              "      <td>0.0</td>\n",
              "      <td>0.0</td>\n",
              "      <td>0.0</td>\n",
              "      <td>0.0</td>\n",
              "      <td>0.0</td>\n",
              "      <td>0.0</td>\n",
              "      <td>0.0</td>\n",
              "      <td>0.0</td>\n",
              "      <td>1.0</td>\n",
              "      <td>0.0</td>\n",
              "      <td>0.0</td>\n",
              "      <td>1.0</td>\n",
              "      <td>0.0</td>\n",
              "      <td>0.0</td>\n",
              "      <td>1.0</td>\n",
              "      <td>0.0</td>\n",
              "      <td>0.0</td>\n",
              "      <td>1.0</td>\n",
              "      <td>0.0</td>\n",
              "      <td>0.0</td>\n",
              "      <td>0.0</td>\n",
              "      <td>1.0</td>\n",
              "      <td>0.0</td>\n",
              "      <td>0.0</td>\n",
              "      <td>0.0</td>\n",
              "      <td>0.0</td>\n",
              "      <td>0.0</td>\n",
              "      <td>0.0</td>\n",
              "      <td>0.0</td>\n",
              "      <td>0.0</td>\n",
              "      <td>0.0</td>\n",
              "      <td>0.0</td>\n",
              "      <td>0.0</td>\n",
              "      <td>1.0</td>\n",
              "      <td>0.0</td>\n",
              "      <td>0.0</td>\n",
              "      <td>0.0</td>\n",
              "    </tr>\n",
              "    <tr>\n",
              "      <th>4</th>\n",
              "      <td>4</td>\n",
              "      <td>2</td>\n",
              "      <td>4</td>\n",
              "      <td>3</td>\n",
              "      <td>4</td>\n",
              "      <td>2.000000</td>\n",
              "      <td>69367</td>\n",
              "      <td>3913.0</td>\n",
              "      <td>5054.0</td>\n",
              "      <td>7723.0</td>\n",
              "      <td>8707.0</td>\n",
              "      <td>3247.0</td>\n",
              "      <td>4384.0</td>\n",
              "      <td>6739.0</td>\n",
              "      <td>7911.0</td>\n",
              "      <td>19638</td>\n",
              "      <td>33619</td>\n",
              "      <td>0</td>\n",
              "      <td>4000.0</td>\n",
              "      <td>0</td>\n",
              "      <td>1020</td>\n",
              "      <td>2009</td>\n",
              "      <td>12</td>\n",
              "      <td>7</td>\n",
              "      <td>1.0</td>\n",
              "      <td>0.0</td>\n",
              "      <td>0.0</td>\n",
              "      <td>0.0</td>\n",
              "      <td>0.0</td>\n",
              "      <td>0.0</td>\n",
              "      <td>0.0</td>\n",
              "      <td>0.0</td>\n",
              "      <td>0.0</td>\n",
              "      <td>0.0</td>\n",
              "      <td>0.0</td>\n",
              "      <td>0.0</td>\n",
              "      <td>0.0</td>\n",
              "      <td>0.0</td>\n",
              "      <td>0.0</td>\n",
              "      <td>0.0</td>\n",
              "      <td>1.0</td>\n",
              "      <td>0.0</td>\n",
              "      <td>0.0</td>\n",
              "      <td>0.0</td>\n",
              "      <td>1.0</td>\n",
              "      <td>0.0</td>\n",
              "      <td>0.0</td>\n",
              "      <td>1.0</td>\n",
              "      <td>0.0</td>\n",
              "      <td>1.0</td>\n",
              "      <td>0.0</td>\n",
              "      <td>0.0</td>\n",
              "      <td>0.0</td>\n",
              "      <td>1.0</td>\n",
              "      <td>0.0</td>\n",
              "      <td>0.0</td>\n",
              "      <td>0.0</td>\n",
              "      <td>0.0</td>\n",
              "      <td>0.0</td>\n",
              "      <td>0.0</td>\n",
              "      <td>0.0</td>\n",
              "      <td>0.0</td>\n",
              "      <td>0.0</td>\n",
              "      <td>0.0</td>\n",
              "      <td>0.0</td>\n",
              "      <td>0.0</td>\n",
              "      <td>1.0</td>\n",
              "      <td>0.0</td>\n",
              "      <td>0.0</td>\n",
              "    </tr>\n",
              "    <tr>\n",
              "      <th>...</th>\n",
              "      <td>...</td>\n",
              "      <td>...</td>\n",
              "      <td>...</td>\n",
              "      <td>...</td>\n",
              "      <td>...</td>\n",
              "      <td>...</td>\n",
              "      <td>...</td>\n",
              "      <td>...</td>\n",
              "      <td>...</td>\n",
              "      <td>...</td>\n",
              "      <td>...</td>\n",
              "      <td>...</td>\n",
              "      <td>...</td>\n",
              "      <td>...</td>\n",
              "      <td>...</td>\n",
              "      <td>...</td>\n",
              "      <td>...</td>\n",
              "      <td>...</td>\n",
              "      <td>...</td>\n",
              "      <td>...</td>\n",
              "      <td>...</td>\n",
              "      <td>...</td>\n",
              "      <td>...</td>\n",
              "      <td>...</td>\n",
              "      <td>...</td>\n",
              "      <td>...</td>\n",
              "      <td>...</td>\n",
              "      <td>...</td>\n",
              "      <td>...</td>\n",
              "      <td>...</td>\n",
              "      <td>...</td>\n",
              "      <td>...</td>\n",
              "      <td>...</td>\n",
              "      <td>...</td>\n",
              "      <td>...</td>\n",
              "      <td>...</td>\n",
              "      <td>...</td>\n",
              "      <td>...</td>\n",
              "      <td>...</td>\n",
              "      <td>...</td>\n",
              "      <td>...</td>\n",
              "      <td>...</td>\n",
              "      <td>...</td>\n",
              "      <td>...</td>\n",
              "      <td>...</td>\n",
              "      <td>...</td>\n",
              "      <td>...</td>\n",
              "      <td>...</td>\n",
              "      <td>...</td>\n",
              "      <td>...</td>\n",
              "      <td>...</td>\n",
              "      <td>...</td>\n",
              "      <td>...</td>\n",
              "      <td>...</td>\n",
              "      <td>...</td>\n",
              "      <td>...</td>\n",
              "      <td>...</td>\n",
              "      <td>...</td>\n",
              "      <td>...</td>\n",
              "      <td>...</td>\n",
              "      <td>...</td>\n",
              "      <td>...</td>\n",
              "      <td>...</td>\n",
              "      <td>...</td>\n",
              "      <td>...</td>\n",
              "      <td>...</td>\n",
              "      <td>...</td>\n",
              "      <td>...</td>\n",
              "      <td>...</td>\n",
              "    </tr>\n",
              "    <tr>\n",
              "      <th>72978</th>\n",
              "      <td>8</td>\n",
              "      <td>10</td>\n",
              "      <td>22</td>\n",
              "      <td>44</td>\n",
              "      <td>119</td>\n",
              "      <td>1.000000</td>\n",
              "      <td>45234</td>\n",
              "      <td>1996.0</td>\n",
              "      <td>2993.0</td>\n",
              "      <td>2656.0</td>\n",
              "      <td>3732.0</td>\n",
              "      <td>2190.0</td>\n",
              "      <td>3055.0</td>\n",
              "      <td>4836.0</td>\n",
              "      <td>5937.0</td>\n",
              "      <td>18111</td>\n",
              "      <td>30212</td>\n",
              "      <td>14</td>\n",
              "      <td>4200.0</td>\n",
              "      <td>0</td>\n",
              "      <td>993</td>\n",
              "      <td>2009</td>\n",
              "      <td>12</td>\n",
              "      <td>2</td>\n",
              "      <td>1.0</td>\n",
              "      <td>0.0</td>\n",
              "      <td>0.0</td>\n",
              "      <td>0.0</td>\n",
              "      <td>1.0</td>\n",
              "      <td>0.0</td>\n",
              "      <td>0.0</td>\n",
              "      <td>0.0</td>\n",
              "      <td>0.0</td>\n",
              "      <td>0.0</td>\n",
              "      <td>0.0</td>\n",
              "      <td>0.0</td>\n",
              "      <td>0.0</td>\n",
              "      <td>0.0</td>\n",
              "      <td>0.0</td>\n",
              "      <td>0.0</td>\n",
              "      <td>0.0</td>\n",
              "      <td>0.0</td>\n",
              "      <td>0.0</td>\n",
              "      <td>1.0</td>\n",
              "      <td>0.0</td>\n",
              "      <td>0.0</td>\n",
              "      <td>1.0</td>\n",
              "      <td>0.0</td>\n",
              "      <td>0.0</td>\n",
              "      <td>1.0</td>\n",
              "      <td>0.0</td>\n",
              "      <td>0.0</td>\n",
              "      <td>0.0</td>\n",
              "      <td>0.0</td>\n",
              "      <td>0.0</td>\n",
              "      <td>0.0</td>\n",
              "      <td>0.0</td>\n",
              "      <td>0.0</td>\n",
              "      <td>1.0</td>\n",
              "      <td>0.0</td>\n",
              "      <td>0.0</td>\n",
              "      <td>0.0</td>\n",
              "      <td>0.0</td>\n",
              "      <td>0.0</td>\n",
              "      <td>0.0</td>\n",
              "      <td>0.0</td>\n",
              "      <td>1.0</td>\n",
              "      <td>0.0</td>\n",
              "      <td>0.0</td>\n",
              "    </tr>\n",
              "    <tr>\n",
              "      <th>72979</th>\n",
              "      <td>2</td>\n",
              "      <td>7</td>\n",
              "      <td>104</td>\n",
              "      <td>11</td>\n",
              "      <td>47</td>\n",
              "      <td>1.494299</td>\n",
              "      <td>71759</td>\n",
              "      <td>6418.0</td>\n",
              "      <td>7325.0</td>\n",
              "      <td>7431.0</td>\n",
              "      <td>8411.0</td>\n",
              "      <td>6785.0</td>\n",
              "      <td>8132.0</td>\n",
              "      <td>10151.0</td>\n",
              "      <td>11652.0</td>\n",
              "      <td>18881</td>\n",
              "      <td>30212</td>\n",
              "      <td>14</td>\n",
              "      <td>6200.0</td>\n",
              "      <td>0</td>\n",
              "      <td>1038</td>\n",
              "      <td>2009</td>\n",
              "      <td>12</td>\n",
              "      <td>2</td>\n",
              "      <td>1.0</td>\n",
              "      <td>0.0</td>\n",
              "      <td>0.0</td>\n",
              "      <td>0.0</td>\n",
              "      <td>0.0</td>\n",
              "      <td>0.0</td>\n",
              "      <td>0.0</td>\n",
              "      <td>0.0</td>\n",
              "      <td>0.0</td>\n",
              "      <td>0.0</td>\n",
              "      <td>0.0</td>\n",
              "      <td>0.0</td>\n",
              "      <td>0.0</td>\n",
              "      <td>0.0</td>\n",
              "      <td>0.0</td>\n",
              "      <td>0.0</td>\n",
              "      <td>1.0</td>\n",
              "      <td>0.0</td>\n",
              "      <td>0.0</td>\n",
              "      <td>1.0</td>\n",
              "      <td>0.0</td>\n",
              "      <td>0.0</td>\n",
              "      <td>1.0</td>\n",
              "      <td>0.0</td>\n",
              "      <td>0.0</td>\n",
              "      <td>1.0</td>\n",
              "      <td>0.0</td>\n",
              "      <td>0.0</td>\n",
              "      <td>0.0</td>\n",
              "      <td>0.0</td>\n",
              "      <td>0.0</td>\n",
              "      <td>0.0</td>\n",
              "      <td>0.0</td>\n",
              "      <td>0.0</td>\n",
              "      <td>1.0</td>\n",
              "      <td>0.0</td>\n",
              "      <td>0.0</td>\n",
              "      <td>0.0</td>\n",
              "      <td>0.0</td>\n",
              "      <td>0.0</td>\n",
              "      <td>0.0</td>\n",
              "      <td>0.0</td>\n",
              "      <td>0.0</td>\n",
              "      <td>1.0</td>\n",
              "      <td>0.0</td>\n",
              "    </tr>\n",
              "    <tr>\n",
              "      <th>72980</th>\n",
              "      <td>4</td>\n",
              "      <td>15</td>\n",
              "      <td>103</td>\n",
              "      <td>20</td>\n",
              "      <td>112</td>\n",
              "      <td>1.000000</td>\n",
              "      <td>88500</td>\n",
              "      <td>8545.0</td>\n",
              "      <td>9959.0</td>\n",
              "      <td>9729.0</td>\n",
              "      <td>11256.0</td>\n",
              "      <td>8375.0</td>\n",
              "      <td>9802.0</td>\n",
              "      <td>11831.0</td>\n",
              "      <td>14402.0</td>\n",
              "      <td>18111</td>\n",
              "      <td>30212</td>\n",
              "      <td>14</td>\n",
              "      <td>8200.0</td>\n",
              "      <td>0</td>\n",
              "      <td>1893</td>\n",
              "      <td>2009</td>\n",
              "      <td>12</td>\n",
              "      <td>2</td>\n",
              "      <td>1.0</td>\n",
              "      <td>0.0</td>\n",
              "      <td>0.0</td>\n",
              "      <td>0.0</td>\n",
              "      <td>0.0</td>\n",
              "      <td>0.0</td>\n",
              "      <td>0.0</td>\n",
              "      <td>0.0</td>\n",
              "      <td>0.0</td>\n",
              "      <td>0.0</td>\n",
              "      <td>0.0</td>\n",
              "      <td>0.0</td>\n",
              "      <td>0.0</td>\n",
              "      <td>0.0</td>\n",
              "      <td>0.0</td>\n",
              "      <td>0.0</td>\n",
              "      <td>1.0</td>\n",
              "      <td>0.0</td>\n",
              "      <td>0.0</td>\n",
              "      <td>1.0</td>\n",
              "      <td>0.0</td>\n",
              "      <td>0.0</td>\n",
              "      <td>1.0</td>\n",
              "      <td>0.0</td>\n",
              "      <td>0.0</td>\n",
              "      <td>1.0</td>\n",
              "      <td>0.0</td>\n",
              "      <td>0.0</td>\n",
              "      <td>0.0</td>\n",
              "      <td>0.0</td>\n",
              "      <td>0.0</td>\n",
              "      <td>0.0</td>\n",
              "      <td>0.0</td>\n",
              "      <td>0.0</td>\n",
              "      <td>0.0</td>\n",
              "      <td>1.0</td>\n",
              "      <td>0.0</td>\n",
              "      <td>0.0</td>\n",
              "      <td>0.0</td>\n",
              "      <td>0.0</td>\n",
              "      <td>0.0</td>\n",
              "      <td>1.0</td>\n",
              "      <td>0.0</td>\n",
              "      <td>0.0</td>\n",
              "      <td>0.0</td>\n",
              "    </tr>\n",
              "    <tr>\n",
              "      <th>72981</th>\n",
              "      <td>3</td>\n",
              "      <td>7</td>\n",
              "      <td>16</td>\n",
              "      <td>11</td>\n",
              "      <td>47</td>\n",
              "      <td>1.000000</td>\n",
              "      <td>79554</td>\n",
              "      <td>6420.0</td>\n",
              "      <td>7604.0</td>\n",
              "      <td>7434.0</td>\n",
              "      <td>8712.0</td>\n",
              "      <td>6590.0</td>\n",
              "      <td>7684.0</td>\n",
              "      <td>10099.0</td>\n",
              "      <td>11228.0</td>\n",
              "      <td>18881</td>\n",
              "      <td>30212</td>\n",
              "      <td>14</td>\n",
              "      <td>7000.0</td>\n",
              "      <td>0</td>\n",
              "      <td>1974</td>\n",
              "      <td>2009</td>\n",
              "      <td>12</td>\n",
              "      <td>2</td>\n",
              "      <td>1.0</td>\n",
              "      <td>0.0</td>\n",
              "      <td>0.0</td>\n",
              "      <td>0.0</td>\n",
              "      <td>0.0</td>\n",
              "      <td>0.0</td>\n",
              "      <td>0.0</td>\n",
              "      <td>0.0</td>\n",
              "      <td>0.0</td>\n",
              "      <td>0.0</td>\n",
              "      <td>0.0</td>\n",
              "      <td>0.0</td>\n",
              "      <td>0.0</td>\n",
              "      <td>0.0</td>\n",
              "      <td>0.0</td>\n",
              "      <td>0.0</td>\n",
              "      <td>0.0</td>\n",
              "      <td>1.0</td>\n",
              "      <td>0.0</td>\n",
              "      <td>1.0</td>\n",
              "      <td>0.0</td>\n",
              "      <td>0.0</td>\n",
              "      <td>1.0</td>\n",
              "      <td>0.0</td>\n",
              "      <td>0.0</td>\n",
              "      <td>1.0</td>\n",
              "      <td>0.0</td>\n",
              "      <td>0.0</td>\n",
              "      <td>0.0</td>\n",
              "      <td>0.0</td>\n",
              "      <td>0.0</td>\n",
              "      <td>1.0</td>\n",
              "      <td>0.0</td>\n",
              "      <td>0.0</td>\n",
              "      <td>0.0</td>\n",
              "      <td>0.0</td>\n",
              "      <td>0.0</td>\n",
              "      <td>0.0</td>\n",
              "      <td>0.0</td>\n",
              "      <td>0.0</td>\n",
              "      <td>0.0</td>\n",
              "      <td>0.0</td>\n",
              "      <td>0.0</td>\n",
              "      <td>1.0</td>\n",
              "      <td>0.0</td>\n",
              "    </tr>\n",
              "    <tr>\n",
              "      <th>72982</th>\n",
              "      <td>3</td>\n",
              "      <td>0</td>\n",
              "      <td>70</td>\n",
              "      <td>35</td>\n",
              "      <td>95</td>\n",
              "      <td>1.000000</td>\n",
              "      <td>66855</td>\n",
              "      <td>7535.0</td>\n",
              "      <td>8771.0</td>\n",
              "      <td>8638.0</td>\n",
              "      <td>9973.0</td>\n",
              "      <td>7730.0</td>\n",
              "      <td>9102.0</td>\n",
              "      <td>11954.0</td>\n",
              "      <td>13246.0</td>\n",
              "      <td>18111</td>\n",
              "      <td>30212</td>\n",
              "      <td>14</td>\n",
              "      <td>8000.0</td>\n",
              "      <td>0</td>\n",
              "      <td>1313</td>\n",
              "      <td>2009</td>\n",
              "      <td>12</td>\n",
              "      <td>2</td>\n",
              "      <td>1.0</td>\n",
              "      <td>0.0</td>\n",
              "      <td>0.0</td>\n",
              "      <td>0.0</td>\n",
              "      <td>0.0</td>\n",
              "      <td>0.0</td>\n",
              "      <td>0.0</td>\n",
              "      <td>0.0</td>\n",
              "      <td>0.0</td>\n",
              "      <td>0.0</td>\n",
              "      <td>0.0</td>\n",
              "      <td>0.0</td>\n",
              "      <td>0.0</td>\n",
              "      <td>0.0</td>\n",
              "      <td>0.0</td>\n",
              "      <td>0.0</td>\n",
              "      <td>1.0</td>\n",
              "      <td>0.0</td>\n",
              "      <td>0.0</td>\n",
              "      <td>1.0</td>\n",
              "      <td>0.0</td>\n",
              "      <td>0.0</td>\n",
              "      <td>1.0</td>\n",
              "      <td>0.0</td>\n",
              "      <td>0.0</td>\n",
              "      <td>0.0</td>\n",
              "      <td>0.0</td>\n",
              "      <td>1.0</td>\n",
              "      <td>0.0</td>\n",
              "      <td>0.0</td>\n",
              "      <td>0.0</td>\n",
              "      <td>0.0</td>\n",
              "      <td>0.0</td>\n",
              "      <td>0.0</td>\n",
              "      <td>1.0</td>\n",
              "      <td>0.0</td>\n",
              "      <td>0.0</td>\n",
              "      <td>0.0</td>\n",
              "      <td>0.0</td>\n",
              "      <td>0.0</td>\n",
              "      <td>0.0</td>\n",
              "      <td>0.0</td>\n",
              "      <td>0.0</td>\n",
              "      <td>0.0</td>\n",
              "      <td>1.0</td>\n",
              "    </tr>\n",
              "  </tbody>\n",
              "</table>\n",
              "<p>72983 rows × 69 columns</p>\n",
              "</div>"
            ],
            "text/plain": [
              "       VehicleAge  Make  ...  TopThreeAmericanName_GM  TopThreeAmericanName_OTHER\n",
              "0               3     0  ...                      0.0                         1.0\n",
              "1               5     1  ...                      0.0                         0.0\n",
              "2               4     1  ...                      0.0                         0.0\n",
              "3               5     1  ...                      0.0                         0.0\n",
              "4               4     2  ...                      0.0                         0.0\n",
              "...           ...   ...  ...                      ...                         ...\n",
              "72978           8    10  ...                      0.0                         0.0\n",
              "72979           2     7  ...                      1.0                         0.0\n",
              "72980           4    15  ...                      0.0                         0.0\n",
              "72981           3     7  ...                      1.0                         0.0\n",
              "72982           3     0  ...                      0.0                         1.0\n",
              "\n",
              "[72983 rows x 69 columns]"
            ]
          },
          "metadata": {
            "tags": []
          },
          "execution_count": 174
        }
      ]
    },
    {
      "cell_type": "code",
      "metadata": {
        "id": "h5UGOTJ13pLI"
      },
      "source": [
        "# Extracting all the Independent variables into X.\n",
        "X = df[numeric_cols + encoded_cols]"
      ],
      "execution_count": 175,
      "outputs": []
    },
    {
      "cell_type": "code",
      "metadata": {
        "id": "WRcO1t4J3waH"
      },
      "source": [
        "#splitting the data into train and test\n",
        "from sklearn.model_selection import train_test_split\n",
        "X_train,X_test,y_train,y_test = train_test_split(X,target,test_size=0.3,random_state=355)"
      ],
      "execution_count": 176,
      "outputs": []
    },
    {
      "cell_type": "markdown",
      "metadata": {
        "id": "vO93uui135-o"
      },
      "source": [
        "## Using RandomForestClassifier"
      ]
    },
    {
      "cell_type": "code",
      "metadata": {
        "id": "Zz4LWATR389F"
      },
      "source": [
        "#Creating an object of RandomForestClassifier\n",
        "rfc = RandomForestClassifier()"
      ],
      "execution_count": 177,
      "outputs": []
    },
    {
      "cell_type": "code",
      "metadata": {
        "colab": {
          "base_uri": "https://localhost:8080/"
        },
        "id": "ksCi6RZ74A5J",
        "outputId": "db30986b-8131-4bf5-c768-e35b65d14729"
      },
      "source": [
        "# Fitting the random forest with training Data.\n",
        "rfc.fit(X_train,y_train)"
      ],
      "execution_count": 178,
      "outputs": [
        {
          "output_type": "execute_result",
          "data": {
            "text/plain": [
              "RandomForestClassifier(bootstrap=True, ccp_alpha=0.0, class_weight=None,\n",
              "                       criterion='gini', max_depth=None, max_features='auto',\n",
              "                       max_leaf_nodes=None, max_samples=None,\n",
              "                       min_impurity_decrease=0.0, min_impurity_split=None,\n",
              "                       min_samples_leaf=1, min_samples_split=2,\n",
              "                       min_weight_fraction_leaf=0.0, n_estimators=100,\n",
              "                       n_jobs=None, oob_score=False, random_state=None,\n",
              "                       verbose=0, warm_start=False)"
            ]
          },
          "metadata": {
            "tags": []
          },
          "execution_count": 178
        }
      ]
    },
    {
      "cell_type": "code",
      "metadata": {
        "id": "5LeICDua4Ili"
      },
      "source": [
        "#Checking the score of Training Data\n",
        "train_score = rfc.score(X_train,y_train)"
      ],
      "execution_count": 179,
      "outputs": []
    },
    {
      "cell_type": "code",
      "metadata": {
        "id": "cfbMRuDg4MxW"
      },
      "source": [
        "#Checking the score of Test Data\n",
        "test_score = rfc.score(X_test,y_test)"
      ],
      "execution_count": 180,
      "outputs": []
    },
    {
      "cell_type": "code",
      "metadata": {
        "colab": {
          "base_uri": "https://localhost:8080/"
        },
        "id": "kE3dm2u-4OQA",
        "outputId": "8a1df488-8b43-41d7-cb45-11022a384897"
      },
      "source": [
        "print(f\"Train Score :: {train_score}\")\n",
        "print(f\"Test Score :: {test_score}\")"
      ],
      "execution_count": 181,
      "outputs": [
        {
          "output_type": "stream",
          "text": [
            "Train Score :: 0.9999608518634513\n",
            "Test Score :: 0.900753596711578\n"
          ],
          "name": "stdout"
        }
      ]
    },
    {
      "cell_type": "code",
      "metadata": {
        "id": "HUsLH18I8KvP"
      },
      "source": [
        "#Checking how many test lables we have classified Correctly.\n",
        "from sklearn.metrics import ConfusionMatrixDisplay,confusion_matrix,roc_curve\n",
        "pred = rfc.predict(X_test)"
      ],
      "execution_count": 182,
      "outputs": []
    },
    {
      "cell_type": "code",
      "metadata": {
        "colab": {
          "base_uri": "https://localhost:8080/"
        },
        "id": "G3D8LDx-8kML",
        "outputId": "ef3ea972-7c70-4d5d-89ad-63090263d88c"
      },
      "source": [
        "cf_matrix1 = confusion_matrix(y_test,pred)\n",
        "cf_matrix1"
      ],
      "execution_count": 183,
      "outputs": [
        {
          "output_type": "execute_result",
          "data": {
            "text/plain": [
              "array([[19143,    83],\n",
              "       [ 2090,   579]])"
            ]
          },
          "metadata": {
            "tags": []
          },
          "execution_count": 183
        }
      ]
    },
    {
      "cell_type": "markdown",
      "metadata": {
        "id": "0Tyh2Uii7NvJ"
      },
      "source": [
        "As We got low accuracy on the test data let's check for the possible ways to increase the score"
      ]
    },
    {
      "cell_type": "code",
      "metadata": {
        "colab": {
          "base_uri": "https://localhost:8080/"
        },
        "id": "WHHMfogK4PhY",
        "outputId": "b9a25ae5-21fe-44fc-d754-366549224c1e"
      },
      "source": [
        "#Checing the given data is imbalanced or not.\n",
        "target.value_counts()"
      ],
      "execution_count": 184,
      "outputs": [
        {
          "output_type": "execute_result",
          "data": {
            "text/plain": [
              "0    64007\n",
              "1     8976\n",
              "Name: IsBadBuy, dtype: int64"
            ]
          },
          "metadata": {
            "tags": []
          },
          "execution_count": 184
        }
      ]
    },
    {
      "cell_type": "markdown",
      "metadata": {
        "id": "W5tkBMyL7Kn6"
      },
      "source": [
        "Conclusion : We have a class imbalance."
      ]
    },
    {
      "cell_type": "code",
      "metadata": {
        "colab": {
          "base_uri": "https://localhost:8080/"
        },
        "id": "4wJ6oRBU4Xcm",
        "outputId": "45b1ef63-b6bc-4d96-cc4b-ef1c1f0d1108"
      },
      "source": [
        "# We have done with the Independent Variables . Now check the target variable and look whether the data is imbalanced or not.\n",
        "target.value_counts()"
      ],
      "execution_count": 185,
      "outputs": [
        {
          "output_type": "execute_result",
          "data": {
            "text/plain": [
              "0    64007\n",
              "1     8976\n",
              "Name: IsBadBuy, dtype: int64"
            ]
          },
          "metadata": {
            "tags": []
          },
          "execution_count": 185
        }
      ]
    },
    {
      "cell_type": "code",
      "metadata": {
        "id": "YMhc_6Hm64oF"
      },
      "source": [
        "# We can balance the data by using RandomOverSampler.\n",
        "from imblearn.over_sampling import RandomOverSampler"
      ],
      "execution_count": 186,
      "outputs": []
    },
    {
      "cell_type": "code",
      "metadata": {
        "id": "WZSqfx7p67Og"
      },
      "source": [
        "# Creating an object with RandomOverSampler.\n",
        "ros = RandomOverSampler()"
      ],
      "execution_count": 187,
      "outputs": []
    },
    {
      "cell_type": "code",
      "metadata": {
        "colab": {
          "base_uri": "https://localhost:8080/"
        },
        "id": "KL5qNbUP6-WS",
        "outputId": "aee23970-f207-430b-add3-70ed838c530f"
      },
      "source": [
        "# Resampling X & target data with RandomOverSampler\n",
        "X_ros ,target_ros = ros.fit_resample(X,target)"
      ],
      "execution_count": 188,
      "outputs": [
        {
          "output_type": "stream",
          "text": [
            "/usr/local/lib/python3.7/dist-packages/sklearn/utils/deprecation.py:87: FutureWarning: Function safe_indexing is deprecated; safe_indexing is deprecated in version 0.22 and will be removed in version 0.24.\n",
            "  warnings.warn(msg, category=FutureWarning)\n"
          ],
          "name": "stderr"
        }
      ]
    },
    {
      "cell_type": "code",
      "metadata": {
        "colab": {
          "base_uri": "https://localhost:8080/"
        },
        "id": "lEcenpWF7AV6",
        "outputId": "b9e57190-0aea-46d8-da8a-0d3c0dd18e39"
      },
      "source": [
        "#Checking the target variable whether we have balanced the data or not.\n",
        "from collections import Counter\n",
        "print(Counter(target_ros))"
      ],
      "execution_count": 189,
      "outputs": [
        {
          "output_type": "stream",
          "text": [
            "Counter({0: 64007, 1: 64007})\n"
          ],
          "name": "stdout"
        }
      ]
    },
    {
      "cell_type": "markdown",
      "metadata": {
        "id": "bPR3Zx4C7CVo"
      },
      "source": [
        "Now , We have Balanced The Data."
      ]
    },
    {
      "cell_type": "code",
      "metadata": {
        "id": "HRv8ENsw7hnE"
      },
      "source": [
        "#splitting the data into train and test\n",
        "from sklearn.model_selection import train_test_split\n",
        "X_train,X_test,y_train,y_test = train_test_split(X_ros,target_ros,test_size=0.3,random_state=355)"
      ],
      "execution_count": 190,
      "outputs": []
    },
    {
      "cell_type": "code",
      "metadata": {
        "id": "6EC2P2qY7oZV"
      },
      "source": [
        "#Creating an object of RandomForestClassifier\n",
        "rfc2 = RandomForestClassifier()"
      ],
      "execution_count": 191,
      "outputs": []
    },
    {
      "cell_type": "code",
      "metadata": {
        "colab": {
          "base_uri": "https://localhost:8080/"
        },
        "id": "fe6Qx_gj7uax",
        "outputId": "d7dc3a82-09a6-4bff-d3b0-564601697d72"
      },
      "source": [
        "# Fitting the random forest with training Data.\n",
        "rfc2.fit(X_train,y_train)"
      ],
      "execution_count": 192,
      "outputs": [
        {
          "output_type": "execute_result",
          "data": {
            "text/plain": [
              "RandomForestClassifier(bootstrap=True, ccp_alpha=0.0, class_weight=None,\n",
              "                       criterion='gini', max_depth=None, max_features='auto',\n",
              "                       max_leaf_nodes=None, max_samples=None,\n",
              "                       min_impurity_decrease=0.0, min_impurity_split=None,\n",
              "                       min_samples_leaf=1, min_samples_split=2,\n",
              "                       min_weight_fraction_leaf=0.0, n_estimators=100,\n",
              "                       n_jobs=None, oob_score=False, random_state=None,\n",
              "                       verbose=0, warm_start=False)"
            ]
          },
          "metadata": {
            "tags": []
          },
          "execution_count": 192
        }
      ]
    },
    {
      "cell_type": "code",
      "metadata": {
        "id": "9OLnxih27vQe"
      },
      "source": [
        "#Checking the score of Training Data\n",
        "train_score2 = rfc2.score(X_train,y_train)"
      ],
      "execution_count": 193,
      "outputs": []
    },
    {
      "cell_type": "code",
      "metadata": {
        "id": "_Ozh-bxc7-E7"
      },
      "source": [
        "#Checking the score of Test Data\n",
        "test_score2 = rfc2.score(X_test,y_test)"
      ],
      "execution_count": 194,
      "outputs": []
    },
    {
      "cell_type": "code",
      "metadata": {
        "colab": {
          "base_uri": "https://localhost:8080/"
        },
        "id": "IjcERhvi8BRC",
        "outputId": "dd321759-2520-494e-de56-f2200c123e8d"
      },
      "source": [
        "# Printing the train_score & test_score\n",
        "print(f\"Train Score :: {train_score2}\")\n",
        "print(f\"Test Score :: {test_score2}\")"
      ],
      "execution_count": 195,
      "outputs": [
        {
          "output_type": "stream",
          "text": [
            "Train Score :: 1.0\n",
            "Test Score :: 0.9906262205442\n"
          ],
          "name": "stdout"
        }
      ]
    },
    {
      "cell_type": "code",
      "metadata": {
        "id": "_ZrY8wkH8G_d"
      },
      "source": [
        "#Checking how many test labels we have classified properly.\n",
        "pred2 = rfc2.predict(X_test)\n",
        "cf_matrix2 = confusion_matrix(y_test,pred2)"
      ],
      "execution_count": 196,
      "outputs": []
    },
    {
      "cell_type": "code",
      "metadata": {
        "colab": {
          "base_uri": "https://localhost:8080/",
          "height": 284
        },
        "id": "h9iJerrm-BqS",
        "outputId": "d6303b08-9489-490e-def7-5b56cc08b701"
      },
      "source": [
        "sns.heatmap(cf_matrix2/np.sum(cf_matrix2),annot=True,fmt='.2%',cmap='coolwarm')"
      ],
      "execution_count": 197,
      "outputs": [
        {
          "output_type": "execute_result",
          "data": {
            "text/plain": [
              "<matplotlib.axes._subplots.AxesSubplot at 0x7fe68a568b50>"
            ]
          },
          "metadata": {
            "tags": []
          },
          "execution_count": 197
        },
        {
          "output_type": "display_data",
          "data": {
            "image/png": "[encoded data removed]",
            "text/plain": [
              "<Figure size 432x288 with 2 Axes>"
            ]
          },
          "metadata": {
            "tags": [],
            "needs_background": "light"
          }
        }
      ]
    },
    {
      "cell_type": "code",
      "metadata": {
        "colab": {
          "base_uri": "https://localhost:8080/"
        },
        "id": "HYCs7m9V_I1u",
        "outputId": "ea7760db-191e-47a3-ea9a-4c2482074fff"
      },
      "source": [
        "# Comparing both the confusion metrics before and after balancing the data.\n",
        "cf_matrix1"
      ],
      "execution_count": 198,
      "outputs": [
        {
          "output_type": "execute_result",
          "data": {
            "text/plain": [
              "array([[19143,    83],\n",
              "       [ 2090,   579]])"
            ]
          },
          "metadata": {
            "tags": []
          },
          "execution_count": 198
        }
      ]
    },
    {
      "cell_type": "code",
      "metadata": {
        "colab": {
          "base_uri": "https://localhost:8080/"
        },
        "id": "h57q1itG_r1U",
        "outputId": "48889edd-f7bc-43d4-ca0b-61dfb3032d1f"
      },
      "source": [
        "cf_matrix2"
      ],
      "execution_count": 199,
      "outputs": [
        {
          "output_type": "execute_result",
          "data": {
            "text/plain": [
              "array([[18891,   299],\n",
              "       [   61, 19154]])"
            ]
          },
          "metadata": {
            "tags": []
          },
          "execution_count": 199
        }
      ]
    },
    {
      "cell_type": "markdown",
      "metadata": {
        "id": "BIUyN9VY_wzS"
      },
      "source": [
        "Conclusion : We are able to decrease the total percentage of false predicted values . but slightly increased the False Positive Rate and But yes, we have decreased the False negative rate after balancing The data."
      ]
    },
    {
      "cell_type": "markdown",
      "metadata": {
        "id": "LYBXoe2KAXos"
      },
      "source": [
        "In this use case we need to correct guide the person who is going to buy the car , so we cannot guide a person into a situation where the purchase is bad and we predicted no it's not bad you can buy the Car."
      ]
    },
    {
      "cell_type": "code",
      "metadata": {
        "id": "ivyVNkhNAnKA"
      },
      "source": [
        "from sklearn.metrics import roc_curve\n",
        "fpr,tpr,thresholds = roc_curve(y_test,pred2)"
      ],
      "execution_count": 200,
      "outputs": []
    },
    {
      "cell_type": "code",
      "metadata": {
        "colab": {
          "base_uri": "https://localhost:8080/",
          "height": 284
        },
        "id": "kyqr6MJ2Bu6N",
        "outputId": "a78505c7-7164-4a6c-ea03-6c84ce4ab5d3"
      },
      "source": [
        "plt.plot(fpr,tpr)"
      ],
      "execution_count": 201,
      "outputs": [
        {
          "output_type": "execute_result",
          "data": {
            "text/plain": [
              "[<matplotlib.lines.Line2D at 0x7fe687df5150>]"
            ]
          },
          "metadata": {
            "tags": []
          },
          "execution_count": 201
        },
        {
          "output_type": "display_data",
          "data": {
            "image/png": "[encoded data removed]",
            "text/plain": [
              "<Figure size 432x288 with 1 Axes>"
            ]
          },
          "metadata": {
            "tags": [],
            "needs_background": "light"
          }
        }
      ]
    },
    {
      "cell_type": "code",
      "metadata": {
        "id": "rCfuIo7sB4m0"
      },
      "source": [
        "# Let's try to check can we get more accuray without balancing the data, cause balancing the data is increasing the fpr."
      ],
      "execution_count": 202,
      "outputs": []
    },
    {
      "cell_type": "markdown",
      "metadata": {
        "id": "JTOfwWEJCyS4"
      },
      "source": [
        "Hyper Parameter Tuning."
      ]
    },
    {
      "cell_type": "code",
      "metadata": {
        "id": "ZvGz1KyMC1Q0"
      },
      "source": [
        "# We are taking the data which is not balanced.\n",
        "#splitting the data into train and test\n",
        "from sklearn.model_selection import train_test_split\n",
        "X_train,X_test,y_train,y_test = train_test_split(X,target,test_size=0.3,random_state=355)"
      ],
      "execution_count": 203,
      "outputs": []
    },
    {
      "cell_type": "code",
      "metadata": {
        "colab": {
          "base_uri": "https://localhost:8080/"
        },
        "id": "2D9Ut9mqC_vw",
        "outputId": "c3e7cf23-04ce-4c92-86a6-6e3819aac815"
      },
      "source": [
        "# Using RandomizedSerachCV \n",
        "from sklearn.model_selection import RandomizedSearchCV\n",
        "n_estimators = [int(x) for x in np.linspace(100,1000,5)]\n",
        "max_features = ['auto','sqrt','log2']\n",
        "max_depth = [int(x) for x in np.linspace(10,1000,5)]\n",
        "min_samples_split = [3,4,5,6,9]\n",
        "min_samples_leaf = [2,4,6,8]\n",
        "random_grid = {'n_estimators' : n_estimators,\n",
        "              'max_features': max_features,\n",
        "              'max_depth':max_depth,\n",
        "              'min_samples_split':min_samples_split,\n",
        "              'min_samples_leaf':min_samples_leaf,\n",
        "              'criterion':['entropy','gini']}\n",
        "print(random_grid)"
      ],
      "execution_count": 204,
      "outputs": [
        {
          "output_type": "stream",
          "text": [
            "{'n_estimators': [100, 325, 550, 775, 1000], 'max_features': ['auto', 'sqrt', 'log2'], 'max_depth': [10, 257, 505, 752, 1000], 'min_samples_split': [3, 4, 5, 6, 9], 'min_samples_leaf': [2, 4, 6, 8], 'criterion': ['entropy', 'gini']}\n"
          ],
          "name": "stdout"
        }
      ]
    },
    {
      "cell_type": "code",
      "metadata": {
        "colab": {
          "base_uri": "https://localhost:8080/"
        },
        "id": "oLBNWWU1DMu5",
        "outputId": "74112e16-d71c-465c-cbbd-5a8a5ebcfb20"
      },
      "source": [
        "# Creating an object for RandomForest\n",
        "rf = RandomForestClassifier()\n",
        "# Initializing the RandomSearchCV with Random grid parameters.\n",
        "rf_random_grid = RandomizedSearchCV(estimator=rf,param_distributions=random_grid,\n",
        "                                    n_iter=10,cv=3,random_state=100,n_jobs=-1,verbose=2)\n",
        "#training the random search with training Data\n",
        "rf_random_grid.fit(X_train,y_train)"
      ],
      "execution_count": 205,
      "outputs": [
        {
          "output_type": "stream",
          "text": [
            "Fitting 3 folds for each of 10 candidates, totalling 30 fits\n"
          ],
          "name": "stdout"
        },
        {
          "output_type": "stream",
          "text": [
            "[Parallel(n_jobs=-1)]: Using backend LokyBackend with 2 concurrent workers.\n",
            "[Parallel(n_jobs=-1)]: Done  30 out of  30 | elapsed: 15.9min finished\n"
          ],
          "name": "stderr"
        },
        {
          "output_type": "execute_result",
          "data": {
            "text/plain": [
              "RandomizedSearchCV(cv=3, error_score=nan,\n",
              "                   estimator=RandomForestClassifier(bootstrap=True,\n",
              "                                                    ccp_alpha=0.0,\n",
              "                                                    class_weight=None,\n",
              "                                                    criterion='gini',\n",
              "                                                    max_depth=None,\n",
              "                                                    max_features='auto',\n",
              "                                                    max_leaf_nodes=None,\n",
              "                                                    max_samples=None,\n",
              "                                                    min_impurity_decrease=0.0,\n",
              "                                                    min_impurity_split=None,\n",
              "                                                    min_samples_leaf=1,\n",
              "                                                    min_samples_split=2,\n",
              "                                                    min_weight_fraction_leaf=0.0,\n",
              "                                                    n_estimators=100,\n",
              "                                                    n_jobs...\n",
              "                   iid='deprecated', n_iter=10, n_jobs=-1,\n",
              "                   param_distributions={'criterion': ['entropy', 'gini'],\n",
              "                                        'max_depth': [10, 257, 505, 752, 1000],\n",
              "                                        'max_features': ['auto', 'sqrt',\n",
              "                                                         'log2'],\n",
              "                                        'min_samples_leaf': [2, 4, 6, 8],\n",
              "                                        'min_samples_split': [3, 4, 5, 6, 9],\n",
              "                                        'n_estimators': [100, 325, 550, 775,\n",
              "                                                         1000]},\n",
              "                   pre_dispatch='2*n_jobs', random_state=100, refit=True,\n",
              "                   return_train_score=False, scoring=None, verbose=2)"
            ]
          },
          "metadata": {
            "tags": []
          },
          "execution_count": 205
        }
      ]
    },
    {
      "cell_type": "code",
      "metadata": {
        "id": "bjtBjXFKGjlM",
        "colab": {
          "base_uri": "https://localhost:8080/"
        },
        "outputId": "a6d58c22-9d92-480b-cb0b-57b00f525808"
      },
      "source": [
        "# Checking the best score from random search\n",
        "rf_random_grid.best_score_"
      ],
      "execution_count": 206,
      "outputs": [
        {
          "output_type": "execute_result",
          "data": {
            "text/plain": [
              "0.8997024683383249"
            ]
          },
          "metadata": {
            "tags": []
          },
          "execution_count": 206
        }
      ]
    },
    {
      "cell_type": "code",
      "metadata": {
        "id": "YfuJoBzLGmnP"
      },
      "source": [
        "# Best estimator which can give best and robust score\n",
        "random_rf = rf_random_grid.best_estimator_"
      ],
      "execution_count": 207,
      "outputs": []
    },
    {
      "cell_type": "code",
      "metadata": {
        "colab": {
          "base_uri": "https://localhost:8080/"
        },
        "id": "-YM9__jMGyzz",
        "outputId": "49fea772-0179-46c3-db91-21dd82e16195"
      },
      "source": [
        "random_rf.fit(X_train,y_train)"
      ],
      "execution_count": 208,
      "outputs": [
        {
          "output_type": "execute_result",
          "data": {
            "text/plain": [
              "RandomForestClassifier(bootstrap=True, ccp_alpha=0.0, class_weight=None,\n",
              "                       criterion='gini', max_depth=257, max_features='sqrt',\n",
              "                       max_leaf_nodes=None, max_samples=None,\n",
              "                       min_impurity_decrease=0.0, min_impurity_split=None,\n",
              "                       min_samples_leaf=4, min_samples_split=4,\n",
              "                       min_weight_fraction_leaf=0.0, n_estimators=100,\n",
              "                       n_jobs=None, oob_score=False, random_state=None,\n",
              "                       verbose=0, warm_start=False)"
            ]
          },
          "metadata": {
            "tags": []
          },
          "execution_count": 208
        }
      ]
    },
    {
      "cell_type": "code",
      "metadata": {
        "id": "lkrmh3olG5ER"
      },
      "source": [
        " # train score\n",
        "random_train_score = random_rf.score(X_train,y_train)"
      ],
      "execution_count": 209,
      "outputs": []
    },
    {
      "cell_type": "code",
      "metadata": {
        "colab": {
          "base_uri": "https://localhost:8080/"
        },
        "id": "GC9XpD_gHMiB",
        "outputId": "96a4f212-2800-40a0-9fb8-d9a06083f9ce"
      },
      "source": [
        "random_train_score"
      ],
      "execution_count": 210,
      "outputs": [
        {
          "output_type": "execute_result",
          "data": {
            "text/plain": [
              "0.914578766050736"
            ]
          },
          "metadata": {
            "tags": []
          },
          "execution_count": 210
        }
      ]
    },
    {
      "cell_type": "code",
      "metadata": {
        "id": "0o6Y8IqDHWSn"
      },
      "source": [
        "random_test_score = random_rf.score(X_test,y_test)"
      ],
      "execution_count": 211,
      "outputs": []
    },
    {
      "cell_type": "code",
      "metadata": {
        "colab": {
          "base_uri": "https://localhost:8080/"
        },
        "id": "OnnSEa02HdOM",
        "outputId": "4183c075-4fa9-4e92-b5b1-0394d57cbb4c"
      },
      "source": [
        "random_test_score"
      ],
      "execution_count": 212,
      "outputs": [
        {
          "output_type": "execute_result",
          "data": {
            "text/plain": [
              "0.9005709065996803"
            ]
          },
          "metadata": {
            "tags": []
          },
          "execution_count": 212
        }
      ]
    },
    {
      "cell_type": "markdown",
      "metadata": {
        "id": "MiVlckGaHeqC"
      },
      "source": [
        "#Using XGBClassifier"
      ]
    },
    {
      "cell_type": "code",
      "metadata": {
        "id": "qU8yaOArIO0q"
      },
      "source": [
        "# Creating object of XGBClassifier\n",
        "xgb = XGBClassifier()"
      ],
      "execution_count": 213,
      "outputs": []
    },
    {
      "cell_type": "code",
      "metadata": {
        "colab": {
          "base_uri": "https://localhost:8080/"
        },
        "id": "bFFxNi8mIYvo",
        "outputId": "1460a3d3-dfe1-4f46-d0f4-6ef7dfcfa79f"
      },
      "source": [
        "# Training XGBClassifier with training Data.\n",
        "xgb.fit(X_train,y_train)"
      ],
      "execution_count": 214,
      "outputs": [
        {
          "output_type": "execute_result",
          "data": {
            "text/plain": [
              "XGBClassifier(base_score=0.5, booster='gbtree', colsample_bylevel=1,\n",
              "              colsample_bynode=1, colsample_bytree=1, gamma=0,\n",
              "              learning_rate=0.1, max_delta_step=0, max_depth=3,\n",
              "              min_child_weight=1, missing=None, n_estimators=100, n_jobs=1,\n",
              "              nthread=None, objective='binary:logistic', random_state=0,\n",
              "              reg_alpha=0, reg_lambda=1, scale_pos_weight=1, seed=None,\n",
              "              silent=None, subsample=1, verbosity=1)"
            ]
          },
          "metadata": {
            "tags": []
          },
          "execution_count": 214
        }
      ]
    },
    {
      "cell_type": "code",
      "metadata": {
        "id": "4Y9goUuZIfdF"
      },
      "source": [
        "# Train score using XGBClassifier\n",
        "xgb_train_score = xgb.score(X_train,y_train)"
      ],
      "execution_count": 215,
      "outputs": []
    },
    {
      "cell_type": "code",
      "metadata": {
        "colab": {
          "base_uri": "https://localhost:8080/"
        },
        "id": "zrJW09BGInb3",
        "outputId": "e5e11dc6-809d-454c-c4c1-b313660ffddd"
      },
      "source": [
        "# checking the train score\n",
        "xgb_train_score"
      ],
      "execution_count": 216,
      "outputs": [
        {
          "output_type": "execute_result",
          "data": {
            "text/plain": [
              "0.9001918258690886"
            ]
          },
          "metadata": {
            "tags": []
          },
          "execution_count": 216
        }
      ]
    },
    {
      "cell_type": "code",
      "metadata": {
        "id": "iOtBz_hSIouH"
      },
      "source": [
        "# Predicting the test data\n",
        "xgb_test_score = xgb.score(X_test,y_test)"
      ],
      "execution_count": 217,
      "outputs": []
    },
    {
      "cell_type": "code",
      "metadata": {
        "colab": {
          "base_uri": "https://localhost:8080/"
        },
        "id": "LA8TZL3mIvXU",
        "outputId": "ee79622c-e324-47f7-e598-13b490bac485"
      },
      "source": [
        "xgb_test_score"
      ],
      "execution_count": 218,
      "outputs": [
        {
          "output_type": "execute_result",
          "data": {
            "text/plain": [
              "0.9002055263758849"
            ]
          },
          "metadata": {
            "tags": []
          },
          "execution_count": 218
        }
      ]
    },
    {
      "cell_type": "markdown",
      "metadata": {
        "id": "XdEFMa97IxRh"
      },
      "source": [
        "Hyper Parameter Optimization for XGBClassifier"
      ]
    },
    {
      "cell_type": "code",
      "metadata": {
        "id": "fGp0f0z1JdLH"
      },
      "source": [
        "## Hyper Parameter Optimization\n",
        "\n",
        "params={\n",
        " \"learning_rate\"    : [0.05, 0.10, 0.15, 0.20, 0.25, 0.30 ] ,\n",
        " \"max_depth\"        : [ 3, 4, 5, 6, 8, 10, 12, 15],\n",
        " \"min_child_weight\" : [ 1, 3, 5, 7 ],\n",
        " \"gamma\"            : [ 0.0, 0.1, 0.2 , 0.3, 0.4 ],\n",
        " \"colsample_bytree\" : [ 0.3, 0.4, 0.5 , 0.7 ]\n",
        "    \n",
        "}"
      ],
      "execution_count": 219,
      "outputs": []
    },
    {
      "cell_type": "code",
      "metadata": {
        "id": "4kQW0FF6JgLO"
      },
      "source": [
        "# initializing a model with random params\n",
        "xbgclassifier = XGBClassifier()\n",
        "random_search=RandomizedSearchCV(xbgclassifier,param_distributions=params,n_iter=5,scoring='roc_auc',n_jobs=-1,cv=5,verbose=3)"
      ],
      "execution_count": 220,
      "outputs": []
    },
    {
      "cell_type": "code",
      "metadata": {
        "colab": {
          "base_uri": "https://localhost:8080/"
        },
        "id": "0N3WJUcOJyLt",
        "outputId": "c1ce340a-5f9d-4db7-936e-d0f380997d1a"
      },
      "source": [
        "# Fitting the random search with train data\n",
        "random_search.fit(X_train,y_train)"
      ],
      "execution_count": 221,
      "outputs": [
        {
          "output_type": "stream",
          "text": [
            "Fitting 5 folds for each of 5 candidates, totalling 25 fits\n"
          ],
          "name": "stdout"
        },
        {
          "output_type": "stream",
          "text": [
            "[Parallel(n_jobs=-1)]: Using backend LokyBackend with 2 concurrent workers.\n",
            "[Parallel(n_jobs=-1)]: Done  25 out of  25 | elapsed:  3.7min finished\n"
          ],
          "name": "stderr"
        },
        {
          "output_type": "execute_result",
          "data": {
            "text/plain": [
              "RandomizedSearchCV(cv=5, error_score=nan,\n",
              "                   estimator=XGBClassifier(base_score=0.5, booster='gbtree',\n",
              "                                           colsample_bylevel=1,\n",
              "                                           colsample_bynode=1,\n",
              "                                           colsample_bytree=1, gamma=0,\n",
              "                                           learning_rate=0.1, max_delta_step=0,\n",
              "                                           max_depth=3, min_child_weight=1,\n",
              "                                           missing=None, n_estimators=100,\n",
              "                                           n_jobs=1, nthread=None,\n",
              "                                           objective='binary:logistic',\n",
              "                                           random_state=0, reg_alpha=0,\n",
              "                                           reg_lambda=1, sc...\n",
              "                                           verbosity=1),\n",
              "                   iid='deprecated', n_iter=5, n_jobs=-1,\n",
              "                   param_distributions={'colsample_bytree': [0.3, 0.4, 0.5,\n",
              "                                                             0.7],\n",
              "                                        'gamma': [0.0, 0.1, 0.2, 0.3, 0.4],\n",
              "                                        'learning_rate': [0.05, 0.1, 0.15, 0.2,\n",
              "                                                          0.25, 0.3],\n",
              "                                        'max_depth': [3, 4, 5, 6, 8, 10, 12,\n",
              "                                                      15],\n",
              "                                        'min_child_weight': [1, 3, 5, 7]},\n",
              "                   pre_dispatch='2*n_jobs', random_state=None, refit=True,\n",
              "                   return_train_score=False, scoring='roc_auc', verbose=3)"
            ]
          },
          "metadata": {
            "tags": []
          },
          "execution_count": 221
        }
      ]
    },
    {
      "cell_type": "code",
      "metadata": {
        "colab": {
          "base_uri": "https://localhost:8080/"
        },
        "id": "lGwAUk8iKEjA",
        "outputId": "2288a997-3e27-4065-d23f-4e480d9f91a5"
      },
      "source": [
        "# Best Score from random search\n",
        "random_search.best_score_"
      ],
      "execution_count": 222,
      "outputs": [
        {
          "output_type": "execute_result",
          "data": {
            "text/plain": [
              "0.7688260199417971"
            ]
          },
          "metadata": {
            "tags": []
          },
          "execution_count": 222
        }
      ]
    },
    {
      "cell_type": "code",
      "metadata": {
        "id": "1c9ZccZwLMsz"
      },
      "source": [
        "# creating an object with best parameters\n",
        "random_xgb = random_search.best_estimator_"
      ],
      "execution_count": 223,
      "outputs": []
    },
    {
      "cell_type": "code",
      "metadata": {
        "colab": {
          "base_uri": "https://localhost:8080/"
        },
        "id": "7EZOlEW8LRXQ",
        "outputId": "2ec14f83-e032-492a-b6f8-f5e50f12f053"
      },
      "source": [
        "random_xgb.fit(X_train,y_train)"
      ],
      "execution_count": 224,
      "outputs": [
        {
          "output_type": "execute_result",
          "data": {
            "text/plain": [
              "XGBClassifier(base_score=0.5, booster='gbtree', colsample_bylevel=1,\n",
              "              colsample_bynode=1, colsample_bytree=0.7, gamma=0.4,\n",
              "              learning_rate=0.15, max_delta_step=0, max_depth=6,\n",
              "              min_child_weight=5, missing=None, n_estimators=100, n_jobs=1,\n",
              "              nthread=None, objective='binary:logistic', random_state=0,\n",
              "              reg_alpha=0, reg_lambda=1, scale_pos_weight=1, seed=None,\n",
              "              silent=None, subsample=1, verbosity=1)"
            ]
          },
          "metadata": {
            "tags": []
          },
          "execution_count": 224
        }
      ]
    },
    {
      "cell_type": "code",
      "metadata": {
        "colab": {
          "base_uri": "https://localhost:8080/"
        },
        "id": "IkKwA1P9LU_g",
        "outputId": "adba31ff-a554-4c82-eee8-24b5b447c470"
      },
      "source": [
        "random_xgb.score(X_train,y_train)"
      ],
      "execution_count": 225,
      "outputs": [
        {
          "output_type": "execute_result",
          "data": {
            "text/plain": [
              "0.9065925461948011"
            ]
          },
          "metadata": {
            "tags": []
          },
          "execution_count": 225
        }
      ]
    },
    {
      "cell_type": "code",
      "metadata": {
        "colab": {
          "base_uri": "https://localhost:8080/"
        },
        "id": "xyJwKMg9LaQw",
        "outputId": "99497515-9e7a-4feb-a51f-bd8122d90265"
      },
      "source": [
        "random_xgb.score(X_test,y_test)"
      ],
      "execution_count": 226,
      "outputs": [
        {
          "output_type": "execute_result",
          "data": {
            "text/plain": [
              "0.9021694450787852"
            ]
          },
          "metadata": {
            "tags": []
          },
          "execution_count": 226
        }
      ]
    },
    {
      "cell_type": "code",
      "metadata": {
        "id": "TO9mDf2fLdwY"
      },
      "source": [
        "#using cross validation \n",
        "from sklearn.model_selection import cross_val_score\n",
        "score = cross_val_score(random_xgb,X,target,cv=10)"
      ],
      "execution_count": 227,
      "outputs": []
    },
    {
      "cell_type": "code",
      "metadata": {
        "colab": {
          "base_uri": "https://localhost:8080/"
        },
        "id": "TkLFsGcML1L8",
        "outputId": "a4bcf901-1ce3-4f5f-8658-284bdaa183e9"
      },
      "source": [
        "# all the cross val scores\n",
        "score"
      ],
      "execution_count": 228,
      "outputs": [
        {
          "output_type": "execute_result",
          "data": {
            "text/plain": [
              "array([0.90642554, 0.87080422, 0.88299767, 0.88969581, 0.88777747,\n",
              "       0.84625925, 0.8080296 , 0.90422033, 0.84831461, 0.85735818])"
            ]
          },
          "metadata": {
            "tags": []
          },
          "execution_count": 228
        }
      ]
    },
    {
      "cell_type": "code",
      "metadata": {
        "colab": {
          "base_uri": "https://localhost:8080/"
        },
        "id": "CfQR7ECwMSGQ",
        "outputId": "3eb0e23d-613e-4353-c24f-433a5f9e3ff5"
      },
      "source": [
        "max(score)"
      ],
      "execution_count": 229,
      "outputs": [
        {
          "output_type": "execute_result",
          "data": {
            "text/plain": [
              "0.9064255377448965"
            ]
          },
          "metadata": {
            "tags": []
          },
          "execution_count": 229
        }
      ]
    },
    {
      "cell_type": "code",
      "metadata": {
        "id": "K5COQ57xwyPN"
      },
      "source": [
        "model = random_xgb"
      ],
      "execution_count": 235,
      "outputs": []
    },
    {
      "cell_type": "code",
      "metadata": {
        "id": "07Zdhwzbmbs3"
      },
      "source": [
        "def predict_input(single_input):\n",
        "    input_df = pd.DataFrame([single_input])\n",
        "    input_df[categorical_null_cols] = categorical_imputer.transform(input_df[categorical_null_cols])\n",
        "    input_df[numerical_null_cols] = numerical_imputer.transform(input_df[numerical_null_cols])\n",
        "    input_df[\"Model\"] = model_dict[input_df[\"Model\"][0]]\n",
        "    input_df[\"Make\"] = make_dict[input_df[\"Make\"][0]]\n",
        "    input_df[\"SubModel\"] = submodel_dict[input_df[\"SubModel\"][0]]\n",
        "    input_df[\"VNST\"] = vnst_dict[input_df[\"VNST\"][0]]\n",
        "    input_df[\"Trim\"] = trim_dict[input_df[\"Trim\"][0]]\n",
        "    input_df[encoded_cols] = encoder.transform(input_df[categorical_cols])\n",
        "    X_input = input_df[numeric_cols + encoded_cols]\n",
        "    pred = model.predict(X_input)[0]\n",
        "    prob = model.predict_proba(X_input)[0][list(model.classes_).index(pred)]\n",
        "    return pred, prob\n",
        "    print(X_input)"
      ],
      "execution_count": 236,
      "outputs": []
    },
    {
      "cell_type": "code",
      "metadata": {
        "id": "-RXihqS7miLZ"
      },
      "source": [
        "single_input={'VehicleAge':3,\n",
        " 'Make':'MAZDA',\n",
        " 'Model':'MAZDA3',\n",
        " 'Trim':'i',\n",
        " 'SubModel':'4D SEDAN I',\n",
        " 'WheelTypeID':1.0,\n",
        " 'VehOdo':89046,\n",
        " 'MMRAcquisitionAuctionAveragePrice':8155.0,\n",
        " 'MMRAcquisitionAuctionCleanPrice':9829.0,\n",
        " 'MMRAcquisitionRetailAveragePrice':11636.0,\n",
        " 'MMRAcquisitonRetailCleanPrice':13600.0,\n",
        " 'MMRCurrentAuctionAveragePrice':7451.0,\n",
        " 'MMRCurrentAuctionCleanPrice':13600.0,\n",
        " 'MMRCurrentRetailAveragePrice':11597.0,\n",
        " 'MMRCurrentRetailCleanPrice':12409.0,\n",
        " 'BYRNO':21973,\n",
        " 'VNZIP1':33619,\n",
        " 'VNST':'FL',\n",
        " 'VehBCost':7100.0,\n",
        " 'IsOnlineSale':0,\n",
        " 'WarrantyCost':1113,\n",
        " 'year':2009,\n",
        " 'month':12,\n",
        " 'date':7,\n",
        " 'Auction':'ADESA',\n",
        " 'Color':'RED',\n",
        " 'Transmission':'AUTO',\n",
        " 'WheelType':'Alloy',\n",
        " 'Nationality':'OTHER ASIAN',\n",
        " 'Size':'MEDIUM',\n",
        " 'TopThreeAmericanName':'OTHER'\n",
        "    \n",
        "}"
      ],
      "execution_count": 237,
      "outputs": []
    },
    {
      "cell_type": "code",
      "metadata": {
        "colab": {
          "base_uri": "https://localhost:8080/",
          "height": 118
        },
        "id": "q3glv_nBmcXt",
        "outputId": "691d78f6-d108-4108-a224-dd40ba93bddb"
      },
      "source": [
        "input_df = pd.DataFrame([single_input])\n",
        "input_df[numeric_cols]"
      ],
      "execution_count": 238,
      "outputs": [
        {
          "output_type": "execute_result",
          "data": {
            "text/html": [
              "<div>\n",
              "<style scoped>\n",
              "    .dataframe tbody tr th:only-of-type {\n",
              "        vertical-align: middle;\n",
              "    }\n",
              "\n",
              "    .dataframe tbody tr th {\n",
              "        vertical-align: top;\n",
              "    }\n",
              "\n",
              "    .dataframe thead th {\n",
              "        text-align: right;\n",
              "    }\n",
              "</style>\n",
              "<table border=\"1\" class=\"dataframe\">\n",
              "  <thead>\n",
              "    <tr style=\"text-align: right;\">\n",
              "      <th></th>\n",
              "      <th>VehicleAge</th>\n",
              "      <th>Make</th>\n",
              "      <th>Model</th>\n",
              "      <th>Trim</th>\n",
              "      <th>SubModel</th>\n",
              "      <th>WheelTypeID</th>\n",
              "      <th>VehOdo</th>\n",
              "      <th>MMRAcquisitionAuctionAveragePrice</th>\n",
              "      <th>MMRAcquisitionAuctionCleanPrice</th>\n",
              "      <th>MMRAcquisitionRetailAveragePrice</th>\n",
              "      <th>MMRAcquisitonRetailCleanPrice</th>\n",
              "      <th>MMRCurrentAuctionAveragePrice</th>\n",
              "      <th>MMRCurrentAuctionCleanPrice</th>\n",
              "      <th>MMRCurrentRetailAveragePrice</th>\n",
              "      <th>MMRCurrentRetailCleanPrice</th>\n",
              "      <th>BYRNO</th>\n",
              "      <th>VNZIP1</th>\n",
              "      <th>VNST</th>\n",
              "      <th>VehBCost</th>\n",
              "      <th>IsOnlineSale</th>\n",
              "      <th>WarrantyCost</th>\n",
              "      <th>year</th>\n",
              "      <th>month</th>\n",
              "      <th>date</th>\n",
              "    </tr>\n",
              "  </thead>\n",
              "  <tbody>\n",
              "    <tr>\n",
              "      <th>0</th>\n",
              "      <td>3</td>\n",
              "      <td>MAZDA</td>\n",
              "      <td>MAZDA3</td>\n",
              "      <td>i</td>\n",
              "      <td>4D SEDAN I</td>\n",
              "      <td>1.0</td>\n",
              "      <td>89046</td>\n",
              "      <td>8155.0</td>\n",
              "      <td>9829.0</td>\n",
              "      <td>11636.0</td>\n",
              "      <td>13600.0</td>\n",
              "      <td>7451.0</td>\n",
              "      <td>13600.0</td>\n",
              "      <td>11597.0</td>\n",
              "      <td>12409.0</td>\n",
              "      <td>21973</td>\n",
              "      <td>33619</td>\n",
              "      <td>FL</td>\n",
              "      <td>7100.0</td>\n",
              "      <td>0</td>\n",
              "      <td>1113</td>\n",
              "      <td>2009</td>\n",
              "      <td>12</td>\n",
              "      <td>7</td>\n",
              "    </tr>\n",
              "  </tbody>\n",
              "</table>\n",
              "</div>"
            ],
            "text/plain": [
              "   VehicleAge   Make   Model Trim  ... WarrantyCost  year  month  date\n",
              "0           3  MAZDA  MAZDA3    i  ...         1113  2009     12     7\n",
              "\n",
              "[1 rows x 24 columns]"
            ]
          },
          "metadata": {
            "tags": []
          },
          "execution_count": 238
        }
      ]
    },
    {
      "cell_type": "code",
      "metadata": {
        "colab": {
          "base_uri": "https://localhost:8080/"
        },
        "id": "y7yhtttSl59o",
        "outputId": "3c5debc3-cbf4-47ed-bd0c-1eb25839e40d"
      },
      "source": [
        "predict_input(single_input)"
      ],
      "execution_count": 239,
      "outputs": [
        {
          "output_type": "execute_result",
          "data": {
            "text/plain": [
              "(0, 0.9521537)"
            ]
          },
          "metadata": {
            "tags": []
          },
          "execution_count": 239
        }
      ]
    },
    {
      "cell_type": "code",
      "metadata": {
        "colab": {
          "base_uri": "https://localhost:8080/",
          "height": 94
        },
        "id": "WIXLVcjWWSAV",
        "outputId": "fe6f735e-4bb5-4703-f173-901468c80894"
      },
      "source": [
        "jovian.commit()"
      ],
      "execution_count": 240,
      "outputs": [
        {
          "output_type": "stream",
          "text": [
            "[jovian] Detected Colab notebook...\u001b[0m\n",
            "[jovian] Uploading colab notebook to Jovian...\u001b[0m\n",
            "Committed successfully! https://jovian.ai/nvinay1586/zerotogbms-project\n"
          ],
          "name": "stdout"
        },
        {
          "output_type": "execute_result",
          "data": {
            "application/vnd.google.colaboratory.intrinsic+json": {
              "type": "string"
            },
            "text/plain": [
              "'https://jovian.ai/nvinay1586/zerotogbms-project'"
            ]
          },
          "metadata": {
            "tags": []
          },
          "execution_count": 240
        }
      ]
    },
    {
      "cell_type": "code",
      "metadata": {
        "colab": {
          "base_uri": "https://localhost:8080/"
        },
        "id": "OBmnw0_GM1aV",
        "outputId": "e5d7fb93-ee9d-46db-a49d-c031cd39bb9a"
      },
      "source": [
        "jovian.submit(assignment=\"zerotogbms-project\")"
      ],
      "execution_count": 241,
      "outputs": [
        {
          "output_type": "stream",
          "text": [
            "[jovian] Detected Colab notebook...\u001b[0m\n",
            "[jovian] Uploading colab notebook to Jovian...\u001b[0m\n",
            "Committed successfully! https://jovian.ai/nvinay1586/zerotogbms-project\n",
            "[jovian] Submitting assignment..\u001b[0m\n",
            "[jovian] Verify your submission at https://jovian.ai/learn/machine-learning-with-python-zero-to-gbms/assignment/course-project-real-world-machine-learning-model\u001b[0m\n"
          ],
          "name": "stdout"
        }
      ]
    },
    {
      "cell_type": "code",
      "metadata": {
        "id": "PWZHIL7qWC_W"
      },
      "source": [
        ""
      ],
      "execution_count": null,
      "outputs": []
    }
  ]
}