{
  "nbformat": 4,
  "nbformat_minor": 0,
  "metadata": {
    "colab": {
      "name": "jovian.ipynb",
      "provenance": [],
      "collapsed_sections": [],
      "authorship_tag": "ABX9TyMI93nslGmRVGqQzn0PEkfs",
      "include_colab_link": true
    },
    "kernelspec": {
      "name": "python3",
      "display_name": "Python 3"
    },
    "language_info": {
      "name": "python"
    },
    "accelerator": "GPU"
  },
  "cells": [
    {
      "cell_type": "markdown",
      "metadata": {
        "id": "view-in-github",
        "colab_type": "text"
      },
      "source": [
        "<a href=\"https://colab.research.google.com/github/vinaynamani/Jovian/blob/main/jovian.ipynb\" target=\"_parent\"><img src=\"https://colab.research.google.com/assets/colab-badge.svg\" alt=\"Open In Colab\"/></a>"
      ]
    },
    {
      "cell_type": "code",
      "metadata": {
        "id": "qb81TVpSOKib"
      },
      "source": [
        "# Jovian Commit Essentials\n",
        "# Please retain and execute this cell without modifying the contents for `jovian.commit` to work\n",
        "!pip install jovian --upgrade -q\n",
        "import jovian\n",
        "jovian.set_project('zerotogbms-project')\n",
        "jovian.set_colab_id('1BmFCV0YNcZgULeTJbtkzLcKG4JF813bF')"
      ],
      "execution_count": 178,
      "outputs": []
    },
    {
      "cell_type": "markdown",
      "metadata": {
        "id": "awfPbcJuOKbx"
      },
      "source": [
        "# zerotogbms-project\n",
        "\n",
        "Use the \"Run\" button to execute the code."
      ]
    },
    {
      "cell_type": "code",
      "metadata": {
        "id": "oGLj0VpmOKN-"
      },
      "source": [
        "!pip install jovian --upgrade --quiet"
      ],
      "execution_count": 179,
      "outputs": []
    },
    {
      "cell_type": "code",
      "metadata": {
        "id": "RMHp88vPOaBg"
      },
      "source": [
        "import jovian"
      ],
      "execution_count": 180,
      "outputs": []
    },
    {
      "cell_type": "code",
      "metadata": {
        "colab": {
          "base_uri": "https://localhost:8080/",
          "height": 132
        },
        "id": "4UG4U3KwOaE6",
        "outputId": "9ac8da91-6e21-4c65-d7cf-deee5847c866"
      },
      "source": [
        "# Execute this to save new versions of the notebook\n",
        "jovian.commit(project=\"zerotogbms-project\")"
      ],
      "execution_count": 181,
      "outputs": [
        {
          "output_type": "stream",
          "text": [
            "[jovian] Detected Colab notebook...\u001b[0m\n",
            "[jovian] Please enter your API key ( from https://jovian.ai/ ):\u001b[0m\n",
            "API KEY: ··········\n",
            "[jovian] Uploading colab notebook to Jovian...\u001b[0m\n",
            "Committed successfully! https://jovian.ai/nvinay1586/zerotogbms-project\n"
          ],
          "name": "stdout"
        },
        {
          "output_type": "execute_result",
          "data": {
            "application/vnd.google.colaboratory.intrinsic+json": {
              "type": "string"
            },
            "text/plain": [
              "'https://jovian.ai/nvinay1586/zerotogbms-project'"
            ]
          },
          "metadata": {
            "tags": []
          },
          "execution_count": 181
        }
      ]
    },
    {
      "cell_type": "code",
      "metadata": {
        "id": "ywlPMxSBOaKL"
      },
      "source": [
        ""
      ],
      "execution_count": 181,
      "outputs": []
    },
    {
      "cell_type": "markdown",
      "metadata": {
        "id": "p9I8zH8DyxJJ"
      },
      "source": [
        "# Jovain Course - Project (https://www.kaggle.com/c/DontGetKicked)"
      ]
    },
    {
      "cell_type": "markdown",
      "metadata": {
        "id": "rKch3lPWy7x6"
      },
      "source": [
        "# Description : \n",
        "# One of the biggest challenges of an auto dealership purchasing a used car at an auto auction is the risk of that the vehicle might have serious issues that prevent it from being sold to customers. The auto community calls these unfortunate purchases \"kicks\".\n",
        "\n",
        "# Kicked cars often result when there are tampered odometers, mechanical issues the dealer is not able to address, issues with getting the vehicle title from the seller, or some other unforeseen problem. Kick cars can be very costly to dealers after transportation cost, throw-away repair work, and market losses in reselling the vehicle.\n",
        "\n",
        "# Modelers who can figure out which cars have a higher risk of being kick can provide real value to dealerships trying to provide the best inventory selection possible to their customers.\n",
        "\n",
        "# The challenge of this competition is to predict if the car purchased at the Auction is a Kick (bad buy)"
      ]
    },
    {
      "cell_type": "markdown",
      "metadata": {
        "id": "UZuHiiVszBri"
      },
      "source": [
        ""
      ]
    },
    {
      "cell_type": "markdown",
      "metadata": {
        "id": "g--ZN-OizHOC"
      },
      "source": [
        "# Problem Statement : \n",
        "     In this Problem we need to predict if the car purchased at the Auction is a good / bad buy. \n",
        "\n",
        "# The data contains missing values.\n",
        "\n",
        "# The dependent variable (IsBadBuy) is binary (C2).\n",
        "\n",
        "# There are 32 Independent variables (C3-C34).\n",
        "\n",
        "# The data set is split to 60% training and 40% testing"
      ]
    },
    {
      "cell_type": "code",
      "metadata": {
        "id": "QnRk-8RezIFY"
      },
      "source": [
        "#The Dataset Contains 72983 rows and 34 columns"
      ],
      "execution_count": 182,
      "outputs": []
    },
    {
      "cell_type": "code",
      "metadata": {
        "id": "doR8yFmzzIT3"
      },
      "source": [
        "import numpy as np # Linear Algebra Operations\n",
        "import pandas as pd # Data Manipulation\n",
        "import matplotlib.pyplot as plt # for visualizations\n",
        "import seaborn as sns # for visualizations \n",
        "from sklearn.impute import SimpleImputer # Simple Imputer for filling the null values\n",
        "from sklearn.preprocessing import StandardScaler # for Scaling the data to Standard Normalization\n",
        "from sklearn.linear_model import LogisticRegression # Importing Logistic Regression\n",
        "from sklearn.ensemble import RandomForestClassifier # Importing ensemble technique\n",
        "from xgboost import XGBClassifier # importing Xtreme Gradient Boosting Classifier"
      ],
      "execution_count": 183,
      "outputs": []
    },
    {
      "cell_type": "code",
      "metadata": {
        "id": "Fp2cX2cay6m7"
      },
      "source": [
        "# Reading The dataset from my Github Link as it is convinient for me\n",
        "df = pd.read_csv(\"https://raw.githubusercontent.com/vinaynamani/Jovian/main/training.csv\") "
      ],
      "execution_count": 184,
      "outputs": []
    },
    {
      "cell_type": "code",
      "metadata": {
        "id": "vo2jD9KlzKps",
        "colab": {
          "base_uri": "https://localhost:8080/"
        },
        "outputId": "17e4a354-dac1-4c16-adfc-5b5984385b00"
      },
      "source": [
        "df.shape #Checking the shape of the dataset"
      ],
      "execution_count": 185,
      "outputs": [
        {
          "output_type": "execute_result",
          "data": {
            "text/plain": [
              "(72983, 34)"
            ]
          },
          "metadata": {
            "tags": []
          },
          "execution_count": 185
        }
      ]
    },
    {
      "cell_type": "code",
      "metadata": {
        "colab": {
          "base_uri": "https://localhost:8080/",
          "height": 382
        },
        "id": "ig6yOmjfzoic",
        "outputId": "0c0662d2-e823-4447-956d-84bec787dd24"
      },
      "source": [
        "df.head() # Checking the first 5 rows of the dataset"
      ],
      "execution_count": 186,
      "outputs": [
        {
          "output_type": "execute_result",
          "data": {
            "text/html": [
              "<div>\n",
              "<style scoped>\n",
              "    .dataframe tbody tr th:only-of-type {\n",
              "        vertical-align: middle;\n",
              "    }\n",
              "\n",
              "    .dataframe tbody tr th {\n",
              "        vertical-align: top;\n",
              "    }\n",
              "\n",
              "    .dataframe thead th {\n",
              "        text-align: right;\n",
              "    }\n",
              "</style>\n",
              "<table border=\"1\" class=\"dataframe\">\n",
              "  <thead>\n",
              "    <tr style=\"text-align: right;\">\n",
              "      <th></th>\n",
              "      <th>RefId</th>\n",
              "      <th>IsBadBuy</th>\n",
              "      <th>PurchDate</th>\n",
              "      <th>Auction</th>\n",
              "      <th>VehYear</th>\n",
              "      <th>VehicleAge</th>\n",
              "      <th>Make</th>\n",
              "      <th>Model</th>\n",
              "      <th>Trim</th>\n",
              "      <th>SubModel</th>\n",
              "      <th>Color</th>\n",
              "      <th>Transmission</th>\n",
              "      <th>WheelTypeID</th>\n",
              "      <th>WheelType</th>\n",
              "      <th>VehOdo</th>\n",
              "      <th>Nationality</th>\n",
              "      <th>Size</th>\n",
              "      <th>TopThreeAmericanName</th>\n",
              "      <th>MMRAcquisitionAuctionAveragePrice</th>\n",
              "      <th>MMRAcquisitionAuctionCleanPrice</th>\n",
              "      <th>MMRAcquisitionRetailAveragePrice</th>\n",
              "      <th>MMRAcquisitonRetailCleanPrice</th>\n",
              "      <th>MMRCurrentAuctionAveragePrice</th>\n",
              "      <th>MMRCurrentAuctionCleanPrice</th>\n",
              "      <th>MMRCurrentRetailAveragePrice</th>\n",
              "      <th>MMRCurrentRetailCleanPrice</th>\n",
              "      <th>PRIMEUNIT</th>\n",
              "      <th>AUCGUART</th>\n",
              "      <th>BYRNO</th>\n",
              "      <th>VNZIP1</th>\n",
              "      <th>VNST</th>\n",
              "      <th>VehBCost</th>\n",
              "      <th>IsOnlineSale</th>\n",
              "      <th>WarrantyCost</th>\n",
              "    </tr>\n",
              "  </thead>\n",
              "  <tbody>\n",
              "    <tr>\n",
              "      <th>0</th>\n",
              "      <td>1</td>\n",
              "      <td>0</td>\n",
              "      <td>12/7/2009</td>\n",
              "      <td>ADESA</td>\n",
              "      <td>2006</td>\n",
              "      <td>3</td>\n",
              "      <td>MAZDA</td>\n",
              "      <td>MAZDA3</td>\n",
              "      <td>i</td>\n",
              "      <td>4D SEDAN I</td>\n",
              "      <td>RED</td>\n",
              "      <td>AUTO</td>\n",
              "      <td>1.0</td>\n",
              "      <td>Alloy</td>\n",
              "      <td>89046</td>\n",
              "      <td>OTHER ASIAN</td>\n",
              "      <td>MEDIUM</td>\n",
              "      <td>OTHER</td>\n",
              "      <td>8155.0</td>\n",
              "      <td>9829.0</td>\n",
              "      <td>11636.0</td>\n",
              "      <td>13600.0</td>\n",
              "      <td>7451.0</td>\n",
              "      <td>8552.0</td>\n",
              "      <td>11597.0</td>\n",
              "      <td>12409.0</td>\n",
              "      <td>NaN</td>\n",
              "      <td>NaN</td>\n",
              "      <td>21973</td>\n",
              "      <td>33619</td>\n",
              "      <td>FL</td>\n",
              "      <td>7100.0</td>\n",
              "      <td>0</td>\n",
              "      <td>1113</td>\n",
              "    </tr>\n",
              "    <tr>\n",
              "      <th>1</th>\n",
              "      <td>2</td>\n",
              "      <td>0</td>\n",
              "      <td>12/7/2009</td>\n",
              "      <td>ADESA</td>\n",
              "      <td>2004</td>\n",
              "      <td>5</td>\n",
              "      <td>DODGE</td>\n",
              "      <td>1500 RAM PICKUP 2WD</td>\n",
              "      <td>ST</td>\n",
              "      <td>QUAD CAB 4.7L SLT</td>\n",
              "      <td>WHITE</td>\n",
              "      <td>AUTO</td>\n",
              "      <td>1.0</td>\n",
              "      <td>Alloy</td>\n",
              "      <td>93593</td>\n",
              "      <td>AMERICAN</td>\n",
              "      <td>LARGE TRUCK</td>\n",
              "      <td>CHRYSLER</td>\n",
              "      <td>6854.0</td>\n",
              "      <td>8383.0</td>\n",
              "      <td>10897.0</td>\n",
              "      <td>12572.0</td>\n",
              "      <td>7456.0</td>\n",
              "      <td>9222.0</td>\n",
              "      <td>11374.0</td>\n",
              "      <td>12791.0</td>\n",
              "      <td>NaN</td>\n",
              "      <td>NaN</td>\n",
              "      <td>19638</td>\n",
              "      <td>33619</td>\n",
              "      <td>FL</td>\n",
              "      <td>7600.0</td>\n",
              "      <td>0</td>\n",
              "      <td>1053</td>\n",
              "    </tr>\n",
              "    <tr>\n",
              "      <th>2</th>\n",
              "      <td>3</td>\n",
              "      <td>0</td>\n",
              "      <td>12/7/2009</td>\n",
              "      <td>ADESA</td>\n",
              "      <td>2005</td>\n",
              "      <td>4</td>\n",
              "      <td>DODGE</td>\n",
              "      <td>STRATUS V6</td>\n",
              "      <td>SXT</td>\n",
              "      <td>4D SEDAN SXT FFV</td>\n",
              "      <td>MAROON</td>\n",
              "      <td>AUTO</td>\n",
              "      <td>2.0</td>\n",
              "      <td>Covers</td>\n",
              "      <td>73807</td>\n",
              "      <td>AMERICAN</td>\n",
              "      <td>MEDIUM</td>\n",
              "      <td>CHRYSLER</td>\n",
              "      <td>3202.0</td>\n",
              "      <td>4760.0</td>\n",
              "      <td>6943.0</td>\n",
              "      <td>8457.0</td>\n",
              "      <td>4035.0</td>\n",
              "      <td>5557.0</td>\n",
              "      <td>7146.0</td>\n",
              "      <td>8702.0</td>\n",
              "      <td>NaN</td>\n",
              "      <td>NaN</td>\n",
              "      <td>19638</td>\n",
              "      <td>33619</td>\n",
              "      <td>FL</td>\n",
              "      <td>4900.0</td>\n",
              "      <td>0</td>\n",
              "      <td>1389</td>\n",
              "    </tr>\n",
              "    <tr>\n",
              "      <th>3</th>\n",
              "      <td>4</td>\n",
              "      <td>0</td>\n",
              "      <td>12/7/2009</td>\n",
              "      <td>ADESA</td>\n",
              "      <td>2004</td>\n",
              "      <td>5</td>\n",
              "      <td>DODGE</td>\n",
              "      <td>NEON</td>\n",
              "      <td>SXT</td>\n",
              "      <td>4D SEDAN</td>\n",
              "      <td>SILVER</td>\n",
              "      <td>AUTO</td>\n",
              "      <td>1.0</td>\n",
              "      <td>Alloy</td>\n",
              "      <td>65617</td>\n",
              "      <td>AMERICAN</td>\n",
              "      <td>COMPACT</td>\n",
              "      <td>CHRYSLER</td>\n",
              "      <td>1893.0</td>\n",
              "      <td>2675.0</td>\n",
              "      <td>4658.0</td>\n",
              "      <td>5690.0</td>\n",
              "      <td>1844.0</td>\n",
              "      <td>2646.0</td>\n",
              "      <td>4375.0</td>\n",
              "      <td>5518.0</td>\n",
              "      <td>NaN</td>\n",
              "      <td>NaN</td>\n",
              "      <td>19638</td>\n",
              "      <td>33619</td>\n",
              "      <td>FL</td>\n",
              "      <td>4100.0</td>\n",
              "      <td>0</td>\n",
              "      <td>630</td>\n",
              "    </tr>\n",
              "    <tr>\n",
              "      <th>4</th>\n",
              "      <td>5</td>\n",
              "      <td>0</td>\n",
              "      <td>12/7/2009</td>\n",
              "      <td>ADESA</td>\n",
              "      <td>2005</td>\n",
              "      <td>4</td>\n",
              "      <td>FORD</td>\n",
              "      <td>FOCUS</td>\n",
              "      <td>ZX3</td>\n",
              "      <td>2D COUPE ZX3</td>\n",
              "      <td>SILVER</td>\n",
              "      <td>MANUAL</td>\n",
              "      <td>2.0</td>\n",
              "      <td>Covers</td>\n",
              "      <td>69367</td>\n",
              "      <td>AMERICAN</td>\n",
              "      <td>COMPACT</td>\n",
              "      <td>FORD</td>\n",
              "      <td>3913.0</td>\n",
              "      <td>5054.0</td>\n",
              "      <td>7723.0</td>\n",
              "      <td>8707.0</td>\n",
              "      <td>3247.0</td>\n",
              "      <td>4384.0</td>\n",
              "      <td>6739.0</td>\n",
              "      <td>7911.0</td>\n",
              "      <td>NaN</td>\n",
              "      <td>NaN</td>\n",
              "      <td>19638</td>\n",
              "      <td>33619</td>\n",
              "      <td>FL</td>\n",
              "      <td>4000.0</td>\n",
              "      <td>0</td>\n",
              "      <td>1020</td>\n",
              "    </tr>\n",
              "  </tbody>\n",
              "</table>\n",
              "</div>"
            ],
            "text/plain": [
              "   RefId  IsBadBuy  PurchDate  ... VehBCost  IsOnlineSale  WarrantyCost\n",
              "0      1         0  12/7/2009  ...   7100.0             0          1113\n",
              "1      2         0  12/7/2009  ...   7600.0             0          1053\n",
              "2      3         0  12/7/2009  ...   4900.0             0          1389\n",
              "3      4         0  12/7/2009  ...   4100.0             0           630\n",
              "4      5         0  12/7/2009  ...   4000.0             0          1020\n",
              "\n",
              "[5 rows x 34 columns]"
            ]
          },
          "metadata": {
            "tags": []
          },
          "execution_count": 186
        }
      ]
    },
    {
      "cell_type": "code",
      "metadata": {
        "id": "v0lJpnebzpq4"
      },
      "source": [
        "#Extracting the Dependent Variable\n",
        "target = df['IsBadBuy']"
      ],
      "execution_count": 187,
      "outputs": []
    },
    {
      "cell_type": "code",
      "metadata": {
        "id": "mPh-WKmPz56s"
      },
      "source": [
        "# Removing RefId \n",
        "df.drop(['RefId',\"IsBadBuy\"],1,inplace=True)"
      ],
      "execution_count": 188,
      "outputs": []
    },
    {
      "cell_type": "code",
      "metadata": {
        "colab": {
          "base_uri": "https://localhost:8080/",
          "height": 320
        },
        "id": "acWPCX2kz7DR",
        "outputId": "f154c9e2-44e0-4e85-82e3-eb67d1391063"
      },
      "source": [
        "df.describe() # Checking the basic information of the Data"
      ],
      "execution_count": 189,
      "outputs": [
        {
          "output_type": "execute_result",
          "data": {
            "text/html": [
              "<div>\n",
              "<style scoped>\n",
              "    .dataframe tbody tr th:only-of-type {\n",
              "        vertical-align: middle;\n",
              "    }\n",
              "\n",
              "    .dataframe tbody tr th {\n",
              "        vertical-align: top;\n",
              "    }\n",
              "\n",
              "    .dataframe thead th {\n",
              "        text-align: right;\n",
              "    }\n",
              "</style>\n",
              "<table border=\"1\" class=\"dataframe\">\n",
              "  <thead>\n",
              "    <tr style=\"text-align: right;\">\n",
              "      <th></th>\n",
              "      <th>VehYear</th>\n",
              "      <th>VehicleAge</th>\n",
              "      <th>WheelTypeID</th>\n",
              "      <th>VehOdo</th>\n",
              "      <th>MMRAcquisitionAuctionAveragePrice</th>\n",
              "      <th>MMRAcquisitionAuctionCleanPrice</th>\n",
              "      <th>MMRAcquisitionRetailAveragePrice</th>\n",
              "      <th>MMRAcquisitonRetailCleanPrice</th>\n",
              "      <th>MMRCurrentAuctionAveragePrice</th>\n",
              "      <th>MMRCurrentAuctionCleanPrice</th>\n",
              "      <th>MMRCurrentRetailAveragePrice</th>\n",
              "      <th>MMRCurrentRetailCleanPrice</th>\n",
              "      <th>BYRNO</th>\n",
              "      <th>VNZIP1</th>\n",
              "      <th>VehBCost</th>\n",
              "      <th>IsOnlineSale</th>\n",
              "      <th>WarrantyCost</th>\n",
              "    </tr>\n",
              "  </thead>\n",
              "  <tbody>\n",
              "    <tr>\n",
              "      <th>count</th>\n",
              "      <td>72983.000000</td>\n",
              "      <td>72983.000000</td>\n",
              "      <td>69814.000000</td>\n",
              "      <td>72983.000000</td>\n",
              "      <td>72965.000000</td>\n",
              "      <td>72965.000000</td>\n",
              "      <td>72965.000000</td>\n",
              "      <td>72965.000000</td>\n",
              "      <td>72668.000000</td>\n",
              "      <td>72668.000000</td>\n",
              "      <td>72668.000000</td>\n",
              "      <td>72668.000000</td>\n",
              "      <td>72983.000000</td>\n",
              "      <td>72983.000000</td>\n",
              "      <td>72983.000000</td>\n",
              "      <td>72983.000000</td>\n",
              "      <td>72983.000000</td>\n",
              "    </tr>\n",
              "    <tr>\n",
              "      <th>mean</th>\n",
              "      <td>2005.343052</td>\n",
              "      <td>4.176644</td>\n",
              "      <td>1.494299</td>\n",
              "      <td>71499.995917</td>\n",
              "      <td>6128.909217</td>\n",
              "      <td>7373.636031</td>\n",
              "      <td>8497.034332</td>\n",
              "      <td>9850.928240</td>\n",
              "      <td>6132.081287</td>\n",
              "      <td>7390.681827</td>\n",
              "      <td>8775.723331</td>\n",
              "      <td>10145.385314</td>\n",
              "      <td>26345.842155</td>\n",
              "      <td>58043.059945</td>\n",
              "      <td>6730.934326</td>\n",
              "      <td>0.025280</td>\n",
              "      <td>1276.580985</td>\n",
              "    </tr>\n",
              "    <tr>\n",
              "      <th>std</th>\n",
              "      <td>1.731252</td>\n",
              "      <td>1.712210</td>\n",
              "      <td>0.521290</td>\n",
              "      <td>14578.913128</td>\n",
              "      <td>2461.992768</td>\n",
              "      <td>2722.491986</td>\n",
              "      <td>3156.285284</td>\n",
              "      <td>3385.789541</td>\n",
              "      <td>2434.567723</td>\n",
              "      <td>2686.248852</td>\n",
              "      <td>3090.702941</td>\n",
              "      <td>3310.254351</td>\n",
              "      <td>25717.351219</td>\n",
              "      <td>26151.640415</td>\n",
              "      <td>1767.846435</td>\n",
              "      <td>0.156975</td>\n",
              "      <td>598.846788</td>\n",
              "    </tr>\n",
              "    <tr>\n",
              "      <th>min</th>\n",
              "      <td>2001.000000</td>\n",
              "      <td>0.000000</td>\n",
              "      <td>0.000000</td>\n",
              "      <td>4825.000000</td>\n",
              "      <td>0.000000</td>\n",
              "      <td>0.000000</td>\n",
              "      <td>0.000000</td>\n",
              "      <td>0.000000</td>\n",
              "      <td>0.000000</td>\n",
              "      <td>0.000000</td>\n",
              "      <td>0.000000</td>\n",
              "      <td>0.000000</td>\n",
              "      <td>835.000000</td>\n",
              "      <td>2764.000000</td>\n",
              "      <td>1.000000</td>\n",
              "      <td>0.000000</td>\n",
              "      <td>462.000000</td>\n",
              "    </tr>\n",
              "    <tr>\n",
              "      <th>25%</th>\n",
              "      <td>2004.000000</td>\n",
              "      <td>3.000000</td>\n",
              "      <td>1.000000</td>\n",
              "      <td>61837.000000</td>\n",
              "      <td>4273.000000</td>\n",
              "      <td>5406.000000</td>\n",
              "      <td>6280.000000</td>\n",
              "      <td>7493.000000</td>\n",
              "      <td>4275.000000</td>\n",
              "      <td>5414.000000</td>\n",
              "      <td>6536.000000</td>\n",
              "      <td>7784.000000</td>\n",
              "      <td>17212.000000</td>\n",
              "      <td>32124.000000</td>\n",
              "      <td>5435.000000</td>\n",
              "      <td>0.000000</td>\n",
              "      <td>837.000000</td>\n",
              "    </tr>\n",
              "    <tr>\n",
              "      <th>50%</th>\n",
              "      <td>2005.000000</td>\n",
              "      <td>4.000000</td>\n",
              "      <td>1.000000</td>\n",
              "      <td>73361.000000</td>\n",
              "      <td>6097.000000</td>\n",
              "      <td>7303.000000</td>\n",
              "      <td>8444.000000</td>\n",
              "      <td>9789.000000</td>\n",
              "      <td>6062.000000</td>\n",
              "      <td>7313.000000</td>\n",
              "      <td>8729.000000</td>\n",
              "      <td>10103.000000</td>\n",
              "      <td>19662.000000</td>\n",
              "      <td>73108.000000</td>\n",
              "      <td>6700.000000</td>\n",
              "      <td>0.000000</td>\n",
              "      <td>1155.000000</td>\n",
              "    </tr>\n",
              "    <tr>\n",
              "      <th>75%</th>\n",
              "      <td>2007.000000</td>\n",
              "      <td>5.000000</td>\n",
              "      <td>2.000000</td>\n",
              "      <td>82436.000000</td>\n",
              "      <td>7765.000000</td>\n",
              "      <td>9021.000000</td>\n",
              "      <td>10651.000000</td>\n",
              "      <td>12088.000000</td>\n",
              "      <td>7736.000000</td>\n",
              "      <td>9013.000000</td>\n",
              "      <td>10911.000000</td>\n",
              "      <td>12309.000000</td>\n",
              "      <td>22808.000000</td>\n",
              "      <td>80022.000000</td>\n",
              "      <td>7900.000000</td>\n",
              "      <td>0.000000</td>\n",
              "      <td>1623.000000</td>\n",
              "    </tr>\n",
              "    <tr>\n",
              "      <th>max</th>\n",
              "      <td>2010.000000</td>\n",
              "      <td>9.000000</td>\n",
              "      <td>3.000000</td>\n",
              "      <td>115717.000000</td>\n",
              "      <td>35722.000000</td>\n",
              "      <td>36859.000000</td>\n",
              "      <td>39080.000000</td>\n",
              "      <td>41482.000000</td>\n",
              "      <td>35722.000000</td>\n",
              "      <td>36859.000000</td>\n",
              "      <td>39080.000000</td>\n",
              "      <td>41062.000000</td>\n",
              "      <td>99761.000000</td>\n",
              "      <td>99224.000000</td>\n",
              "      <td>45469.000000</td>\n",
              "      <td>1.000000</td>\n",
              "      <td>7498.000000</td>\n",
              "    </tr>\n",
              "  </tbody>\n",
              "</table>\n",
              "</div>"
            ],
            "text/plain": [
              "            VehYear    VehicleAge  ...  IsOnlineSale  WarrantyCost\n",
              "count  72983.000000  72983.000000  ...  72983.000000  72983.000000\n",
              "mean    2005.343052      4.176644  ...      0.025280   1276.580985\n",
              "std        1.731252      1.712210  ...      0.156975    598.846788\n",
              "min     2001.000000      0.000000  ...      0.000000    462.000000\n",
              "25%     2004.000000      3.000000  ...      0.000000    837.000000\n",
              "50%     2005.000000      4.000000  ...      0.000000   1155.000000\n",
              "75%     2007.000000      5.000000  ...      0.000000   1623.000000\n",
              "max     2010.000000      9.000000  ...      1.000000   7498.000000\n",
              "\n",
              "[8 rows x 17 columns]"
            ]
          },
          "metadata": {
            "tags": []
          },
          "execution_count": 189
        }
      ]
    },
    {
      "cell_type": "code",
      "metadata": {
        "colab": {
          "base_uri": "https://localhost:8080/"
        },
        "id": "No3SgeZuz8Ba",
        "outputId": "fc9b4849-6f72-48cd-f4a4-5c5503a31bce"
      },
      "source": [
        "df.info()"
      ],
      "execution_count": 190,
      "outputs": [
        {
          "output_type": "stream",
          "text": [
            "<class 'pandas.core.frame.DataFrame'>\n",
            "RangeIndex: 72983 entries, 0 to 72982\n",
            "Data columns (total 32 columns):\n",
            " #   Column                             Non-Null Count  Dtype  \n",
            "---  ------                             --------------  -----  \n",
            " 0   PurchDate                          72983 non-null  object \n",
            " 1   Auction                            72983 non-null  object \n",
            " 2   VehYear                            72983 non-null  int64  \n",
            " 3   VehicleAge                         72983 non-null  int64  \n",
            " 4   Make                               72983 non-null  object \n",
            " 5   Model                              72983 non-null  object \n",
            " 6   Trim                               70623 non-null  object \n",
            " 7   SubModel                           72975 non-null  object \n",
            " 8   Color                              72975 non-null  object \n",
            " 9   Transmission                       72974 non-null  object \n",
            " 10  WheelTypeID                        69814 non-null  float64\n",
            " 11  WheelType                          69809 non-null  object \n",
            " 12  VehOdo                             72983 non-null  int64  \n",
            " 13  Nationality                        72978 non-null  object \n",
            " 14  Size                               72978 non-null  object \n",
            " 15  TopThreeAmericanName               72978 non-null  object \n",
            " 16  MMRAcquisitionAuctionAveragePrice  72965 non-null  float64\n",
            " 17  MMRAcquisitionAuctionCleanPrice    72965 non-null  float64\n",
            " 18  MMRAcquisitionRetailAveragePrice   72965 non-null  float64\n",
            " 19  MMRAcquisitonRetailCleanPrice      72965 non-null  float64\n",
            " 20  MMRCurrentAuctionAveragePrice      72668 non-null  float64\n",
            " 21  MMRCurrentAuctionCleanPrice        72668 non-null  float64\n",
            " 22  MMRCurrentRetailAveragePrice       72668 non-null  float64\n",
            " 23  MMRCurrentRetailCleanPrice         72668 non-null  float64\n",
            " 24  PRIMEUNIT                          3419 non-null   object \n",
            " 25  AUCGUART                           3419 non-null   object \n",
            " 26  BYRNO                              72983 non-null  int64  \n",
            " 27  VNZIP1                             72983 non-null  int64  \n",
            " 28  VNST                               72983 non-null  object \n",
            " 29  VehBCost                           72983 non-null  float64\n",
            " 30  IsOnlineSale                       72983 non-null  int64  \n",
            " 31  WarrantyCost                       72983 non-null  int64  \n",
            "dtypes: float64(10), int64(7), object(15)\n",
            "memory usage: 17.8+ MB\n"
          ],
          "name": "stdout"
        }
      ]
    },
    {
      "cell_type": "code",
      "metadata": {
        "colab": {
          "base_uri": "https://localhost:8080/"
        },
        "id": "k3txXRGdz9j_",
        "outputId": "c334336e-28cc-4d2f-c96d-e274a3afbcd7"
      },
      "source": [
        "df.isnull().sum() # Checing the number of null values per Column"
      ],
      "execution_count": 191,
      "outputs": [
        {
          "output_type": "execute_result",
          "data": {
            "text/plain": [
              "PurchDate                                0\n",
              "Auction                                  0\n",
              "VehYear                                  0\n",
              "VehicleAge                               0\n",
              "Make                                     0\n",
              "Model                                    0\n",
              "Trim                                  2360\n",
              "SubModel                                 8\n",
              "Color                                    8\n",
              "Transmission                             9\n",
              "WheelTypeID                           3169\n",
              "WheelType                             3174\n",
              "VehOdo                                   0\n",
              "Nationality                              5\n",
              "Size                                     5\n",
              "TopThreeAmericanName                     5\n",
              "MMRAcquisitionAuctionAveragePrice       18\n",
              "MMRAcquisitionAuctionCleanPrice         18\n",
              "MMRAcquisitionRetailAveragePrice        18\n",
              "MMRAcquisitonRetailCleanPrice           18\n",
              "MMRCurrentAuctionAveragePrice          315\n",
              "MMRCurrentAuctionCleanPrice            315\n",
              "MMRCurrentRetailAveragePrice           315\n",
              "MMRCurrentRetailCleanPrice             315\n",
              "PRIMEUNIT                            69564\n",
              "AUCGUART                             69564\n",
              "BYRNO                                    0\n",
              "VNZIP1                                   0\n",
              "VNST                                     0\n",
              "VehBCost                                 0\n",
              "IsOnlineSale                             0\n",
              "WarrantyCost                             0\n",
              "dtype: int64"
            ]
          },
          "metadata": {
            "tags": []
          },
          "execution_count": 191
        }
      ]
    },
    {
      "cell_type": "markdown",
      "metadata": {
        "id": "E1PzRsKaz_vW"
      },
      "source": [
        "Conclusin : As we can see Only \"PRIMEUNITI\" & \"AUCGUART\" has a high number of NULL-Values."
      ]
    },
    {
      "cell_type": "code",
      "metadata": {
        "id": "ui4igf5c0R_u"
      },
      "source": [
        "# Extracting all the null columns from the dataset columns\n",
        "null_cols = []\n",
        "for column in df.columns:\n",
        "    if df[column].isnull().sum() > 0:\n",
        "        null_cols.append(column)"
      ],
      "execution_count": 192,
      "outputs": []
    },
    {
      "cell_type": "code",
      "metadata": {
        "colab": {
          "base_uri": "https://localhost:8080/"
        },
        "id": "dPLnXJPe0U3i",
        "outputId": "066e4fc8-5c68-4b17-b654-598d95f95dee"
      },
      "source": [
        "null_cols"
      ],
      "execution_count": 193,
      "outputs": [
        {
          "output_type": "execute_result",
          "data": {
            "text/plain": [
              "['Trim',\n",
              " 'SubModel',\n",
              " 'Color',\n",
              " 'Transmission',\n",
              " 'WheelTypeID',\n",
              " 'WheelType',\n",
              " 'Nationality',\n",
              " 'Size',\n",
              " 'TopThreeAmericanName',\n",
              " 'MMRAcquisitionAuctionAveragePrice',\n",
              " 'MMRAcquisitionAuctionCleanPrice',\n",
              " 'MMRAcquisitionRetailAveragePrice',\n",
              " 'MMRAcquisitonRetailCleanPrice',\n",
              " 'MMRCurrentAuctionAveragePrice',\n",
              " 'MMRCurrentAuctionCleanPrice',\n",
              " 'MMRCurrentRetailAveragePrice',\n",
              " 'MMRCurrentRetailCleanPrice',\n",
              " 'PRIMEUNIT',\n",
              " 'AUCGUART']"
            ]
          },
          "metadata": {
            "tags": []
          },
          "execution_count": 193
        }
      ]
    },
    {
      "cell_type": "code",
      "metadata": {
        "colab": {
          "base_uri": "https://localhost:8080/"
        },
        "id": "p1wSjQUT0Wdl",
        "outputId": "aa5449d5-54a1-40ba-fe59-67bbbf71d2c0"
      },
      "source": [
        "# Separating the  Numeric and Categorical Columns from the null_columns\n",
        "num_null_cols = [column for column in null_cols if column in df.select_dtypes(exclude=\"O\")]\n",
        "num_null_cols"
      ],
      "execution_count": 194,
      "outputs": [
        {
          "output_type": "execute_result",
          "data": {
            "text/plain": [
              "['WheelTypeID',\n",
              " 'MMRAcquisitionAuctionAveragePrice',\n",
              " 'MMRAcquisitionAuctionCleanPrice',\n",
              " 'MMRAcquisitionRetailAveragePrice',\n",
              " 'MMRAcquisitonRetailCleanPrice',\n",
              " 'MMRCurrentAuctionAveragePrice',\n",
              " 'MMRCurrentAuctionCleanPrice',\n",
              " 'MMRCurrentRetailAveragePrice',\n",
              " 'MMRCurrentRetailCleanPrice']"
            ]
          },
          "metadata": {
            "tags": []
          },
          "execution_count": 194
        }
      ]
    },
    {
      "cell_type": "code",
      "metadata": {
        "colab": {
          "base_uri": "https://localhost:8080/"
        },
        "id": "1D7NtTb90gdZ",
        "outputId": "1d74a895-b212-4745-9705-f254a6289624"
      },
      "source": [
        "categorical_null_cols = [column for column in null_cols if column not in df.select_dtypes(exclude=\"O\")]\n",
        "categorical_null_cols"
      ],
      "execution_count": 195,
      "outputs": [
        {
          "output_type": "execute_result",
          "data": {
            "text/plain": [
              "['Trim',\n",
              " 'SubModel',\n",
              " 'Color',\n",
              " 'Transmission',\n",
              " 'WheelType',\n",
              " 'Nationality',\n",
              " 'Size',\n",
              " 'TopThreeAmericanName',\n",
              " 'PRIMEUNIT',\n",
              " 'AUCGUART']"
            ]
          },
          "metadata": {
            "tags": []
          },
          "execution_count": 195
        }
      ]
    },
    {
      "cell_type": "code",
      "metadata": {
        "id": "fZTyZXU50icG"
      },
      "source": [
        "#Creating an object for simple Imputer \n",
        "imputer = SimpleImputer()"
      ],
      "execution_count": 196,
      "outputs": []
    },
    {
      "cell_type": "code",
      "metadata": {
        "id": "_BVLCZqC0w4u"
      },
      "source": [
        "# Filling numeric_cols with SimpleImputer\n",
        "df[num_null_cols] = imputer.fit_transform(df[num_null_cols])"
      ],
      "execution_count": 197,
      "outputs": []
    },
    {
      "cell_type": "code",
      "metadata": {
        "colab": {
          "base_uri": "https://localhost:8080/"
        },
        "id": "WNNbW5ec0y7W",
        "outputId": "47d934d9-83a4-4ef2-86a2-37f41d0506e5"
      },
      "source": [
        "# Checking the Dataframe after filling the numeric_null_cols wiht the simple imputer.\n",
        "df.isnull().sum()"
      ],
      "execution_count": 198,
      "outputs": [
        {
          "output_type": "execute_result",
          "data": {
            "text/plain": [
              "PurchDate                                0\n",
              "Auction                                  0\n",
              "VehYear                                  0\n",
              "VehicleAge                               0\n",
              "Make                                     0\n",
              "Model                                    0\n",
              "Trim                                  2360\n",
              "SubModel                                 8\n",
              "Color                                    8\n",
              "Transmission                             9\n",
              "WheelTypeID                              0\n",
              "WheelType                             3174\n",
              "VehOdo                                   0\n",
              "Nationality                              5\n",
              "Size                                     5\n",
              "TopThreeAmericanName                     5\n",
              "MMRAcquisitionAuctionAveragePrice        0\n",
              "MMRAcquisitionAuctionCleanPrice          0\n",
              "MMRAcquisitionRetailAveragePrice         0\n",
              "MMRAcquisitonRetailCleanPrice            0\n",
              "MMRCurrentAuctionAveragePrice            0\n",
              "MMRCurrentAuctionCleanPrice              0\n",
              "MMRCurrentRetailAveragePrice             0\n",
              "MMRCurrentRetailCleanPrice               0\n",
              "PRIMEUNIT                            69564\n",
              "AUCGUART                             69564\n",
              "BYRNO                                    0\n",
              "VNZIP1                                   0\n",
              "VNST                                     0\n",
              "VehBCost                                 0\n",
              "IsOnlineSale                             0\n",
              "WarrantyCost                             0\n",
              "dtype: int64"
            ]
          },
          "metadata": {
            "tags": []
          },
          "execution_count": 198
        }
      ]
    },
    {
      "cell_type": "markdown",
      "metadata": {
        "id": "Hhx9-4Yk1Cx_"
      },
      "source": [
        "Conclusion : We have successfully filled the Numerical Null columns "
      ]
    },
    {
      "cell_type": "code",
      "metadata": {
        "id": "7iX-dk-O1Twq"
      },
      "source": [
        "# Filling the Categorical Null columns with Mode.\n",
        "for column in categorical_null_cols:\n",
        "    df[column] = df[column].fillna(df[column].mode()[0])"
      ],
      "execution_count": 199,
      "outputs": []
    },
    {
      "cell_type": "code",
      "metadata": {
        "colab": {
          "base_uri": "https://localhost:8080/"
        },
        "id": "0Clr1c7i1eas",
        "outputId": "82fe6373-1896-4585-885c-b1a310e49a4b"
      },
      "source": [
        "#Checking whether we filled the columns properfly\n",
        "df.isnull().sum()"
      ],
      "execution_count": 200,
      "outputs": [
        {
          "output_type": "execute_result",
          "data": {
            "text/plain": [
              "PurchDate                            0\n",
              "Auction                              0\n",
              "VehYear                              0\n",
              "VehicleAge                           0\n",
              "Make                                 0\n",
              "Model                                0\n",
              "Trim                                 0\n",
              "SubModel                             0\n",
              "Color                                0\n",
              "Transmission                         0\n",
              "WheelTypeID                          0\n",
              "WheelType                            0\n",
              "VehOdo                               0\n",
              "Nationality                          0\n",
              "Size                                 0\n",
              "TopThreeAmericanName                 0\n",
              "MMRAcquisitionAuctionAveragePrice    0\n",
              "MMRAcquisitionAuctionCleanPrice      0\n",
              "MMRAcquisitionRetailAveragePrice     0\n",
              "MMRAcquisitonRetailCleanPrice        0\n",
              "MMRCurrentAuctionAveragePrice        0\n",
              "MMRCurrentAuctionCleanPrice          0\n",
              "MMRCurrentRetailAveragePrice         0\n",
              "MMRCurrentRetailCleanPrice           0\n",
              "PRIMEUNIT                            0\n",
              "AUCGUART                             0\n",
              "BYRNO                                0\n",
              "VNZIP1                               0\n",
              "VNST                                 0\n",
              "VehBCost                             0\n",
              "IsOnlineSale                         0\n",
              "WarrantyCost                         0\n",
              "dtype: int64"
            ]
          },
          "metadata": {
            "tags": []
          },
          "execution_count": 200
        }
      ]
    },
    {
      "cell_type": "code",
      "metadata": {
        "id": "-VzSIKv81kct"
      },
      "source": [
        "#as we have a date column we need to convert it into separate columns\n",
        "df['year'] = pd.DatetimeIndex(df['PurchDate']).year\n",
        "df['month'] = pd.DatetimeIndex(df['PurchDate']).month\n",
        "df['date'] = pd.DatetimeIndex(df['PurchDate']).day"
      ],
      "execution_count": 201,
      "outputs": []
    },
    {
      "cell_type": "code",
      "metadata": {
        "colab": {
          "base_uri": "https://localhost:8080/",
          "height": 739
        },
        "id": "NwL_d_QV1n4i",
        "outputId": "9aa5a96c-d53c-4e4d-b6f2-e025227e776e"
      },
      "source": [
        "#Checking the DataFrame after Adding Year,Month and Date columns.\n",
        "df"
      ],
      "execution_count": 202,
      "outputs": [
        {
          "output_type": "execute_result",
          "data": {
            "text/html": [
              "<div>\n",
              "<style scoped>\n",
              "    .dataframe tbody tr th:only-of-type {\n",
              "        vertical-align: middle;\n",
              "    }\n",
              "\n",
              "    .dataframe tbody tr th {\n",
              "        vertical-align: top;\n",
              "    }\n",
              "\n",
              "    .dataframe thead th {\n",
              "        text-align: right;\n",
              "    }\n",
              "</style>\n",
              "<table border=\"1\" class=\"dataframe\">\n",
              "  <thead>\n",
              "    <tr style=\"text-align: right;\">\n",
              "      <th></th>\n",
              "      <th>PurchDate</th>\n",
              "      <th>Auction</th>\n",
              "      <th>VehYear</th>\n",
              "      <th>VehicleAge</th>\n",
              "      <th>Make</th>\n",
              "      <th>Model</th>\n",
              "      <th>Trim</th>\n",
              "      <th>SubModel</th>\n",
              "      <th>Color</th>\n",
              "      <th>Transmission</th>\n",
              "      <th>WheelTypeID</th>\n",
              "      <th>WheelType</th>\n",
              "      <th>VehOdo</th>\n",
              "      <th>Nationality</th>\n",
              "      <th>Size</th>\n",
              "      <th>TopThreeAmericanName</th>\n",
              "      <th>MMRAcquisitionAuctionAveragePrice</th>\n",
              "      <th>MMRAcquisitionAuctionCleanPrice</th>\n",
              "      <th>MMRAcquisitionRetailAveragePrice</th>\n",
              "      <th>MMRAcquisitonRetailCleanPrice</th>\n",
              "      <th>MMRCurrentAuctionAveragePrice</th>\n",
              "      <th>MMRCurrentAuctionCleanPrice</th>\n",
              "      <th>MMRCurrentRetailAveragePrice</th>\n",
              "      <th>MMRCurrentRetailCleanPrice</th>\n",
              "      <th>PRIMEUNIT</th>\n",
              "      <th>AUCGUART</th>\n",
              "      <th>BYRNO</th>\n",
              "      <th>VNZIP1</th>\n",
              "      <th>VNST</th>\n",
              "      <th>VehBCost</th>\n",
              "      <th>IsOnlineSale</th>\n",
              "      <th>WarrantyCost</th>\n",
              "      <th>year</th>\n",
              "      <th>month</th>\n",
              "      <th>date</th>\n",
              "    </tr>\n",
              "  </thead>\n",
              "  <tbody>\n",
              "    <tr>\n",
              "      <th>0</th>\n",
              "      <td>12/7/2009</td>\n",
              "      <td>ADESA</td>\n",
              "      <td>2006</td>\n",
              "      <td>3</td>\n",
              "      <td>MAZDA</td>\n",
              "      <td>MAZDA3</td>\n",
              "      <td>i</td>\n",
              "      <td>4D SEDAN I</td>\n",
              "      <td>RED</td>\n",
              "      <td>AUTO</td>\n",
              "      <td>1.000000</td>\n",
              "      <td>Alloy</td>\n",
              "      <td>89046</td>\n",
              "      <td>OTHER ASIAN</td>\n",
              "      <td>MEDIUM</td>\n",
              "      <td>OTHER</td>\n",
              "      <td>8155.0</td>\n",
              "      <td>9829.0</td>\n",
              "      <td>11636.0</td>\n",
              "      <td>13600.0</td>\n",
              "      <td>7451.0</td>\n",
              "      <td>8552.0</td>\n",
              "      <td>11597.0</td>\n",
              "      <td>12409.0</td>\n",
              "      <td>NO</td>\n",
              "      <td>GREEN</td>\n",
              "      <td>21973</td>\n",
              "      <td>33619</td>\n",
              "      <td>FL</td>\n",
              "      <td>7100.0</td>\n",
              "      <td>0</td>\n",
              "      <td>1113</td>\n",
              "      <td>2009</td>\n",
              "      <td>12</td>\n",
              "      <td>7</td>\n",
              "    </tr>\n",
              "    <tr>\n",
              "      <th>1</th>\n",
              "      <td>12/7/2009</td>\n",
              "      <td>ADESA</td>\n",
              "      <td>2004</td>\n",
              "      <td>5</td>\n",
              "      <td>DODGE</td>\n",
              "      <td>1500 RAM PICKUP 2WD</td>\n",
              "      <td>ST</td>\n",
              "      <td>QUAD CAB 4.7L SLT</td>\n",
              "      <td>WHITE</td>\n",
              "      <td>AUTO</td>\n",
              "      <td>1.000000</td>\n",
              "      <td>Alloy</td>\n",
              "      <td>93593</td>\n",
              "      <td>AMERICAN</td>\n",
              "      <td>LARGE TRUCK</td>\n",
              "      <td>CHRYSLER</td>\n",
              "      <td>6854.0</td>\n",
              "      <td>8383.0</td>\n",
              "      <td>10897.0</td>\n",
              "      <td>12572.0</td>\n",
              "      <td>7456.0</td>\n",
              "      <td>9222.0</td>\n",
              "      <td>11374.0</td>\n",
              "      <td>12791.0</td>\n",
              "      <td>NO</td>\n",
              "      <td>GREEN</td>\n",
              "      <td>19638</td>\n",
              "      <td>33619</td>\n",
              "      <td>FL</td>\n",
              "      <td>7600.0</td>\n",
              "      <td>0</td>\n",
              "      <td>1053</td>\n",
              "      <td>2009</td>\n",
              "      <td>12</td>\n",
              "      <td>7</td>\n",
              "    </tr>\n",
              "    <tr>\n",
              "      <th>2</th>\n",
              "      <td>12/7/2009</td>\n",
              "      <td>ADESA</td>\n",
              "      <td>2005</td>\n",
              "      <td>4</td>\n",
              "      <td>DODGE</td>\n",
              "      <td>STRATUS V6</td>\n",
              "      <td>SXT</td>\n",
              "      <td>4D SEDAN SXT FFV</td>\n",
              "      <td>MAROON</td>\n",
              "      <td>AUTO</td>\n",
              "      <td>2.000000</td>\n",
              "      <td>Covers</td>\n",
              "      <td>73807</td>\n",
              "      <td>AMERICAN</td>\n",
              "      <td>MEDIUM</td>\n",
              "      <td>CHRYSLER</td>\n",
              "      <td>3202.0</td>\n",
              "      <td>4760.0</td>\n",
              "      <td>6943.0</td>\n",
              "      <td>8457.0</td>\n",
              "      <td>4035.0</td>\n",
              "      <td>5557.0</td>\n",
              "      <td>7146.0</td>\n",
              "      <td>8702.0</td>\n",
              "      <td>NO</td>\n",
              "      <td>GREEN</td>\n",
              "      <td>19638</td>\n",
              "      <td>33619</td>\n",
              "      <td>FL</td>\n",
              "      <td>4900.0</td>\n",
              "      <td>0</td>\n",
              "      <td>1389</td>\n",
              "      <td>2009</td>\n",
              "      <td>12</td>\n",
              "      <td>7</td>\n",
              "    </tr>\n",
              "    <tr>\n",
              "      <th>3</th>\n",
              "      <td>12/7/2009</td>\n",
              "      <td>ADESA</td>\n",
              "      <td>2004</td>\n",
              "      <td>5</td>\n",
              "      <td>DODGE</td>\n",
              "      <td>NEON</td>\n",
              "      <td>SXT</td>\n",
              "      <td>4D SEDAN</td>\n",
              "      <td>SILVER</td>\n",
              "      <td>AUTO</td>\n",
              "      <td>1.000000</td>\n",
              "      <td>Alloy</td>\n",
              "      <td>65617</td>\n",
              "      <td>AMERICAN</td>\n",
              "      <td>COMPACT</td>\n",
              "      <td>CHRYSLER</td>\n",
              "      <td>1893.0</td>\n",
              "      <td>2675.0</td>\n",
              "      <td>4658.0</td>\n",
              "      <td>5690.0</td>\n",
              "      <td>1844.0</td>\n",
              "      <td>2646.0</td>\n",
              "      <td>4375.0</td>\n",
              "      <td>5518.0</td>\n",
              "      <td>NO</td>\n",
              "      <td>GREEN</td>\n",
              "      <td>19638</td>\n",
              "      <td>33619</td>\n",
              "      <td>FL</td>\n",
              "      <td>4100.0</td>\n",
              "      <td>0</td>\n",
              "      <td>630</td>\n",
              "      <td>2009</td>\n",
              "      <td>12</td>\n",
              "      <td>7</td>\n",
              "    </tr>\n",
              "    <tr>\n",
              "      <th>4</th>\n",
              "      <td>12/7/2009</td>\n",
              "      <td>ADESA</td>\n",
              "      <td>2005</td>\n",
              "      <td>4</td>\n",
              "      <td>FORD</td>\n",
              "      <td>FOCUS</td>\n",
              "      <td>ZX3</td>\n",
              "      <td>2D COUPE ZX3</td>\n",
              "      <td>SILVER</td>\n",
              "      <td>MANUAL</td>\n",
              "      <td>2.000000</td>\n",
              "      <td>Covers</td>\n",
              "      <td>69367</td>\n",
              "      <td>AMERICAN</td>\n",
              "      <td>COMPACT</td>\n",
              "      <td>FORD</td>\n",
              "      <td>3913.0</td>\n",
              "      <td>5054.0</td>\n",
              "      <td>7723.0</td>\n",
              "      <td>8707.0</td>\n",
              "      <td>3247.0</td>\n",
              "      <td>4384.0</td>\n",
              "      <td>6739.0</td>\n",
              "      <td>7911.0</td>\n",
              "      <td>NO</td>\n",
              "      <td>GREEN</td>\n",
              "      <td>19638</td>\n",
              "      <td>33619</td>\n",
              "      <td>FL</td>\n",
              "      <td>4000.0</td>\n",
              "      <td>0</td>\n",
              "      <td>1020</td>\n",
              "      <td>2009</td>\n",
              "      <td>12</td>\n",
              "      <td>7</td>\n",
              "    </tr>\n",
              "    <tr>\n",
              "      <th>...</th>\n",
              "      <td>...</td>\n",
              "      <td>...</td>\n",
              "      <td>...</td>\n",
              "      <td>...</td>\n",
              "      <td>...</td>\n",
              "      <td>...</td>\n",
              "      <td>...</td>\n",
              "      <td>...</td>\n",
              "      <td>...</td>\n",
              "      <td>...</td>\n",
              "      <td>...</td>\n",
              "      <td>...</td>\n",
              "      <td>...</td>\n",
              "      <td>...</td>\n",
              "      <td>...</td>\n",
              "      <td>...</td>\n",
              "      <td>...</td>\n",
              "      <td>...</td>\n",
              "      <td>...</td>\n",
              "      <td>...</td>\n",
              "      <td>...</td>\n",
              "      <td>...</td>\n",
              "      <td>...</td>\n",
              "      <td>...</td>\n",
              "      <td>...</td>\n",
              "      <td>...</td>\n",
              "      <td>...</td>\n",
              "      <td>...</td>\n",
              "      <td>...</td>\n",
              "      <td>...</td>\n",
              "      <td>...</td>\n",
              "      <td>...</td>\n",
              "      <td>...</td>\n",
              "      <td>...</td>\n",
              "      <td>...</td>\n",
              "    </tr>\n",
              "    <tr>\n",
              "      <th>72978</th>\n",
              "      <td>12/2/2009</td>\n",
              "      <td>ADESA</td>\n",
              "      <td>2001</td>\n",
              "      <td>8</td>\n",
              "      <td>MERCURY</td>\n",
              "      <td>SABLE</td>\n",
              "      <td>GS</td>\n",
              "      <td>4D SEDAN GS</td>\n",
              "      <td>BLACK</td>\n",
              "      <td>AUTO</td>\n",
              "      <td>1.000000</td>\n",
              "      <td>Alloy</td>\n",
              "      <td>45234</td>\n",
              "      <td>AMERICAN</td>\n",
              "      <td>MEDIUM</td>\n",
              "      <td>FORD</td>\n",
              "      <td>1996.0</td>\n",
              "      <td>2993.0</td>\n",
              "      <td>2656.0</td>\n",
              "      <td>3732.0</td>\n",
              "      <td>2190.0</td>\n",
              "      <td>3055.0</td>\n",
              "      <td>4836.0</td>\n",
              "      <td>5937.0</td>\n",
              "      <td>NO</td>\n",
              "      <td>GREEN</td>\n",
              "      <td>18111</td>\n",
              "      <td>30212</td>\n",
              "      <td>GA</td>\n",
              "      <td>4200.0</td>\n",
              "      <td>0</td>\n",
              "      <td>993</td>\n",
              "      <td>2009</td>\n",
              "      <td>12</td>\n",
              "      <td>2</td>\n",
              "    </tr>\n",
              "    <tr>\n",
              "      <th>72979</th>\n",
              "      <td>12/2/2009</td>\n",
              "      <td>ADESA</td>\n",
              "      <td>2007</td>\n",
              "      <td>2</td>\n",
              "      <td>CHEVROLET</td>\n",
              "      <td>MALIBU 4C</td>\n",
              "      <td>LS</td>\n",
              "      <td>4D SEDAN LS</td>\n",
              "      <td>SILVER</td>\n",
              "      <td>AUTO</td>\n",
              "      <td>1.494299</td>\n",
              "      <td>Alloy</td>\n",
              "      <td>71759</td>\n",
              "      <td>AMERICAN</td>\n",
              "      <td>MEDIUM</td>\n",
              "      <td>GM</td>\n",
              "      <td>6418.0</td>\n",
              "      <td>7325.0</td>\n",
              "      <td>7431.0</td>\n",
              "      <td>8411.0</td>\n",
              "      <td>6785.0</td>\n",
              "      <td>8132.0</td>\n",
              "      <td>10151.0</td>\n",
              "      <td>11652.0</td>\n",
              "      <td>NO</td>\n",
              "      <td>GREEN</td>\n",
              "      <td>18881</td>\n",
              "      <td>30212</td>\n",
              "      <td>GA</td>\n",
              "      <td>6200.0</td>\n",
              "      <td>0</td>\n",
              "      <td>1038</td>\n",
              "      <td>2009</td>\n",
              "      <td>12</td>\n",
              "      <td>2</td>\n",
              "    </tr>\n",
              "    <tr>\n",
              "      <th>72980</th>\n",
              "      <td>12/2/2009</td>\n",
              "      <td>ADESA</td>\n",
              "      <td>2005</td>\n",
              "      <td>4</td>\n",
              "      <td>JEEP</td>\n",
              "      <td>GRAND CHEROKEE 2WD V</td>\n",
              "      <td>Lar</td>\n",
              "      <td>4D WAGON LAREDO</td>\n",
              "      <td>SILVER</td>\n",
              "      <td>AUTO</td>\n",
              "      <td>1.000000</td>\n",
              "      <td>Alloy</td>\n",
              "      <td>88500</td>\n",
              "      <td>AMERICAN</td>\n",
              "      <td>MEDIUM SUV</td>\n",
              "      <td>CHRYSLER</td>\n",
              "      <td>8545.0</td>\n",
              "      <td>9959.0</td>\n",
              "      <td>9729.0</td>\n",
              "      <td>11256.0</td>\n",
              "      <td>8375.0</td>\n",
              "      <td>9802.0</td>\n",
              "      <td>11831.0</td>\n",
              "      <td>14402.0</td>\n",
              "      <td>NO</td>\n",
              "      <td>GREEN</td>\n",
              "      <td>18111</td>\n",
              "      <td>30212</td>\n",
              "      <td>GA</td>\n",
              "      <td>8200.0</td>\n",
              "      <td>0</td>\n",
              "      <td>1893</td>\n",
              "      <td>2009</td>\n",
              "      <td>12</td>\n",
              "      <td>2</td>\n",
              "    </tr>\n",
              "    <tr>\n",
              "      <th>72981</th>\n",
              "      <td>12/2/2009</td>\n",
              "      <td>ADESA</td>\n",
              "      <td>2006</td>\n",
              "      <td>3</td>\n",
              "      <td>CHEVROLET</td>\n",
              "      <td>IMPALA</td>\n",
              "      <td>LS</td>\n",
              "      <td>4D SEDAN LS</td>\n",
              "      <td>WHITE</td>\n",
              "      <td>AUTO</td>\n",
              "      <td>1.000000</td>\n",
              "      <td>Alloy</td>\n",
              "      <td>79554</td>\n",
              "      <td>AMERICAN</td>\n",
              "      <td>LARGE</td>\n",
              "      <td>GM</td>\n",
              "      <td>6420.0</td>\n",
              "      <td>7604.0</td>\n",
              "      <td>7434.0</td>\n",
              "      <td>8712.0</td>\n",
              "      <td>6590.0</td>\n",
              "      <td>7684.0</td>\n",
              "      <td>10099.0</td>\n",
              "      <td>11228.0</td>\n",
              "      <td>NO</td>\n",
              "      <td>GREEN</td>\n",
              "      <td>18881</td>\n",
              "      <td>30212</td>\n",
              "      <td>GA</td>\n",
              "      <td>7000.0</td>\n",
              "      <td>0</td>\n",
              "      <td>1974</td>\n",
              "      <td>2009</td>\n",
              "      <td>12</td>\n",
              "      <td>2</td>\n",
              "    </tr>\n",
              "    <tr>\n",
              "      <th>72982</th>\n",
              "      <td>12/2/2009</td>\n",
              "      <td>ADESA</td>\n",
              "      <td>2006</td>\n",
              "      <td>3</td>\n",
              "      <td>MAZDA</td>\n",
              "      <td>MAZDA6</td>\n",
              "      <td>s</td>\n",
              "      <td>4D SEDAN S</td>\n",
              "      <td>SILVER</td>\n",
              "      <td>AUTO</td>\n",
              "      <td>1.000000</td>\n",
              "      <td>Alloy</td>\n",
              "      <td>66855</td>\n",
              "      <td>OTHER ASIAN</td>\n",
              "      <td>MEDIUM</td>\n",
              "      <td>OTHER</td>\n",
              "      <td>7535.0</td>\n",
              "      <td>8771.0</td>\n",
              "      <td>8638.0</td>\n",
              "      <td>9973.0</td>\n",
              "      <td>7730.0</td>\n",
              "      <td>9102.0</td>\n",
              "      <td>11954.0</td>\n",
              "      <td>13246.0</td>\n",
              "      <td>NO</td>\n",
              "      <td>GREEN</td>\n",
              "      <td>18111</td>\n",
              "      <td>30212</td>\n",
              "      <td>GA</td>\n",
              "      <td>8000.0</td>\n",
              "      <td>0</td>\n",
              "      <td>1313</td>\n",
              "      <td>2009</td>\n",
              "      <td>12</td>\n",
              "      <td>2</td>\n",
              "    </tr>\n",
              "  </tbody>\n",
              "</table>\n",
              "<p>72983 rows × 35 columns</p>\n",
              "</div>"
            ],
            "text/plain": [
              "       PurchDate Auction  VehYear  VehicleAge  ... WarrantyCost  year month date\n",
              "0      12/7/2009   ADESA     2006           3  ...         1113  2009    12    7\n",
              "1      12/7/2009   ADESA     2004           5  ...         1053  2009    12    7\n",
              "2      12/7/2009   ADESA     2005           4  ...         1389  2009    12    7\n",
              "3      12/7/2009   ADESA     2004           5  ...          630  2009    12    7\n",
              "4      12/7/2009   ADESA     2005           4  ...         1020  2009    12    7\n",
              "...          ...     ...      ...         ...  ...          ...   ...   ...  ...\n",
              "72978  12/2/2009   ADESA     2001           8  ...          993  2009    12    2\n",
              "72979  12/2/2009   ADESA     2007           2  ...         1038  2009    12    2\n",
              "72980  12/2/2009   ADESA     2005           4  ...         1893  2009    12    2\n",
              "72981  12/2/2009   ADESA     2006           3  ...         1974  2009    12    2\n",
              "72982  12/2/2009   ADESA     2006           3  ...         1313  2009    12    2\n",
              "\n",
              "[72983 rows x 35 columns]"
            ]
          },
          "metadata": {
            "tags": []
          },
          "execution_count": 202
        }
      ]
    },
    {
      "cell_type": "code",
      "metadata": {
        "id": "DzRDB_80102L"
      },
      "source": [
        "#removing PurchDate Column\n",
        "df.drop('PurchDate',1,inplace=True)"
      ],
      "execution_count": 203,
      "outputs": []
    },
    {
      "cell_type": "code",
      "metadata": {
        "id": "Dmkd7TuO1_y_"
      },
      "source": [
        "# Extracing all the Numerical columns from the Dataset.\n",
        "numerical_cols = [column for column in df.columns if column not in df.select_dtypes(include=\"O\")]"
      ],
      "execution_count": 204,
      "outputs": []
    },
    {
      "cell_type": "code",
      "metadata": {
        "id": "RupGXHyf2GxY"
      },
      "source": [
        "# Extracting all the Categorical columns from the Dataset.\n",
        "categorical_cols = [column for column in df.columns if column in df.select_dtypes(include=\"O\")]"
      ],
      "execution_count": 205,
      "outputs": []
    },
    {
      "cell_type": "code",
      "metadata": {
        "colab": {
          "base_uri": "https://localhost:8080/"
        },
        "id": "dy_o_RZn2LpI",
        "outputId": "d1471fc0-8c15-42ed-fbf1-0b645d815d74"
      },
      "source": [
        "#Mapping the Categorical columns with integers which has high labels.\n",
        "for column in categorical_cols:\n",
        "    unique = df[column].nunique()\n",
        "    print(f\"The number of unique values in {column} are {unique}\")\n",
        "    if unique > 20 :\n",
        "        labels = list(df[column].unique())\n",
        "        dmap = {k:i for i,k in enumerate(labels,0)}\n",
        "        df[column] = df[column].map(dmap)"
      ],
      "execution_count": 206,
      "outputs": [
        {
          "output_type": "stream",
          "text": [
            "The number of unique values in Auction are 3\n",
            "The number of unique values in Make are 33\n",
            "The number of unique values in Model are 1063\n",
            "The number of unique values in Trim are 134\n",
            "The number of unique values in SubModel are 863\n",
            "The number of unique values in Color are 16\n",
            "The number of unique values in Transmission are 3\n",
            "The number of unique values in WheelType are 3\n",
            "The number of unique values in Nationality are 4\n",
            "The number of unique values in Size are 12\n",
            "The number of unique values in TopThreeAmericanName are 4\n",
            "The number of unique values in PRIMEUNIT are 2\n",
            "The number of unique values in AUCGUART are 2\n",
            "The number of unique values in VNST are 37\n"
          ],
          "name": "stdout"
        }
      ]
    },
    {
      "cell_type": "code",
      "metadata": {
        "colab": {
          "base_uri": "https://localhost:8080/",
          "height": 513
        },
        "id": "NkrppjvT2SjQ",
        "outputId": "0b6dff9d-a55b-4f5d-c199-5123b82ad86f"
      },
      "source": [
        "# Checking the DataFrame after the Transformation.\n",
        "df"
      ],
      "execution_count": 207,
      "outputs": [
        {
          "output_type": "execute_result",
          "data": {
            "text/html": [
              "<div>\n",
              "<style scoped>\n",
              "    .dataframe tbody tr th:only-of-type {\n",
              "        vertical-align: middle;\n",
              "    }\n",
              "\n",
              "    .dataframe tbody tr th {\n",
              "        vertical-align: top;\n",
              "    }\n",
              "\n",
              "    .dataframe thead th {\n",
              "        text-align: right;\n",
              "    }\n",
              "</style>\n",
              "<table border=\"1\" class=\"dataframe\">\n",
              "  <thead>\n",
              "    <tr style=\"text-align: right;\">\n",
              "      <th></th>\n",
              "      <th>Auction</th>\n",
              "      <th>VehYear</th>\n",
              "      <th>VehicleAge</th>\n",
              "      <th>Make</th>\n",
              "      <th>Model</th>\n",
              "      <th>Trim</th>\n",
              "      <th>SubModel</th>\n",
              "      <th>Color</th>\n",
              "      <th>Transmission</th>\n",
              "      <th>WheelTypeID</th>\n",
              "      <th>WheelType</th>\n",
              "      <th>VehOdo</th>\n",
              "      <th>Nationality</th>\n",
              "      <th>Size</th>\n",
              "      <th>TopThreeAmericanName</th>\n",
              "      <th>MMRAcquisitionAuctionAveragePrice</th>\n",
              "      <th>MMRAcquisitionAuctionCleanPrice</th>\n",
              "      <th>MMRAcquisitionRetailAveragePrice</th>\n",
              "      <th>MMRAcquisitonRetailCleanPrice</th>\n",
              "      <th>MMRCurrentAuctionAveragePrice</th>\n",
              "      <th>MMRCurrentAuctionCleanPrice</th>\n",
              "      <th>MMRCurrentRetailAveragePrice</th>\n",
              "      <th>MMRCurrentRetailCleanPrice</th>\n",
              "      <th>PRIMEUNIT</th>\n",
              "      <th>AUCGUART</th>\n",
              "      <th>BYRNO</th>\n",
              "      <th>VNZIP1</th>\n",
              "      <th>VNST</th>\n",
              "      <th>VehBCost</th>\n",
              "      <th>IsOnlineSale</th>\n",
              "      <th>WarrantyCost</th>\n",
              "      <th>year</th>\n",
              "      <th>month</th>\n",
              "      <th>date</th>\n",
              "    </tr>\n",
              "  </thead>\n",
              "  <tbody>\n",
              "    <tr>\n",
              "      <th>0</th>\n",
              "      <td>ADESA</td>\n",
              "      <td>2006</td>\n",
              "      <td>3</td>\n",
              "      <td>0</td>\n",
              "      <td>0</td>\n",
              "      <td>0</td>\n",
              "      <td>0</td>\n",
              "      <td>RED</td>\n",
              "      <td>AUTO</td>\n",
              "      <td>1.000000</td>\n",
              "      <td>Alloy</td>\n",
              "      <td>89046</td>\n",
              "      <td>OTHER ASIAN</td>\n",
              "      <td>MEDIUM</td>\n",
              "      <td>OTHER</td>\n",
              "      <td>8155.0</td>\n",
              "      <td>9829.0</td>\n",
              "      <td>11636.0</td>\n",
              "      <td>13600.0</td>\n",
              "      <td>7451.0</td>\n",
              "      <td>8552.0</td>\n",
              "      <td>11597.0</td>\n",
              "      <td>12409.0</td>\n",
              "      <td>NO</td>\n",
              "      <td>GREEN</td>\n",
              "      <td>21973</td>\n",
              "      <td>33619</td>\n",
              "      <td>0</td>\n",
              "      <td>7100.0</td>\n",
              "      <td>0</td>\n",
              "      <td>1113</td>\n",
              "      <td>2009</td>\n",
              "      <td>12</td>\n",
              "      <td>7</td>\n",
              "    </tr>\n",
              "    <tr>\n",
              "      <th>1</th>\n",
              "      <td>ADESA</td>\n",
              "      <td>2004</td>\n",
              "      <td>5</td>\n",
              "      <td>1</td>\n",
              "      <td>1</td>\n",
              "      <td>1</td>\n",
              "      <td>1</td>\n",
              "      <td>WHITE</td>\n",
              "      <td>AUTO</td>\n",
              "      <td>1.000000</td>\n",
              "      <td>Alloy</td>\n",
              "      <td>93593</td>\n",
              "      <td>AMERICAN</td>\n",
              "      <td>LARGE TRUCK</td>\n",
              "      <td>CHRYSLER</td>\n",
              "      <td>6854.0</td>\n",
              "      <td>8383.0</td>\n",
              "      <td>10897.0</td>\n",
              "      <td>12572.0</td>\n",
              "      <td>7456.0</td>\n",
              "      <td>9222.0</td>\n",
              "      <td>11374.0</td>\n",
              "      <td>12791.0</td>\n",
              "      <td>NO</td>\n",
              "      <td>GREEN</td>\n",
              "      <td>19638</td>\n",
              "      <td>33619</td>\n",
              "      <td>0</td>\n",
              "      <td>7600.0</td>\n",
              "      <td>0</td>\n",
              "      <td>1053</td>\n",
              "      <td>2009</td>\n",
              "      <td>12</td>\n",
              "      <td>7</td>\n",
              "    </tr>\n",
              "    <tr>\n",
              "      <th>2</th>\n",
              "      <td>ADESA</td>\n",
              "      <td>2005</td>\n",
              "      <td>4</td>\n",
              "      <td>1</td>\n",
              "      <td>2</td>\n",
              "      <td>2</td>\n",
              "      <td>2</td>\n",
              "      <td>MAROON</td>\n",
              "      <td>AUTO</td>\n",
              "      <td>2.000000</td>\n",
              "      <td>Covers</td>\n",
              "      <td>73807</td>\n",
              "      <td>AMERICAN</td>\n",
              "      <td>MEDIUM</td>\n",
              "      <td>CHRYSLER</td>\n",
              "      <td>3202.0</td>\n",
              "      <td>4760.0</td>\n",
              "      <td>6943.0</td>\n",
              "      <td>8457.0</td>\n",
              "      <td>4035.0</td>\n",
              "      <td>5557.0</td>\n",
              "      <td>7146.0</td>\n",
              "      <td>8702.0</td>\n",
              "      <td>NO</td>\n",
              "      <td>GREEN</td>\n",
              "      <td>19638</td>\n",
              "      <td>33619</td>\n",
              "      <td>0</td>\n",
              "      <td>4900.0</td>\n",
              "      <td>0</td>\n",
              "      <td>1389</td>\n",
              "      <td>2009</td>\n",
              "      <td>12</td>\n",
              "      <td>7</td>\n",
              "    </tr>\n",
              "    <tr>\n",
              "      <th>3</th>\n",
              "      <td>ADESA</td>\n",
              "      <td>2004</td>\n",
              "      <td>5</td>\n",
              "      <td>1</td>\n",
              "      <td>3</td>\n",
              "      <td>2</td>\n",
              "      <td>3</td>\n",
              "      <td>SILVER</td>\n",
              "      <td>AUTO</td>\n",
              "      <td>1.000000</td>\n",
              "      <td>Alloy</td>\n",
              "      <td>65617</td>\n",
              "      <td>AMERICAN</td>\n",
              "      <td>COMPACT</td>\n",
              "      <td>CHRYSLER</td>\n",
              "      <td>1893.0</td>\n",
              "      <td>2675.0</td>\n",
              "      <td>4658.0</td>\n",
              "      <td>5690.0</td>\n",
              "      <td>1844.0</td>\n",
              "      <td>2646.0</td>\n",
              "      <td>4375.0</td>\n",
              "      <td>5518.0</td>\n",
              "      <td>NO</td>\n",
              "      <td>GREEN</td>\n",
              "      <td>19638</td>\n",
              "      <td>33619</td>\n",
              "      <td>0</td>\n",
              "      <td>4100.0</td>\n",
              "      <td>0</td>\n",
              "      <td>630</td>\n",
              "      <td>2009</td>\n",
              "      <td>12</td>\n",
              "      <td>7</td>\n",
              "    </tr>\n",
              "    <tr>\n",
              "      <th>4</th>\n",
              "      <td>ADESA</td>\n",
              "      <td>2005</td>\n",
              "      <td>4</td>\n",
              "      <td>2</td>\n",
              "      <td>4</td>\n",
              "      <td>3</td>\n",
              "      <td>4</td>\n",
              "      <td>SILVER</td>\n",
              "      <td>MANUAL</td>\n",
              "      <td>2.000000</td>\n",
              "      <td>Covers</td>\n",
              "      <td>69367</td>\n",
              "      <td>AMERICAN</td>\n",
              "      <td>COMPACT</td>\n",
              "      <td>FORD</td>\n",
              "      <td>3913.0</td>\n",
              "      <td>5054.0</td>\n",
              "      <td>7723.0</td>\n",
              "      <td>8707.0</td>\n",
              "      <td>3247.0</td>\n",
              "      <td>4384.0</td>\n",
              "      <td>6739.0</td>\n",
              "      <td>7911.0</td>\n",
              "      <td>NO</td>\n",
              "      <td>GREEN</td>\n",
              "      <td>19638</td>\n",
              "      <td>33619</td>\n",
              "      <td>0</td>\n",
              "      <td>4000.0</td>\n",
              "      <td>0</td>\n",
              "      <td>1020</td>\n",
              "      <td>2009</td>\n",
              "      <td>12</td>\n",
              "      <td>7</td>\n",
              "    </tr>\n",
              "    <tr>\n",
              "      <th>...</th>\n",
              "      <td>...</td>\n",
              "      <td>...</td>\n",
              "      <td>...</td>\n",
              "      <td>...</td>\n",
              "      <td>...</td>\n",
              "      <td>...</td>\n",
              "      <td>...</td>\n",
              "      <td>...</td>\n",
              "      <td>...</td>\n",
              "      <td>...</td>\n",
              "      <td>...</td>\n",
              "      <td>...</td>\n",
              "      <td>...</td>\n",
              "      <td>...</td>\n",
              "      <td>...</td>\n",
              "      <td>...</td>\n",
              "      <td>...</td>\n",
              "      <td>...</td>\n",
              "      <td>...</td>\n",
              "      <td>...</td>\n",
              "      <td>...</td>\n",
              "      <td>...</td>\n",
              "      <td>...</td>\n",
              "      <td>...</td>\n",
              "      <td>...</td>\n",
              "      <td>...</td>\n",
              "      <td>...</td>\n",
              "      <td>...</td>\n",
              "      <td>...</td>\n",
              "      <td>...</td>\n",
              "      <td>...</td>\n",
              "      <td>...</td>\n",
              "      <td>...</td>\n",
              "      <td>...</td>\n",
              "    </tr>\n",
              "    <tr>\n",
              "      <th>72978</th>\n",
              "      <td>ADESA</td>\n",
              "      <td>2001</td>\n",
              "      <td>8</td>\n",
              "      <td>10</td>\n",
              "      <td>22</td>\n",
              "      <td>44</td>\n",
              "      <td>119</td>\n",
              "      <td>BLACK</td>\n",
              "      <td>AUTO</td>\n",
              "      <td>1.000000</td>\n",
              "      <td>Alloy</td>\n",
              "      <td>45234</td>\n",
              "      <td>AMERICAN</td>\n",
              "      <td>MEDIUM</td>\n",
              "      <td>FORD</td>\n",
              "      <td>1996.0</td>\n",
              "      <td>2993.0</td>\n",
              "      <td>2656.0</td>\n",
              "      <td>3732.0</td>\n",
              "      <td>2190.0</td>\n",
              "      <td>3055.0</td>\n",
              "      <td>4836.0</td>\n",
              "      <td>5937.0</td>\n",
              "      <td>NO</td>\n",
              "      <td>GREEN</td>\n",
              "      <td>18111</td>\n",
              "      <td>30212</td>\n",
              "      <td>14</td>\n",
              "      <td>4200.0</td>\n",
              "      <td>0</td>\n",
              "      <td>993</td>\n",
              "      <td>2009</td>\n",
              "      <td>12</td>\n",
              "      <td>2</td>\n",
              "    </tr>\n",
              "    <tr>\n",
              "      <th>72979</th>\n",
              "      <td>ADESA</td>\n",
              "      <td>2007</td>\n",
              "      <td>2</td>\n",
              "      <td>7</td>\n",
              "      <td>104</td>\n",
              "      <td>11</td>\n",
              "      <td>47</td>\n",
              "      <td>SILVER</td>\n",
              "      <td>AUTO</td>\n",
              "      <td>1.494299</td>\n",
              "      <td>Alloy</td>\n",
              "      <td>71759</td>\n",
              "      <td>AMERICAN</td>\n",
              "      <td>MEDIUM</td>\n",
              "      <td>GM</td>\n",
              "      <td>6418.0</td>\n",
              "      <td>7325.0</td>\n",
              "      <td>7431.0</td>\n",
              "      <td>8411.0</td>\n",
              "      <td>6785.0</td>\n",
              "      <td>8132.0</td>\n",
              "      <td>10151.0</td>\n",
              "      <td>11652.0</td>\n",
              "      <td>NO</td>\n",
              "      <td>GREEN</td>\n",
              "      <td>18881</td>\n",
              "      <td>30212</td>\n",
              "      <td>14</td>\n",
              "      <td>6200.0</td>\n",
              "      <td>0</td>\n",
              "      <td>1038</td>\n",
              "      <td>2009</td>\n",
              "      <td>12</td>\n",
              "      <td>2</td>\n",
              "    </tr>\n",
              "    <tr>\n",
              "      <th>72980</th>\n",
              "      <td>ADESA</td>\n",
              "      <td>2005</td>\n",
              "      <td>4</td>\n",
              "      <td>15</td>\n",
              "      <td>103</td>\n",
              "      <td>20</td>\n",
              "      <td>112</td>\n",
              "      <td>SILVER</td>\n",
              "      <td>AUTO</td>\n",
              "      <td>1.000000</td>\n",
              "      <td>Alloy</td>\n",
              "      <td>88500</td>\n",
              "      <td>AMERICAN</td>\n",
              "      <td>MEDIUM SUV</td>\n",
              "      <td>CHRYSLER</td>\n",
              "      <td>8545.0</td>\n",
              "      <td>9959.0</td>\n",
              "      <td>9729.0</td>\n",
              "      <td>11256.0</td>\n",
              "      <td>8375.0</td>\n",
              "      <td>9802.0</td>\n",
              "      <td>11831.0</td>\n",
              "      <td>14402.0</td>\n",
              "      <td>NO</td>\n",
              "      <td>GREEN</td>\n",
              "      <td>18111</td>\n",
              "      <td>30212</td>\n",
              "      <td>14</td>\n",
              "      <td>8200.0</td>\n",
              "      <td>0</td>\n",
              "      <td>1893</td>\n",
              "      <td>2009</td>\n",
              "      <td>12</td>\n",
              "      <td>2</td>\n",
              "    </tr>\n",
              "    <tr>\n",
              "      <th>72981</th>\n",
              "      <td>ADESA</td>\n",
              "      <td>2006</td>\n",
              "      <td>3</td>\n",
              "      <td>7</td>\n",
              "      <td>16</td>\n",
              "      <td>11</td>\n",
              "      <td>47</td>\n",
              "      <td>WHITE</td>\n",
              "      <td>AUTO</td>\n",
              "      <td>1.000000</td>\n",
              "      <td>Alloy</td>\n",
              "      <td>79554</td>\n",
              "      <td>AMERICAN</td>\n",
              "      <td>LARGE</td>\n",
              "      <td>GM</td>\n",
              "      <td>6420.0</td>\n",
              "      <td>7604.0</td>\n",
              "      <td>7434.0</td>\n",
              "      <td>8712.0</td>\n",
              "      <td>6590.0</td>\n",
              "      <td>7684.0</td>\n",
              "      <td>10099.0</td>\n",
              "      <td>11228.0</td>\n",
              "      <td>NO</td>\n",
              "      <td>GREEN</td>\n",
              "      <td>18881</td>\n",
              "      <td>30212</td>\n",
              "      <td>14</td>\n",
              "      <td>7000.0</td>\n",
              "      <td>0</td>\n",
              "      <td>1974</td>\n",
              "      <td>2009</td>\n",
              "      <td>12</td>\n",
              "      <td>2</td>\n",
              "    </tr>\n",
              "    <tr>\n",
              "      <th>72982</th>\n",
              "      <td>ADESA</td>\n",
              "      <td>2006</td>\n",
              "      <td>3</td>\n",
              "      <td>0</td>\n",
              "      <td>70</td>\n",
              "      <td>35</td>\n",
              "      <td>95</td>\n",
              "      <td>SILVER</td>\n",
              "      <td>AUTO</td>\n",
              "      <td>1.000000</td>\n",
              "      <td>Alloy</td>\n",
              "      <td>66855</td>\n",
              "      <td>OTHER ASIAN</td>\n",
              "      <td>MEDIUM</td>\n",
              "      <td>OTHER</td>\n",
              "      <td>7535.0</td>\n",
              "      <td>8771.0</td>\n",
              "      <td>8638.0</td>\n",
              "      <td>9973.0</td>\n",
              "      <td>7730.0</td>\n",
              "      <td>9102.0</td>\n",
              "      <td>11954.0</td>\n",
              "      <td>13246.0</td>\n",
              "      <td>NO</td>\n",
              "      <td>GREEN</td>\n",
              "      <td>18111</td>\n",
              "      <td>30212</td>\n",
              "      <td>14</td>\n",
              "      <td>8000.0</td>\n",
              "      <td>0</td>\n",
              "      <td>1313</td>\n",
              "      <td>2009</td>\n",
              "      <td>12</td>\n",
              "      <td>2</td>\n",
              "    </tr>\n",
              "  </tbody>\n",
              "</table>\n",
              "<p>72983 rows × 34 columns</p>\n",
              "</div>"
            ],
            "text/plain": [
              "      Auction  VehYear  VehicleAge  Make  ...  WarrantyCost  year  month date\n",
              "0       ADESA     2006           3     0  ...          1113  2009     12    7\n",
              "1       ADESA     2004           5     1  ...          1053  2009     12    7\n",
              "2       ADESA     2005           4     1  ...          1389  2009     12    7\n",
              "3       ADESA     2004           5     1  ...           630  2009     12    7\n",
              "4       ADESA     2005           4     2  ...          1020  2009     12    7\n",
              "...       ...      ...         ...   ...  ...           ...   ...    ...  ...\n",
              "72978   ADESA     2001           8    10  ...           993  2009     12    2\n",
              "72979   ADESA     2007           2     7  ...          1038  2009     12    2\n",
              "72980   ADESA     2005           4    15  ...          1893  2009     12    2\n",
              "72981   ADESA     2006           3     7  ...          1974  2009     12    2\n",
              "72982   ADESA     2006           3     0  ...          1313  2009     12    2\n",
              "\n",
              "[72983 rows x 34 columns]"
            ]
          },
          "metadata": {
            "tags": []
          },
          "execution_count": 207
        }
      ]
    },
    {
      "cell_type": "code",
      "metadata": {
        "id": "ibtOglJX2YOQ"
      },
      "source": [
        "#checking categorical columns after  mapping the high labeled columns\n",
        "columns = [column for column in df.columns if column in df.select_dtypes(include=\"O\")]"
      ],
      "execution_count": 208,
      "outputs": []
    },
    {
      "cell_type": "code",
      "metadata": {
        "colab": {
          "base_uri": "https://localhost:8080/"
        },
        "id": "LTqGctgc2cSm",
        "outputId": "00bf6f6b-ebc0-4916-ba01-3cc72edacfe8"
      },
      "source": [
        "columns"
      ],
      "execution_count": 209,
      "outputs": [
        {
          "output_type": "execute_result",
          "data": {
            "text/plain": [
              "['Auction',\n",
              " 'Color',\n",
              " 'Transmission',\n",
              " 'WheelType',\n",
              " 'Nationality',\n",
              " 'Size',\n",
              " 'TopThreeAmericanName',\n",
              " 'PRIMEUNIT',\n",
              " 'AUCGUART']"
            ]
          },
          "metadata": {
            "tags": []
          },
          "execution_count": 209
        }
      ]
    },
    {
      "cell_type": "markdown",
      "metadata": {
        "id": "taNBMd6h2g9l"
      },
      "source": [
        "Conclusion : As we see columns like Make,Model,Trim,SubModel & VNST has very high number of labels , so after the mapping we don't see them in the Categorical columns"
      ]
    },
    {
      "cell_type": "code",
      "metadata": {
        "id": "jn0Ltxo02ua7"
      },
      "source": [
        "#Encoding Categorical Columns\n",
        "from sklearn.preprocessing import OneHotEncoder\n",
        "encoder = OneHotEncoder(sparse=False,handle_unknown='ignore')"
      ],
      "execution_count": 210,
      "outputs": []
    },
    {
      "cell_type": "code",
      "metadata": {
        "colab": {
          "base_uri": "https://localhost:8080/"
        },
        "id": "-RIn9zpH2_tR",
        "outputId": "236dfbab-07cd-4491-d7d1-43000efc6dac"
      },
      "source": [
        "# Fitting the encoder with the Categorical Columns\n",
        "encoder.fit(df[columns])"
      ],
      "execution_count": 211,
      "outputs": [
        {
          "output_type": "execute_result",
          "data": {
            "text/plain": [
              "OneHotEncoder(categories='auto', drop=None, dtype=<class 'numpy.float64'>,\n",
              "              handle_unknown='ignore', sparse=False)"
            ]
          },
          "metadata": {
            "tags": []
          },
          "execution_count": 211
        }
      ]
    },
    {
      "cell_type": "code",
      "metadata": {
        "colab": {
          "base_uri": "https://localhost:8080/"
        },
        "id": "eBfMKQy-3FOw",
        "outputId": "f94b82c5-f9db-4850-833e-ca486896879d"
      },
      "source": [
        "# Getting all the encoded labels from the Categorical columns.\n",
        "encoded_cols = list(encoder.get_feature_names(columns))\n",
        "len(encoded_cols)"
      ],
      "execution_count": 212,
      "outputs": [
        {
          "output_type": "execute_result",
          "data": {
            "text/plain": [
              "49"
            ]
          },
          "metadata": {
            "tags": []
          },
          "execution_count": 212
        }
      ]
    },
    {
      "cell_type": "code",
      "metadata": {
        "colab": {
          "base_uri": "https://localhost:8080/"
        },
        "id": "e6gFyQGt3NoI",
        "outputId": "e98973ab-ab02-4310-edd5-bc450b1fa6c4"
      },
      "source": [
        "# These are the possible encoded columns after doing OneHotEncoder.\n",
        "encoded_cols"
      ],
      "execution_count": 213,
      "outputs": [
        {
          "output_type": "execute_result",
          "data": {
            "text/plain": [
              "['Auction_ADESA',\n",
              " 'Auction_MANHEIM',\n",
              " 'Auction_OTHER',\n",
              " 'Color_BEIGE',\n",
              " 'Color_BLACK',\n",
              " 'Color_BLUE',\n",
              " 'Color_BROWN',\n",
              " 'Color_GOLD',\n",
              " 'Color_GREEN',\n",
              " 'Color_GREY',\n",
              " 'Color_MAROON',\n",
              " 'Color_NOT AVAIL',\n",
              " 'Color_ORANGE',\n",
              " 'Color_OTHER',\n",
              " 'Color_PURPLE',\n",
              " 'Color_RED',\n",
              " 'Color_SILVER',\n",
              " 'Color_WHITE',\n",
              " 'Color_YELLOW',\n",
              " 'Transmission_AUTO',\n",
              " 'Transmission_MANUAL',\n",
              " 'Transmission_Manual',\n",
              " 'WheelType_Alloy',\n",
              " 'WheelType_Covers',\n",
              " 'WheelType_Special',\n",
              " 'Nationality_AMERICAN',\n",
              " 'Nationality_OTHER',\n",
              " 'Nationality_OTHER ASIAN',\n",
              " 'Nationality_TOP LINE ASIAN',\n",
              " 'Size_COMPACT',\n",
              " 'Size_CROSSOVER',\n",
              " 'Size_LARGE',\n",
              " 'Size_LARGE SUV',\n",
              " 'Size_LARGE TRUCK',\n",
              " 'Size_MEDIUM',\n",
              " 'Size_MEDIUM SUV',\n",
              " 'Size_SMALL SUV',\n",
              " 'Size_SMALL TRUCK',\n",
              " 'Size_SPECIALTY',\n",
              " 'Size_SPORTS',\n",
              " 'Size_VAN',\n",
              " 'TopThreeAmericanName_CHRYSLER',\n",
              " 'TopThreeAmericanName_FORD',\n",
              " 'TopThreeAmericanName_GM',\n",
              " 'TopThreeAmericanName_OTHER',\n",
              " 'PRIMEUNIT_NO',\n",
              " 'PRIMEUNIT_YES',\n",
              " 'AUCGUART_GREEN',\n",
              " 'AUCGUART_RED']"
            ]
          },
          "metadata": {
            "tags": []
          },
          "execution_count": 213
        }
      ]
    },
    {
      "cell_type": "code",
      "metadata": {
        "id": "alkRBrDT3RBP"
      },
      "source": [
        "# Transforming the Categorical columns into encoded columns.\n",
        "df[encoded_cols] = encoder.fit_transform(df[columns])"
      ],
      "execution_count": 214,
      "outputs": []
    },
    {
      "cell_type": "code",
      "metadata": {
        "colab": {
          "base_uri": "https://localhost:8080/",
          "height": 461
        },
        "id": "yRFf1z3c3fwO",
        "outputId": "6776143b-4fe2-40b7-e1e8-a7a2a31af467"
      },
      "source": [
        "# Whole DataFrame with Numerical and Categorical columns.\n",
        "df[numerical_cols + encoded_cols]"
      ],
      "execution_count": 215,
      "outputs": [
        {
          "output_type": "execute_result",
          "data": {
            "text/html": [
              "<div>\n",
              "<style scoped>\n",
              "    .dataframe tbody tr th:only-of-type {\n",
              "        vertical-align: middle;\n",
              "    }\n",
              "\n",
              "    .dataframe tbody tr th {\n",
              "        vertical-align: top;\n",
              "    }\n",
              "\n",
              "    .dataframe thead th {\n",
              "        text-align: right;\n",
              "    }\n",
              "</style>\n",
              "<table border=\"1\" class=\"dataframe\">\n",
              "  <thead>\n",
              "    <tr style=\"text-align: right;\">\n",
              "      <th></th>\n",
              "      <th>VehYear</th>\n",
              "      <th>VehicleAge</th>\n",
              "      <th>WheelTypeID</th>\n",
              "      <th>VehOdo</th>\n",
              "      <th>MMRAcquisitionAuctionAveragePrice</th>\n",
              "      <th>MMRAcquisitionAuctionCleanPrice</th>\n",
              "      <th>MMRAcquisitionRetailAveragePrice</th>\n",
              "      <th>MMRAcquisitonRetailCleanPrice</th>\n",
              "      <th>MMRCurrentAuctionAveragePrice</th>\n",
              "      <th>MMRCurrentAuctionCleanPrice</th>\n",
              "      <th>MMRCurrentRetailAveragePrice</th>\n",
              "      <th>MMRCurrentRetailCleanPrice</th>\n",
              "      <th>BYRNO</th>\n",
              "      <th>VNZIP1</th>\n",
              "      <th>VehBCost</th>\n",
              "      <th>IsOnlineSale</th>\n",
              "      <th>WarrantyCost</th>\n",
              "      <th>year</th>\n",
              "      <th>month</th>\n",
              "      <th>date</th>\n",
              "      <th>Auction_ADESA</th>\n",
              "      <th>Auction_MANHEIM</th>\n",
              "      <th>Auction_OTHER</th>\n",
              "      <th>Color_BEIGE</th>\n",
              "      <th>Color_BLACK</th>\n",
              "      <th>Color_BLUE</th>\n",
              "      <th>Color_BROWN</th>\n",
              "      <th>Color_GOLD</th>\n",
              "      <th>Color_GREEN</th>\n",
              "      <th>Color_GREY</th>\n",
              "      <th>Color_MAROON</th>\n",
              "      <th>Color_NOT AVAIL</th>\n",
              "      <th>Color_ORANGE</th>\n",
              "      <th>Color_OTHER</th>\n",
              "      <th>Color_PURPLE</th>\n",
              "      <th>Color_RED</th>\n",
              "      <th>Color_SILVER</th>\n",
              "      <th>Color_WHITE</th>\n",
              "      <th>Color_YELLOW</th>\n",
              "      <th>Transmission_AUTO</th>\n",
              "      <th>Transmission_MANUAL</th>\n",
              "      <th>Transmission_Manual</th>\n",
              "      <th>WheelType_Alloy</th>\n",
              "      <th>WheelType_Covers</th>\n",
              "      <th>WheelType_Special</th>\n",
              "      <th>Nationality_AMERICAN</th>\n",
              "      <th>Nationality_OTHER</th>\n",
              "      <th>Nationality_OTHER ASIAN</th>\n",
              "      <th>Nationality_TOP LINE ASIAN</th>\n",
              "      <th>Size_COMPACT</th>\n",
              "      <th>Size_CROSSOVER</th>\n",
              "      <th>Size_LARGE</th>\n",
              "      <th>Size_LARGE SUV</th>\n",
              "      <th>Size_LARGE TRUCK</th>\n",
              "      <th>Size_MEDIUM</th>\n",
              "      <th>Size_MEDIUM SUV</th>\n",
              "      <th>Size_SMALL SUV</th>\n",
              "      <th>Size_SMALL TRUCK</th>\n",
              "      <th>Size_SPECIALTY</th>\n",
              "      <th>Size_SPORTS</th>\n",
              "      <th>Size_VAN</th>\n",
              "      <th>TopThreeAmericanName_CHRYSLER</th>\n",
              "      <th>TopThreeAmericanName_FORD</th>\n",
              "      <th>TopThreeAmericanName_GM</th>\n",
              "      <th>TopThreeAmericanName_OTHER</th>\n",
              "      <th>PRIMEUNIT_NO</th>\n",
              "      <th>PRIMEUNIT_YES</th>\n",
              "      <th>AUCGUART_GREEN</th>\n",
              "      <th>AUCGUART_RED</th>\n",
              "    </tr>\n",
              "  </thead>\n",
              "  <tbody>\n",
              "    <tr>\n",
              "      <th>0</th>\n",
              "      <td>2006</td>\n",
              "      <td>3</td>\n",
              "      <td>1.000000</td>\n",
              "      <td>89046</td>\n",
              "      <td>8155.0</td>\n",
              "      <td>9829.0</td>\n",
              "      <td>11636.0</td>\n",
              "      <td>13600.0</td>\n",
              "      <td>7451.0</td>\n",
              "      <td>8552.0</td>\n",
              "      <td>11597.0</td>\n",
              "      <td>12409.0</td>\n",
              "      <td>21973</td>\n",
              "      <td>33619</td>\n",
              "      <td>7100.0</td>\n",
              "      <td>0</td>\n",
              "      <td>1113</td>\n",
              "      <td>2009</td>\n",
              "      <td>12</td>\n",
              "      <td>7</td>\n",
              "      <td>1.0</td>\n",
              "      <td>0.0</td>\n",
              "      <td>0.0</td>\n",
              "      <td>0.0</td>\n",
              "      <td>0.0</td>\n",
              "      <td>0.0</td>\n",
              "      <td>0.0</td>\n",
              "      <td>0.0</td>\n",
              "      <td>0.0</td>\n",
              "      <td>0.0</td>\n",
              "      <td>0.0</td>\n",
              "      <td>0.0</td>\n",
              "      <td>0.0</td>\n",
              "      <td>0.0</td>\n",
              "      <td>0.0</td>\n",
              "      <td>1.0</td>\n",
              "      <td>0.0</td>\n",
              "      <td>0.0</td>\n",
              "      <td>0.0</td>\n",
              "      <td>1.0</td>\n",
              "      <td>0.0</td>\n",
              "      <td>0.0</td>\n",
              "      <td>1.0</td>\n",
              "      <td>0.0</td>\n",
              "      <td>0.0</td>\n",
              "      <td>0.0</td>\n",
              "      <td>0.0</td>\n",
              "      <td>1.0</td>\n",
              "      <td>0.0</td>\n",
              "      <td>0.0</td>\n",
              "      <td>0.0</td>\n",
              "      <td>0.0</td>\n",
              "      <td>0.0</td>\n",
              "      <td>0.0</td>\n",
              "      <td>1.0</td>\n",
              "      <td>0.0</td>\n",
              "      <td>0.0</td>\n",
              "      <td>0.0</td>\n",
              "      <td>0.0</td>\n",
              "      <td>0.0</td>\n",
              "      <td>0.0</td>\n",
              "      <td>0.0</td>\n",
              "      <td>0.0</td>\n",
              "      <td>0.0</td>\n",
              "      <td>1.0</td>\n",
              "      <td>1.0</td>\n",
              "      <td>0.0</td>\n",
              "      <td>1.0</td>\n",
              "      <td>0.0</td>\n",
              "    </tr>\n",
              "    <tr>\n",
              "      <th>1</th>\n",
              "      <td>2004</td>\n",
              "      <td>5</td>\n",
              "      <td>1.000000</td>\n",
              "      <td>93593</td>\n",
              "      <td>6854.0</td>\n",
              "      <td>8383.0</td>\n",
              "      <td>10897.0</td>\n",
              "      <td>12572.0</td>\n",
              "      <td>7456.0</td>\n",
              "      <td>9222.0</td>\n",
              "      <td>11374.0</td>\n",
              "      <td>12791.0</td>\n",
              "      <td>19638</td>\n",
              "      <td>33619</td>\n",
              "      <td>7600.0</td>\n",
              "      <td>0</td>\n",
              "      <td>1053</td>\n",
              "      <td>2009</td>\n",
              "      <td>12</td>\n",
              "      <td>7</td>\n",
              "      <td>1.0</td>\n",
              "      <td>0.0</td>\n",
              "      <td>0.0</td>\n",
              "      <td>0.0</td>\n",
              "      <td>0.0</td>\n",
              "      <td>0.0</td>\n",
              "      <td>0.0</td>\n",
              "      <td>0.0</td>\n",
              "      <td>0.0</td>\n",
              "      <td>0.0</td>\n",
              "      <td>0.0</td>\n",
              "      <td>0.0</td>\n",
              "      <td>0.0</td>\n",
              "      <td>0.0</td>\n",
              "      <td>0.0</td>\n",
              "      <td>0.0</td>\n",
              "      <td>0.0</td>\n",
              "      <td>1.0</td>\n",
              "      <td>0.0</td>\n",
              "      <td>1.0</td>\n",
              "      <td>0.0</td>\n",
              "      <td>0.0</td>\n",
              "      <td>1.0</td>\n",
              "      <td>0.0</td>\n",
              "      <td>0.0</td>\n",
              "      <td>1.0</td>\n",
              "      <td>0.0</td>\n",
              "      <td>0.0</td>\n",
              "      <td>0.0</td>\n",
              "      <td>0.0</td>\n",
              "      <td>0.0</td>\n",
              "      <td>0.0</td>\n",
              "      <td>0.0</td>\n",
              "      <td>1.0</td>\n",
              "      <td>0.0</td>\n",
              "      <td>0.0</td>\n",
              "      <td>0.0</td>\n",
              "      <td>0.0</td>\n",
              "      <td>0.0</td>\n",
              "      <td>0.0</td>\n",
              "      <td>0.0</td>\n",
              "      <td>1.0</td>\n",
              "      <td>0.0</td>\n",
              "      <td>0.0</td>\n",
              "      <td>0.0</td>\n",
              "      <td>1.0</td>\n",
              "      <td>0.0</td>\n",
              "      <td>1.0</td>\n",
              "      <td>0.0</td>\n",
              "    </tr>\n",
              "    <tr>\n",
              "      <th>2</th>\n",
              "      <td>2005</td>\n",
              "      <td>4</td>\n",
              "      <td>2.000000</td>\n",
              "      <td>73807</td>\n",
              "      <td>3202.0</td>\n",
              "      <td>4760.0</td>\n",
              "      <td>6943.0</td>\n",
              "      <td>8457.0</td>\n",
              "      <td>4035.0</td>\n",
              "      <td>5557.0</td>\n",
              "      <td>7146.0</td>\n",
              "      <td>8702.0</td>\n",
              "      <td>19638</td>\n",
              "      <td>33619</td>\n",
              "      <td>4900.0</td>\n",
              "      <td>0</td>\n",
              "      <td>1389</td>\n",
              "      <td>2009</td>\n",
              "      <td>12</td>\n",
              "      <td>7</td>\n",
              "      <td>1.0</td>\n",
              "      <td>0.0</td>\n",
              "      <td>0.0</td>\n",
              "      <td>0.0</td>\n",
              "      <td>0.0</td>\n",
              "      <td>0.0</td>\n",
              "      <td>0.0</td>\n",
              "      <td>0.0</td>\n",
              "      <td>0.0</td>\n",
              "      <td>0.0</td>\n",
              "      <td>1.0</td>\n",
              "      <td>0.0</td>\n",
              "      <td>0.0</td>\n",
              "      <td>0.0</td>\n",
              "      <td>0.0</td>\n",
              "      <td>0.0</td>\n",
              "      <td>0.0</td>\n",
              "      <td>0.0</td>\n",
              "      <td>0.0</td>\n",
              "      <td>1.0</td>\n",
              "      <td>0.0</td>\n",
              "      <td>0.0</td>\n",
              "      <td>0.0</td>\n",
              "      <td>1.0</td>\n",
              "      <td>0.0</td>\n",
              "      <td>1.0</td>\n",
              "      <td>0.0</td>\n",
              "      <td>0.0</td>\n",
              "      <td>0.0</td>\n",
              "      <td>0.0</td>\n",
              "      <td>0.0</td>\n",
              "      <td>0.0</td>\n",
              "      <td>0.0</td>\n",
              "      <td>0.0</td>\n",
              "      <td>1.0</td>\n",
              "      <td>0.0</td>\n",
              "      <td>0.0</td>\n",
              "      <td>0.0</td>\n",
              "      <td>0.0</td>\n",
              "      <td>0.0</td>\n",
              "      <td>0.0</td>\n",
              "      <td>1.0</td>\n",
              "      <td>0.0</td>\n",
              "      <td>0.0</td>\n",
              "      <td>0.0</td>\n",
              "      <td>1.0</td>\n",
              "      <td>0.0</td>\n",
              "      <td>1.0</td>\n",
              "      <td>0.0</td>\n",
              "    </tr>\n",
              "    <tr>\n",
              "      <th>3</th>\n",
              "      <td>2004</td>\n",
              "      <td>5</td>\n",
              "      <td>1.000000</td>\n",
              "      <td>65617</td>\n",
              "      <td>1893.0</td>\n",
              "      <td>2675.0</td>\n",
              "      <td>4658.0</td>\n",
              "      <td>5690.0</td>\n",
              "      <td>1844.0</td>\n",
              "      <td>2646.0</td>\n",
              "      <td>4375.0</td>\n",
              "      <td>5518.0</td>\n",
              "      <td>19638</td>\n",
              "      <td>33619</td>\n",
              "      <td>4100.0</td>\n",
              "      <td>0</td>\n",
              "      <td>630</td>\n",
              "      <td>2009</td>\n",
              "      <td>12</td>\n",
              "      <td>7</td>\n",
              "      <td>1.0</td>\n",
              "      <td>0.0</td>\n",
              "      <td>0.0</td>\n",
              "      <td>0.0</td>\n",
              "      <td>0.0</td>\n",
              "      <td>0.0</td>\n",
              "      <td>0.0</td>\n",
              "      <td>0.0</td>\n",
              "      <td>0.0</td>\n",
              "      <td>0.0</td>\n",
              "      <td>0.0</td>\n",
              "      <td>0.0</td>\n",
              "      <td>0.0</td>\n",
              "      <td>0.0</td>\n",
              "      <td>0.0</td>\n",
              "      <td>0.0</td>\n",
              "      <td>1.0</td>\n",
              "      <td>0.0</td>\n",
              "      <td>0.0</td>\n",
              "      <td>1.0</td>\n",
              "      <td>0.0</td>\n",
              "      <td>0.0</td>\n",
              "      <td>1.0</td>\n",
              "      <td>0.0</td>\n",
              "      <td>0.0</td>\n",
              "      <td>1.0</td>\n",
              "      <td>0.0</td>\n",
              "      <td>0.0</td>\n",
              "      <td>0.0</td>\n",
              "      <td>1.0</td>\n",
              "      <td>0.0</td>\n",
              "      <td>0.0</td>\n",
              "      <td>0.0</td>\n",
              "      <td>0.0</td>\n",
              "      <td>0.0</td>\n",
              "      <td>0.0</td>\n",
              "      <td>0.0</td>\n",
              "      <td>0.0</td>\n",
              "      <td>0.0</td>\n",
              "      <td>0.0</td>\n",
              "      <td>0.0</td>\n",
              "      <td>1.0</td>\n",
              "      <td>0.0</td>\n",
              "      <td>0.0</td>\n",
              "      <td>0.0</td>\n",
              "      <td>1.0</td>\n",
              "      <td>0.0</td>\n",
              "      <td>1.0</td>\n",
              "      <td>0.0</td>\n",
              "    </tr>\n",
              "    <tr>\n",
              "      <th>4</th>\n",
              "      <td>2005</td>\n",
              "      <td>4</td>\n",
              "      <td>2.000000</td>\n",
              "      <td>69367</td>\n",
              "      <td>3913.0</td>\n",
              "      <td>5054.0</td>\n",
              "      <td>7723.0</td>\n",
              "      <td>8707.0</td>\n",
              "      <td>3247.0</td>\n",
              "      <td>4384.0</td>\n",
              "      <td>6739.0</td>\n",
              "      <td>7911.0</td>\n",
              "      <td>19638</td>\n",
              "      <td>33619</td>\n",
              "      <td>4000.0</td>\n",
              "      <td>0</td>\n",
              "      <td>1020</td>\n",
              "      <td>2009</td>\n",
              "      <td>12</td>\n",
              "      <td>7</td>\n",
              "      <td>1.0</td>\n",
              "      <td>0.0</td>\n",
              "      <td>0.0</td>\n",
              "      <td>0.0</td>\n",
              "      <td>0.0</td>\n",
              "      <td>0.0</td>\n",
              "      <td>0.0</td>\n",
              "      <td>0.0</td>\n",
              "      <td>0.0</td>\n",
              "      <td>0.0</td>\n",
              "      <td>0.0</td>\n",
              "      <td>0.0</td>\n",
              "      <td>0.0</td>\n",
              "      <td>0.0</td>\n",
              "      <td>0.0</td>\n",
              "      <td>0.0</td>\n",
              "      <td>1.0</td>\n",
              "      <td>0.0</td>\n",
              "      <td>0.0</td>\n",
              "      <td>0.0</td>\n",
              "      <td>1.0</td>\n",
              "      <td>0.0</td>\n",
              "      <td>0.0</td>\n",
              "      <td>1.0</td>\n",
              "      <td>0.0</td>\n",
              "      <td>1.0</td>\n",
              "      <td>0.0</td>\n",
              "      <td>0.0</td>\n",
              "      <td>0.0</td>\n",
              "      <td>1.0</td>\n",
              "      <td>0.0</td>\n",
              "      <td>0.0</td>\n",
              "      <td>0.0</td>\n",
              "      <td>0.0</td>\n",
              "      <td>0.0</td>\n",
              "      <td>0.0</td>\n",
              "      <td>0.0</td>\n",
              "      <td>0.0</td>\n",
              "      <td>0.0</td>\n",
              "      <td>0.0</td>\n",
              "      <td>0.0</td>\n",
              "      <td>0.0</td>\n",
              "      <td>1.0</td>\n",
              "      <td>0.0</td>\n",
              "      <td>0.0</td>\n",
              "      <td>1.0</td>\n",
              "      <td>0.0</td>\n",
              "      <td>1.0</td>\n",
              "      <td>0.0</td>\n",
              "    </tr>\n",
              "    <tr>\n",
              "      <th>...</th>\n",
              "      <td>...</td>\n",
              "      <td>...</td>\n",
              "      <td>...</td>\n",
              "      <td>...</td>\n",
              "      <td>...</td>\n",
              "      <td>...</td>\n",
              "      <td>...</td>\n",
              "      <td>...</td>\n",
              "      <td>...</td>\n",
              "      <td>...</td>\n",
              "      <td>...</td>\n",
              "      <td>...</td>\n",
              "      <td>...</td>\n",
              "      <td>...</td>\n",
              "      <td>...</td>\n",
              "      <td>...</td>\n",
              "      <td>...</td>\n",
              "      <td>...</td>\n",
              "      <td>...</td>\n",
              "      <td>...</td>\n",
              "      <td>...</td>\n",
              "      <td>...</td>\n",
              "      <td>...</td>\n",
              "      <td>...</td>\n",
              "      <td>...</td>\n",
              "      <td>...</td>\n",
              "      <td>...</td>\n",
              "      <td>...</td>\n",
              "      <td>...</td>\n",
              "      <td>...</td>\n",
              "      <td>...</td>\n",
              "      <td>...</td>\n",
              "      <td>...</td>\n",
              "      <td>...</td>\n",
              "      <td>...</td>\n",
              "      <td>...</td>\n",
              "      <td>...</td>\n",
              "      <td>...</td>\n",
              "      <td>...</td>\n",
              "      <td>...</td>\n",
              "      <td>...</td>\n",
              "      <td>...</td>\n",
              "      <td>...</td>\n",
              "      <td>...</td>\n",
              "      <td>...</td>\n",
              "      <td>...</td>\n",
              "      <td>...</td>\n",
              "      <td>...</td>\n",
              "      <td>...</td>\n",
              "      <td>...</td>\n",
              "      <td>...</td>\n",
              "      <td>...</td>\n",
              "      <td>...</td>\n",
              "      <td>...</td>\n",
              "      <td>...</td>\n",
              "      <td>...</td>\n",
              "      <td>...</td>\n",
              "      <td>...</td>\n",
              "      <td>...</td>\n",
              "      <td>...</td>\n",
              "      <td>...</td>\n",
              "      <td>...</td>\n",
              "      <td>...</td>\n",
              "      <td>...</td>\n",
              "      <td>...</td>\n",
              "      <td>...</td>\n",
              "      <td>...</td>\n",
              "      <td>...</td>\n",
              "      <td>...</td>\n",
              "    </tr>\n",
              "    <tr>\n",
              "      <th>72978</th>\n",
              "      <td>2001</td>\n",
              "      <td>8</td>\n",
              "      <td>1.000000</td>\n",
              "      <td>45234</td>\n",
              "      <td>1996.0</td>\n",
              "      <td>2993.0</td>\n",
              "      <td>2656.0</td>\n",
              "      <td>3732.0</td>\n",
              "      <td>2190.0</td>\n",
              "      <td>3055.0</td>\n",
              "      <td>4836.0</td>\n",
              "      <td>5937.0</td>\n",
              "      <td>18111</td>\n",
              "      <td>30212</td>\n",
              "      <td>4200.0</td>\n",
              "      <td>0</td>\n",
              "      <td>993</td>\n",
              "      <td>2009</td>\n",
              "      <td>12</td>\n",
              "      <td>2</td>\n",
              "      <td>1.0</td>\n",
              "      <td>0.0</td>\n",
              "      <td>0.0</td>\n",
              "      <td>0.0</td>\n",
              "      <td>1.0</td>\n",
              "      <td>0.0</td>\n",
              "      <td>0.0</td>\n",
              "      <td>0.0</td>\n",
              "      <td>0.0</td>\n",
              "      <td>0.0</td>\n",
              "      <td>0.0</td>\n",
              "      <td>0.0</td>\n",
              "      <td>0.0</td>\n",
              "      <td>0.0</td>\n",
              "      <td>0.0</td>\n",
              "      <td>0.0</td>\n",
              "      <td>0.0</td>\n",
              "      <td>0.0</td>\n",
              "      <td>0.0</td>\n",
              "      <td>1.0</td>\n",
              "      <td>0.0</td>\n",
              "      <td>0.0</td>\n",
              "      <td>1.0</td>\n",
              "      <td>0.0</td>\n",
              "      <td>0.0</td>\n",
              "      <td>1.0</td>\n",
              "      <td>0.0</td>\n",
              "      <td>0.0</td>\n",
              "      <td>0.0</td>\n",
              "      <td>0.0</td>\n",
              "      <td>0.0</td>\n",
              "      <td>0.0</td>\n",
              "      <td>0.0</td>\n",
              "      <td>0.0</td>\n",
              "      <td>1.0</td>\n",
              "      <td>0.0</td>\n",
              "      <td>0.0</td>\n",
              "      <td>0.0</td>\n",
              "      <td>0.0</td>\n",
              "      <td>0.0</td>\n",
              "      <td>0.0</td>\n",
              "      <td>0.0</td>\n",
              "      <td>1.0</td>\n",
              "      <td>0.0</td>\n",
              "      <td>0.0</td>\n",
              "      <td>1.0</td>\n",
              "      <td>0.0</td>\n",
              "      <td>1.0</td>\n",
              "      <td>0.0</td>\n",
              "    </tr>\n",
              "    <tr>\n",
              "      <th>72979</th>\n",
              "      <td>2007</td>\n",
              "      <td>2</td>\n",
              "      <td>1.494299</td>\n",
              "      <td>71759</td>\n",
              "      <td>6418.0</td>\n",
              "      <td>7325.0</td>\n",
              "      <td>7431.0</td>\n",
              "      <td>8411.0</td>\n",
              "      <td>6785.0</td>\n",
              "      <td>8132.0</td>\n",
              "      <td>10151.0</td>\n",
              "      <td>11652.0</td>\n",
              "      <td>18881</td>\n",
              "      <td>30212</td>\n",
              "      <td>6200.0</td>\n",
              "      <td>0</td>\n",
              "      <td>1038</td>\n",
              "      <td>2009</td>\n",
              "      <td>12</td>\n",
              "      <td>2</td>\n",
              "      <td>1.0</td>\n",
              "      <td>0.0</td>\n",
              "      <td>0.0</td>\n",
              "      <td>0.0</td>\n",
              "      <td>0.0</td>\n",
              "      <td>0.0</td>\n",
              "      <td>0.0</td>\n",
              "      <td>0.0</td>\n",
              "      <td>0.0</td>\n",
              "      <td>0.0</td>\n",
              "      <td>0.0</td>\n",
              "      <td>0.0</td>\n",
              "      <td>0.0</td>\n",
              "      <td>0.0</td>\n",
              "      <td>0.0</td>\n",
              "      <td>0.0</td>\n",
              "      <td>1.0</td>\n",
              "      <td>0.0</td>\n",
              "      <td>0.0</td>\n",
              "      <td>1.0</td>\n",
              "      <td>0.0</td>\n",
              "      <td>0.0</td>\n",
              "      <td>1.0</td>\n",
              "      <td>0.0</td>\n",
              "      <td>0.0</td>\n",
              "      <td>1.0</td>\n",
              "      <td>0.0</td>\n",
              "      <td>0.0</td>\n",
              "      <td>0.0</td>\n",
              "      <td>0.0</td>\n",
              "      <td>0.0</td>\n",
              "      <td>0.0</td>\n",
              "      <td>0.0</td>\n",
              "      <td>0.0</td>\n",
              "      <td>1.0</td>\n",
              "      <td>0.0</td>\n",
              "      <td>0.0</td>\n",
              "      <td>0.0</td>\n",
              "      <td>0.0</td>\n",
              "      <td>0.0</td>\n",
              "      <td>0.0</td>\n",
              "      <td>0.0</td>\n",
              "      <td>0.0</td>\n",
              "      <td>1.0</td>\n",
              "      <td>0.0</td>\n",
              "      <td>1.0</td>\n",
              "      <td>0.0</td>\n",
              "      <td>1.0</td>\n",
              "      <td>0.0</td>\n",
              "    </tr>\n",
              "    <tr>\n",
              "      <th>72980</th>\n",
              "      <td>2005</td>\n",
              "      <td>4</td>\n",
              "      <td>1.000000</td>\n",
              "      <td>88500</td>\n",
              "      <td>8545.0</td>\n",
              "      <td>9959.0</td>\n",
              "      <td>9729.0</td>\n",
              "      <td>11256.0</td>\n",
              "      <td>8375.0</td>\n",
              "      <td>9802.0</td>\n",
              "      <td>11831.0</td>\n",
              "      <td>14402.0</td>\n",
              "      <td>18111</td>\n",
              "      <td>30212</td>\n",
              "      <td>8200.0</td>\n",
              "      <td>0</td>\n",
              "      <td>1893</td>\n",
              "      <td>2009</td>\n",
              "      <td>12</td>\n",
              "      <td>2</td>\n",
              "      <td>1.0</td>\n",
              "      <td>0.0</td>\n",
              "      <td>0.0</td>\n",
              "      <td>0.0</td>\n",
              "      <td>0.0</td>\n",
              "      <td>0.0</td>\n",
              "      <td>0.0</td>\n",
              "      <td>0.0</td>\n",
              "      <td>0.0</td>\n",
              "      <td>0.0</td>\n",
              "      <td>0.0</td>\n",
              "      <td>0.0</td>\n",
              "      <td>0.0</td>\n",
              "      <td>0.0</td>\n",
              "      <td>0.0</td>\n",
              "      <td>0.0</td>\n",
              "      <td>1.0</td>\n",
              "      <td>0.0</td>\n",
              "      <td>0.0</td>\n",
              "      <td>1.0</td>\n",
              "      <td>0.0</td>\n",
              "      <td>0.0</td>\n",
              "      <td>1.0</td>\n",
              "      <td>0.0</td>\n",
              "      <td>0.0</td>\n",
              "      <td>1.0</td>\n",
              "      <td>0.0</td>\n",
              "      <td>0.0</td>\n",
              "      <td>0.0</td>\n",
              "      <td>0.0</td>\n",
              "      <td>0.0</td>\n",
              "      <td>0.0</td>\n",
              "      <td>0.0</td>\n",
              "      <td>0.0</td>\n",
              "      <td>0.0</td>\n",
              "      <td>1.0</td>\n",
              "      <td>0.0</td>\n",
              "      <td>0.0</td>\n",
              "      <td>0.0</td>\n",
              "      <td>0.0</td>\n",
              "      <td>0.0</td>\n",
              "      <td>1.0</td>\n",
              "      <td>0.0</td>\n",
              "      <td>0.0</td>\n",
              "      <td>0.0</td>\n",
              "      <td>1.0</td>\n",
              "      <td>0.0</td>\n",
              "      <td>1.0</td>\n",
              "      <td>0.0</td>\n",
              "    </tr>\n",
              "    <tr>\n",
              "      <th>72981</th>\n",
              "      <td>2006</td>\n",
              "      <td>3</td>\n",
              "      <td>1.000000</td>\n",
              "      <td>79554</td>\n",
              "      <td>6420.0</td>\n",
              "      <td>7604.0</td>\n",
              "      <td>7434.0</td>\n",
              "      <td>8712.0</td>\n",
              "      <td>6590.0</td>\n",
              "      <td>7684.0</td>\n",
              "      <td>10099.0</td>\n",
              "      <td>11228.0</td>\n",
              "      <td>18881</td>\n",
              "      <td>30212</td>\n",
              "      <td>7000.0</td>\n",
              "      <td>0</td>\n",
              "      <td>1974</td>\n",
              "      <td>2009</td>\n",
              "      <td>12</td>\n",
              "      <td>2</td>\n",
              "      <td>1.0</td>\n",
              "      <td>0.0</td>\n",
              "      <td>0.0</td>\n",
              "      <td>0.0</td>\n",
              "      <td>0.0</td>\n",
              "      <td>0.0</td>\n",
              "      <td>0.0</td>\n",
              "      <td>0.0</td>\n",
              "      <td>0.0</td>\n",
              "      <td>0.0</td>\n",
              "      <td>0.0</td>\n",
              "      <td>0.0</td>\n",
              "      <td>0.0</td>\n",
              "      <td>0.0</td>\n",
              "      <td>0.0</td>\n",
              "      <td>0.0</td>\n",
              "      <td>0.0</td>\n",
              "      <td>1.0</td>\n",
              "      <td>0.0</td>\n",
              "      <td>1.0</td>\n",
              "      <td>0.0</td>\n",
              "      <td>0.0</td>\n",
              "      <td>1.0</td>\n",
              "      <td>0.0</td>\n",
              "      <td>0.0</td>\n",
              "      <td>1.0</td>\n",
              "      <td>0.0</td>\n",
              "      <td>0.0</td>\n",
              "      <td>0.0</td>\n",
              "      <td>0.0</td>\n",
              "      <td>0.0</td>\n",
              "      <td>1.0</td>\n",
              "      <td>0.0</td>\n",
              "      <td>0.0</td>\n",
              "      <td>0.0</td>\n",
              "      <td>0.0</td>\n",
              "      <td>0.0</td>\n",
              "      <td>0.0</td>\n",
              "      <td>0.0</td>\n",
              "      <td>0.0</td>\n",
              "      <td>0.0</td>\n",
              "      <td>0.0</td>\n",
              "      <td>0.0</td>\n",
              "      <td>1.0</td>\n",
              "      <td>0.0</td>\n",
              "      <td>1.0</td>\n",
              "      <td>0.0</td>\n",
              "      <td>1.0</td>\n",
              "      <td>0.0</td>\n",
              "    </tr>\n",
              "    <tr>\n",
              "      <th>72982</th>\n",
              "      <td>2006</td>\n",
              "      <td>3</td>\n",
              "      <td>1.000000</td>\n",
              "      <td>66855</td>\n",
              "      <td>7535.0</td>\n",
              "      <td>8771.0</td>\n",
              "      <td>8638.0</td>\n",
              "      <td>9973.0</td>\n",
              "      <td>7730.0</td>\n",
              "      <td>9102.0</td>\n",
              "      <td>11954.0</td>\n",
              "      <td>13246.0</td>\n",
              "      <td>18111</td>\n",
              "      <td>30212</td>\n",
              "      <td>8000.0</td>\n",
              "      <td>0</td>\n",
              "      <td>1313</td>\n",
              "      <td>2009</td>\n",
              "      <td>12</td>\n",
              "      <td>2</td>\n",
              "      <td>1.0</td>\n",
              "      <td>0.0</td>\n",
              "      <td>0.0</td>\n",
              "      <td>0.0</td>\n",
              "      <td>0.0</td>\n",
              "      <td>0.0</td>\n",
              "      <td>0.0</td>\n",
              "      <td>0.0</td>\n",
              "      <td>0.0</td>\n",
              "      <td>0.0</td>\n",
              "      <td>0.0</td>\n",
              "      <td>0.0</td>\n",
              "      <td>0.0</td>\n",
              "      <td>0.0</td>\n",
              "      <td>0.0</td>\n",
              "      <td>0.0</td>\n",
              "      <td>1.0</td>\n",
              "      <td>0.0</td>\n",
              "      <td>0.0</td>\n",
              "      <td>1.0</td>\n",
              "      <td>0.0</td>\n",
              "      <td>0.0</td>\n",
              "      <td>1.0</td>\n",
              "      <td>0.0</td>\n",
              "      <td>0.0</td>\n",
              "      <td>0.0</td>\n",
              "      <td>0.0</td>\n",
              "      <td>1.0</td>\n",
              "      <td>0.0</td>\n",
              "      <td>0.0</td>\n",
              "      <td>0.0</td>\n",
              "      <td>0.0</td>\n",
              "      <td>0.0</td>\n",
              "      <td>0.0</td>\n",
              "      <td>1.0</td>\n",
              "      <td>0.0</td>\n",
              "      <td>0.0</td>\n",
              "      <td>0.0</td>\n",
              "      <td>0.0</td>\n",
              "      <td>0.0</td>\n",
              "      <td>0.0</td>\n",
              "      <td>0.0</td>\n",
              "      <td>0.0</td>\n",
              "      <td>0.0</td>\n",
              "      <td>1.0</td>\n",
              "      <td>1.0</td>\n",
              "      <td>0.0</td>\n",
              "      <td>1.0</td>\n",
              "      <td>0.0</td>\n",
              "    </tr>\n",
              "  </tbody>\n",
              "</table>\n",
              "<p>72983 rows × 69 columns</p>\n",
              "</div>"
            ],
            "text/plain": [
              "       VehYear  VehicleAge  ...  AUCGUART_GREEN  AUCGUART_RED\n",
              "0         2006           3  ...             1.0           0.0\n",
              "1         2004           5  ...             1.0           0.0\n",
              "2         2005           4  ...             1.0           0.0\n",
              "3         2004           5  ...             1.0           0.0\n",
              "4         2005           4  ...             1.0           0.0\n",
              "...        ...         ...  ...             ...           ...\n",
              "72978     2001           8  ...             1.0           0.0\n",
              "72979     2007           2  ...             1.0           0.0\n",
              "72980     2005           4  ...             1.0           0.0\n",
              "72981     2006           3  ...             1.0           0.0\n",
              "72982     2006           3  ...             1.0           0.0\n",
              "\n",
              "[72983 rows x 69 columns]"
            ]
          },
          "metadata": {
            "tags": []
          },
          "execution_count": 215
        }
      ]
    },
    {
      "cell_type": "code",
      "metadata": {
        "id": "h5UGOTJ13pLI"
      },
      "source": [
        "# Extracting all the Independent variables into X.\n",
        "X = df[numerical_cols + encoded_cols]"
      ],
      "execution_count": 216,
      "outputs": []
    },
    {
      "cell_type": "code",
      "metadata": {
        "id": "WRcO1t4J3waH"
      },
      "source": [
        "#splitting the data into train and test\n",
        "from sklearn.model_selection import train_test_split\n",
        "X_train,X_test,y_train,y_test = train_test_split(X,target,test_size=0.3,random_state=355)"
      ],
      "execution_count": 217,
      "outputs": []
    },
    {
      "cell_type": "markdown",
      "metadata": {
        "id": "vO93uui135-o"
      },
      "source": [
        "## Using RandomForestClassifier"
      ]
    },
    {
      "cell_type": "code",
      "metadata": {
        "id": "Zz4LWATR389F"
      },
      "source": [
        "#Creating an object of RandomForestClassifier\n",
        "rfc = RandomForestClassifier()"
      ],
      "execution_count": 218,
      "outputs": []
    },
    {
      "cell_type": "code",
      "metadata": {
        "colab": {
          "base_uri": "https://localhost:8080/"
        },
        "id": "ksCi6RZ74A5J",
        "outputId": "77eb6e31-4217-4370-c8f2-dba77526d160"
      },
      "source": [
        "# Fitting the random forest with training Data.\n",
        "rfc.fit(X_train,y_train)"
      ],
      "execution_count": 219,
      "outputs": [
        {
          "output_type": "execute_result",
          "data": {
            "text/plain": [
              "RandomForestClassifier(bootstrap=True, ccp_alpha=0.0, class_weight=None,\n",
              "                       criterion='gini', max_depth=None, max_features='auto',\n",
              "                       max_leaf_nodes=None, max_samples=None,\n",
              "                       min_impurity_decrease=0.0, min_impurity_split=None,\n",
              "                       min_samples_leaf=1, min_samples_split=2,\n",
              "                       min_weight_fraction_leaf=0.0, n_estimators=100,\n",
              "                       n_jobs=None, oob_score=False, random_state=None,\n",
              "                       verbose=0, warm_start=False)"
            ]
          },
          "metadata": {
            "tags": []
          },
          "execution_count": 219
        }
      ]
    },
    {
      "cell_type": "code",
      "metadata": {
        "id": "5LeICDua4Ili"
      },
      "source": [
        "#Checking the score of Training Data\n",
        "train_score = rfc.score(X_train,y_train)"
      ],
      "execution_count": 220,
      "outputs": []
    },
    {
      "cell_type": "code",
      "metadata": {
        "id": "cfbMRuDg4MxW"
      },
      "source": [
        "#Checking the score of Test Data\n",
        "test_score = rfc.score(X_test,y_test)"
      ],
      "execution_count": 221,
      "outputs": []
    },
    {
      "cell_type": "code",
      "metadata": {
        "colab": {
          "base_uri": "https://localhost:8080/"
        },
        "id": "kE3dm2u-4OQA",
        "outputId": "180cdd48-9cf6-4eb5-96b1-08760e0d5305"
      },
      "source": [
        "print(f\"Train Score :: {train_score}\")\n",
        "print(f\"Test Score :: {test_score}\")"
      ],
      "execution_count": 222,
      "outputs": [
        {
          "output_type": "stream",
          "text": [
            "Train Score :: 0.9999804259317256\n",
            "Test Score :: 0.8996574560401919\n"
          ],
          "name": "stdout"
        }
      ]
    },
    {
      "cell_type": "code",
      "metadata": {
        "id": "HUsLH18I8KvP"
      },
      "source": [
        "#Checking how many test lables we have classified Correctly.\n",
        "from sklearn.metrics import ConfusionMatrixDisplay,confusion_matrix,roc_curve\n",
        "pred = rfc.predict(X_test)"
      ],
      "execution_count": 223,
      "outputs": []
    },
    {
      "cell_type": "code",
      "metadata": {
        "colab": {
          "base_uri": "https://localhost:8080/"
        },
        "id": "G3D8LDx-8kML",
        "outputId": "1558630a-1f5e-430d-95b8-06ac3ca31c68"
      },
      "source": [
        "cf_matrix1 = confusion_matrix(y_test,pred)\n",
        "cf_matrix1"
      ],
      "execution_count": 224,
      "outputs": [
        {
          "output_type": "execute_result",
          "data": {
            "text/plain": [
              "array([[19139,    87],\n",
              "       [ 2110,   559]])"
            ]
          },
          "metadata": {
            "tags": []
          },
          "execution_count": 224
        }
      ]
    },
    {
      "cell_type": "markdown",
      "metadata": {
        "id": "0Tyh2Uii7NvJ"
      },
      "source": [
        "As We got low accuracy on the test data let's check for the possible ways to increase the score"
      ]
    },
    {
      "cell_type": "code",
      "metadata": {
        "colab": {
          "base_uri": "https://localhost:8080/"
        },
        "id": "WHHMfogK4PhY",
        "outputId": "5426e7a7-9a12-464e-b19b-18487dc35896"
      },
      "source": [
        "#Checing the given data is imbalanced or not.\n",
        "target.value_counts()"
      ],
      "execution_count": 225,
      "outputs": [
        {
          "output_type": "execute_result",
          "data": {
            "text/plain": [
              "0    64007\n",
              "1     8976\n",
              "Name: IsBadBuy, dtype: int64"
            ]
          },
          "metadata": {
            "tags": []
          },
          "execution_count": 225
        }
      ]
    },
    {
      "cell_type": "markdown",
      "metadata": {
        "id": "W5tkBMyL7Kn6"
      },
      "source": [
        "Conclusion : We have a class imbalance."
      ]
    },
    {
      "cell_type": "code",
      "metadata": {
        "colab": {
          "base_uri": "https://localhost:8080/"
        },
        "id": "4wJ6oRBU4Xcm",
        "outputId": "df11cd68-cbaa-477b-a53e-0d445c43392d"
      },
      "source": [
        "# We have done with the Independent Variables . Now check the target variable and look whether the data is imbalanced or not.\n",
        "target.value_counts()"
      ],
      "execution_count": 226,
      "outputs": [
        {
          "output_type": "execute_result",
          "data": {
            "text/plain": [
              "0    64007\n",
              "1     8976\n",
              "Name: IsBadBuy, dtype: int64"
            ]
          },
          "metadata": {
            "tags": []
          },
          "execution_count": 226
        }
      ]
    },
    {
      "cell_type": "code",
      "metadata": {
        "id": "YMhc_6Hm64oF"
      },
      "source": [
        "# We can balance the data by using RandomOverSampler.\n",
        "from imblearn.over_sampling import RandomOverSampler"
      ],
      "execution_count": 227,
      "outputs": []
    },
    {
      "cell_type": "code",
      "metadata": {
        "id": "WZSqfx7p67Og"
      },
      "source": [
        "# Creating an object with RandomOverSampler.\n",
        "ros = RandomOverSampler()"
      ],
      "execution_count": 228,
      "outputs": []
    },
    {
      "cell_type": "code",
      "metadata": {
        "colab": {
          "base_uri": "https://localhost:8080/"
        },
        "id": "KL5qNbUP6-WS",
        "outputId": "e533bca9-214b-411d-dbb2-05260ec1ff2f"
      },
      "source": [
        "# Resampling X & target data with RandomOverSampler\n",
        "X_ros ,target_ros = ros.fit_resample(X,target)"
      ],
      "execution_count": 229,
      "outputs": [
        {
          "output_type": "stream",
          "text": [
            "/usr/local/lib/python3.7/dist-packages/sklearn/utils/deprecation.py:87: FutureWarning: Function safe_indexing is deprecated; safe_indexing is deprecated in version 0.22 and will be removed in version 0.24.\n",
            "  warnings.warn(msg, category=FutureWarning)\n"
          ],
          "name": "stderr"
        }
      ]
    },
    {
      "cell_type": "code",
      "metadata": {
        "colab": {
          "base_uri": "https://localhost:8080/"
        },
        "id": "lEcenpWF7AV6",
        "outputId": "8649981f-287a-42f1-a082-62d3605b8544"
      },
      "source": [
        "#Checking the target variable whether we have balanced the data or not.\n",
        "from collections import Counter\n",
        "print(Counter(target_ros))"
      ],
      "execution_count": 230,
      "outputs": [
        {
          "output_type": "stream",
          "text": [
            "Counter({0: 64007, 1: 64007})\n"
          ],
          "name": "stdout"
        }
      ]
    },
    {
      "cell_type": "markdown",
      "metadata": {
        "id": "bPR3Zx4C7CVo"
      },
      "source": [
        "Now , We have Balanced The Data."
      ]
    },
    {
      "cell_type": "code",
      "metadata": {
        "id": "HRv8ENsw7hnE"
      },
      "source": [
        "#splitting the data into train and test\n",
        "from sklearn.model_selection import train_test_split\n",
        "X_train,X_test,y_train,y_test = train_test_split(X_ros,target_ros,test_size=0.3,random_state=355)"
      ],
      "execution_count": 231,
      "outputs": []
    },
    {
      "cell_type": "code",
      "metadata": {
        "id": "6EC2P2qY7oZV"
      },
      "source": [
        "#Creating an object of RandomForestClassifier\n",
        "rfc2 = RandomForestClassifier()"
      ],
      "execution_count": 232,
      "outputs": []
    },
    {
      "cell_type": "code",
      "metadata": {
        "colab": {
          "base_uri": "https://localhost:8080/"
        },
        "id": "fe6Qx_gj7uax",
        "outputId": "27e9b0ab-4959-4605-e2da-db45e8078eb6"
      },
      "source": [
        "# Fitting the random forest with training Data.\n",
        "rfc2.fit(X_train,y_train)"
      ],
      "execution_count": 233,
      "outputs": [
        {
          "output_type": "execute_result",
          "data": {
            "text/plain": [
              "RandomForestClassifier(bootstrap=True, ccp_alpha=0.0, class_weight=None,\n",
              "                       criterion='gini', max_depth=None, max_features='auto',\n",
              "                       max_leaf_nodes=None, max_samples=None,\n",
              "                       min_impurity_decrease=0.0, min_impurity_split=None,\n",
              "                       min_samples_leaf=1, min_samples_split=2,\n",
              "                       min_weight_fraction_leaf=0.0, n_estimators=100,\n",
              "                       n_jobs=None, oob_score=False, random_state=None,\n",
              "                       verbose=0, warm_start=False)"
            ]
          },
          "metadata": {
            "tags": []
          },
          "execution_count": 233
        }
      ]
    },
    {
      "cell_type": "code",
      "metadata": {
        "id": "9OLnxih27vQe"
      },
      "source": [
        "#Checking the score of Training Data\n",
        "train_score2 = rfc2.score(X_train,y_train)"
      ],
      "execution_count": 234,
      "outputs": []
    },
    {
      "cell_type": "code",
      "metadata": {
        "id": "_Ozh-bxc7-E7"
      },
      "source": [
        "#Checking the score of Test Data\n",
        "test_score2 = rfc2.score(X_test,y_test)"
      ],
      "execution_count": 235,
      "outputs": []
    },
    {
      "cell_type": "code",
      "metadata": {
        "colab": {
          "base_uri": "https://localhost:8080/"
        },
        "id": "IjcERhvi8BRC",
        "outputId": "04b92f4a-2bd9-405c-aa7a-ce046aa49bca"
      },
      "source": [
        "# Printing the train_score & test_score\n",
        "print(f\"Train Score :: {train_score2}\")\n",
        "print(f\"Test Score :: {test_score2}\")"
      ],
      "execution_count": 236,
      "outputs": [
        {
          "output_type": "stream",
          "text": [
            "Train Score :: 1.0\n",
            "Test Score :: 0.9900533784663456\n"
          ],
          "name": "stdout"
        }
      ]
    },
    {
      "cell_type": "code",
      "metadata": {
        "id": "_ZrY8wkH8G_d"
      },
      "source": [
        "#Checking how many test labels we have classified properly.\n",
        "pred2 = rfc2.predict(X_test)\n",
        "cf_matrix2 = confusion_matrix(y_test,pred2)"
      ],
      "execution_count": 237,
      "outputs": []
    },
    {
      "cell_type": "code",
      "metadata": {
        "colab": {
          "base_uri": "https://localhost:8080/",
          "height": 284
        },
        "id": "h9iJerrm-BqS",
        "outputId": "b8d7b9eb-3609-4556-aff0-afbf2e67ed16"
      },
      "source": [
        "sns.heatmap(cf_matrix2/np.sum(cf_matrix2),annot=True,fmt='.2%',cmap='coolwarm')"
      ],
      "execution_count": 238,
      "outputs": [
        {
          "output_type": "execute_result",
          "data": {
            "text/plain": [
              "<matplotlib.axes._subplots.AxesSubplot at 0x7f95376675d0>"
            ]
          },
          "metadata": {
            "tags": []
          },
          "execution_count": 238
        },
        {
          "output_type": "display_data",
          "data": {
            "image/png": "[encoded data removed]",
            "text/plain": [
              "<Figure size 432x288 with 2 Axes>"
            ]
          },
          "metadata": {
            "tags": [],
            "needs_background": "light"
          }
        }
      ]
    },
    {
      "cell_type": "code",
      "metadata": {
        "colab": {
          "base_uri": "https://localhost:8080/"
        },
        "id": "HYCs7m9V_I1u",
        "outputId": "36184cf0-ffba-4537-aaf4-bc1b734650e7"
      },
      "source": [
        "# Comparing both the confusion metrics before and after balancing the data.\n",
        "cf_matrix1"
      ],
      "execution_count": 239,
      "outputs": [
        {
          "output_type": "execute_result",
          "data": {
            "text/plain": [
              "array([[19139,    87],\n",
              "       [ 2110,   559]])"
            ]
          },
          "metadata": {
            "tags": []
          },
          "execution_count": 239
        }
      ]
    },
    {
      "cell_type": "code",
      "metadata": {
        "colab": {
          "base_uri": "https://localhost:8080/"
        },
        "id": "h57q1itG_r1U",
        "outputId": "447e2be4-775f-424a-eaa2-55cb3a0f30c1"
      },
      "source": [
        "cf_matrix2"
      ],
      "execution_count": 240,
      "outputs": [
        {
          "output_type": "execute_result",
          "data": {
            "text/plain": [
              "array([[18884,   306],\n",
              "       [   76, 19139]])"
            ]
          },
          "metadata": {
            "tags": []
          },
          "execution_count": 240
        }
      ]
    },
    {
      "cell_type": "markdown",
      "metadata": {
        "id": "BIUyN9VY_wzS"
      },
      "source": [
        "Conclusion : We are able to decrease the total percentage of false predicted values . but slightly increased the False Positive Rate and But yes, we have decreased the False negative rate after balancing The data."
      ]
    },
    {
      "cell_type": "markdown",
      "metadata": {
        "id": "LYBXoe2KAXos"
      },
      "source": [
        "In this use case we need to correct guide the person who is going to buy the car , so we cannot guide a person into a situation where the purchase is bad and we predicted no it's not bad you can buy the Car."
      ]
    },
    {
      "cell_type": "code",
      "metadata": {
        "id": "ivyVNkhNAnKA"
      },
      "source": [
        "from sklearn.metrics import roc_curve\n",
        "fpr,tpr,thresholds = roc_curve(y_test,pred2)"
      ],
      "execution_count": 241,
      "outputs": []
    },
    {
      "cell_type": "code",
      "metadata": {
        "colab": {
          "base_uri": "https://localhost:8080/",
          "height": 284
        },
        "id": "kyqr6MJ2Bu6N",
        "outputId": "727990ff-1648-4a9b-a17d-077862b80b56"
      },
      "source": [
        "plt.plot(fpr,tpr)"
      ],
      "execution_count": 242,
      "outputs": [
        {
          "output_type": "execute_result",
          "data": {
            "text/plain": [
              "[<matplotlib.lines.Line2D at 0x7f95037af490>]"
            ]
          },
          "metadata": {
            "tags": []
          },
          "execution_count": 242
        },
        {
          "output_type": "display_data",
          "data": {
            "image/png": "[encoded data removed]",
            "text/plain": [
              "<Figure size 432x288 with 1 Axes>"
            ]
          },
          "metadata": {
            "tags": [],
            "needs_background": "light"
          }
        }
      ]
    },
    {
      "cell_type": "code",
      "metadata": {
        "id": "rCfuIo7sB4m0"
      },
      "source": [
        "# Let's try to check can we get more accuray without balancing the data, cause balancing the data is increasing the fpr."
      ],
      "execution_count": 243,
      "outputs": []
    },
    {
      "cell_type": "markdown",
      "metadata": {
        "id": "JTOfwWEJCyS4"
      },
      "source": [
        "Hyper Parameter Tuning."
      ]
    },
    {
      "cell_type": "code",
      "metadata": {
        "id": "ZvGz1KyMC1Q0"
      },
      "source": [
        "# We are taking the data which is not balanced.\n",
        "#splitting the data into train and test\n",
        "from sklearn.model_selection import train_test_split\n",
        "X_train,X_test,y_train,y_test = train_test_split(X,target,test_size=0.3,random_state=355)"
      ],
      "execution_count": 244,
      "outputs": []
    },
    {
      "cell_type": "code",
      "metadata": {
        "colab": {
          "base_uri": "https://localhost:8080/"
        },
        "id": "2D9Ut9mqC_vw",
        "outputId": "80fb2d59-d33c-4820-d867-87df3f6cb468"
      },
      "source": [
        "# Using RandomizedSerachCV \n",
        "from sklearn.model_selection import RandomizedSearchCV\n",
        "n_estimators = [int(x) for x in np.linspace(100,1000,5)]\n",
        "max_features = ['auto','sqrt','log2']\n",
        "max_depth = [int(x) for x in np.linspace(10,1000,5)]\n",
        "min_samples_split = [3,4,5,6,9]\n",
        "min_samples_leaf = [2,4,6,8]\n",
        "random_grid = {'n_estimators' : n_estimators,\n",
        "              'max_features': max_features,\n",
        "              'max_depth':max_depth,\n",
        "              'min_samples_split':min_samples_split,\n",
        "              'min_samples_leaf':min_samples_leaf,\n",
        "              'criterion':['entropy','gini']}\n",
        "print(random_grid)"
      ],
      "execution_count": 245,
      "outputs": [
        {
          "output_type": "stream",
          "text": [
            "{'n_estimators': [100, 325, 550, 775, 1000], 'max_features': ['auto', 'sqrt', 'log2'], 'max_depth': [10, 257, 505, 752, 1000], 'min_samples_split': [3, 4, 5, 6, 9], 'min_samples_leaf': [2, 4, 6, 8], 'criterion': ['entropy', 'gini']}\n"
          ],
          "name": "stdout"
        }
      ]
    },
    {
      "cell_type": "code",
      "metadata": {
        "colab": {
          "base_uri": "https://localhost:8080/"
        },
        "id": "oLBNWWU1DMu5",
        "outputId": "51f0103e-4f18-425e-8c5e-47da4ad52588"
      },
      "source": [
        "# Creating an object for RandomForest\n",
        "rf = RandomForestClassifier()\n",
        "# Initializing the RandomSearchCV with Random grid parameters.\n",
        "rf_random_grid = RandomizedSearchCV(estimator=rf,param_distributions=random_grid,\n",
        "                                    n_iter=10,cv=3,random_state=100,n_jobs=-1,verbose=2)\n",
        "#training the random search with training Data\n",
        "rf_random_grid.fit(X_train,y_train)"
      ],
      "execution_count": 246,
      "outputs": [
        {
          "output_type": "stream",
          "text": [
            "Fitting 3 folds for each of 10 candidates, totalling 30 fits\n"
          ],
          "name": "stdout"
        },
        {
          "output_type": "stream",
          "text": [
            "[Parallel(n_jobs=-1)]: Using backend LokyBackend with 2 concurrent workers.\n",
            "[Parallel(n_jobs=-1)]: Done  30 out of  30 | elapsed: 12.7min finished\n"
          ],
          "name": "stderr"
        },
        {
          "output_type": "execute_result",
          "data": {
            "text/plain": [
              "RandomizedSearchCV(cv=3, error_score=nan,\n",
              "                   estimator=RandomForestClassifier(bootstrap=True,\n",
              "                                                    ccp_alpha=0.0,\n",
              "                                                    class_weight=None,\n",
              "                                                    criterion='gini',\n",
              "                                                    max_depth=None,\n",
              "                                                    max_features='auto',\n",
              "                                                    max_leaf_nodes=None,\n",
              "                                                    max_samples=None,\n",
              "                                                    min_impurity_decrease=0.0,\n",
              "                                                    min_impurity_split=None,\n",
              "                                                    min_samples_leaf=1,\n",
              "                                                    min_samples_split=2,\n",
              "                                                    min_weight_fraction_leaf=0.0,\n",
              "                                                    n_estimators=100,\n",
              "                                                    n_jobs...\n",
              "                   iid='deprecated', n_iter=10, n_jobs=-1,\n",
              "                   param_distributions={'criterion': ['entropy', 'gini'],\n",
              "                                        'max_depth': [10, 257, 505, 752, 1000],\n",
              "                                        'max_features': ['auto', 'sqrt',\n",
              "                                                         'log2'],\n",
              "                                        'min_samples_leaf': [2, 4, 6, 8],\n",
              "                                        'min_samples_split': [3, 4, 5, 6, 9],\n",
              "                                        'n_estimators': [100, 325, 550, 775,\n",
              "                                                         1000]},\n",
              "                   pre_dispatch='2*n_jobs', random_state=100, refit=True,\n",
              "                   return_train_score=False, scoring=None, verbose=2)"
            ]
          },
          "metadata": {
            "tags": []
          },
          "execution_count": 246
        }
      ]
    },
    {
      "cell_type": "code",
      "metadata": {
        "colab": {
          "base_uri": "https://localhost:8080/"
        },
        "id": "bjtBjXFKGjlM",
        "outputId": "ce27cb90-4f70-4b66-ec90-c56510d5bbe1"
      },
      "source": [
        "# Checking the best score from random search\n",
        "rf_random_grid.best_score_"
      ],
      "execution_count": 247,
      "outputs": [
        {
          "output_type": "execute_result",
          "data": {
            "text/plain": [
              "0.8994088561645746"
            ]
          },
          "metadata": {
            "tags": []
          },
          "execution_count": 247
        }
      ]
    },
    {
      "cell_type": "code",
      "metadata": {
        "id": "YfuJoBzLGmnP"
      },
      "source": [
        "# Best estimator which can give best and robust score\n",
        "random_rf = rf_random_grid.best_estimator_"
      ],
      "execution_count": 248,
      "outputs": []
    },
    {
      "cell_type": "code",
      "metadata": {
        "colab": {
          "base_uri": "https://localhost:8080/"
        },
        "id": "-YM9__jMGyzz",
        "outputId": "05f9efd1-1a4b-4fd9-97d4-74a1dfa2c666"
      },
      "source": [
        "random_rf.fit(X_train,y_train)"
      ],
      "execution_count": 249,
      "outputs": [
        {
          "output_type": "execute_result",
          "data": {
            "text/plain": [
              "RandomForestClassifier(bootstrap=True, ccp_alpha=0.0, class_weight=None,\n",
              "                       criterion='gini', max_depth=1000, max_features='sqrt',\n",
              "                       max_leaf_nodes=None, max_samples=None,\n",
              "                       min_impurity_decrease=0.0, min_impurity_split=None,\n",
              "                       min_samples_leaf=4, min_samples_split=6,\n",
              "                       min_weight_fraction_leaf=0.0, n_estimators=100,\n",
              "                       n_jobs=None, oob_score=False, random_state=None,\n",
              "                       verbose=0, warm_start=False)"
            ]
          },
          "metadata": {
            "tags": []
          },
          "execution_count": 249
        }
      ]
    },
    {
      "cell_type": "code",
      "metadata": {
        "id": "lkrmh3olG5ER"
      },
      "source": [
        " # train score\n",
        "random_train_score = random_rf.score(X_train,y_train)"
      ],
      "execution_count": 250,
      "outputs": []
    },
    {
      "cell_type": "code",
      "metadata": {
        "colab": {
          "base_uri": "https://localhost:8080/"
        },
        "id": "GC9XpD_gHMiB",
        "outputId": "a4a8dd59-6522-48bf-d122-5e5d92265bd6"
      },
      "source": [
        "random_train_score"
      ],
      "execution_count": 251,
      "outputs": [
        {
          "output_type": "execute_result",
          "data": {
            "text/plain": [
              "0.9126409332915754"
            ]
          },
          "metadata": {
            "tags": []
          },
          "execution_count": 251
        }
      ]
    },
    {
      "cell_type": "code",
      "metadata": {
        "id": "0o6Y8IqDHWSn"
      },
      "source": [
        "random_test_score = random_rf.score(X_test,y_test)"
      ],
      "execution_count": 252,
      "outputs": []
    },
    {
      "cell_type": "code",
      "metadata": {
        "colab": {
          "base_uri": "https://localhost:8080/"
        },
        "id": "OnnSEa02HdOM",
        "outputId": "89177218-896f-4d8f-afd8-7d20bed3d8cd"
      },
      "source": [
        "random_test_score"
      ],
      "execution_count": 253,
      "outputs": [
        {
          "output_type": "execute_result",
          "data": {
            "text/plain": [
              "0.9002968714318338"
            ]
          },
          "metadata": {
            "tags": []
          },
          "execution_count": 253
        }
      ]
    },
    {
      "cell_type": "markdown",
      "metadata": {
        "id": "MiVlckGaHeqC"
      },
      "source": [
        "#Using XGBClassifier"
      ]
    },
    {
      "cell_type": "code",
      "metadata": {
        "id": "qU8yaOArIO0q"
      },
      "source": [
        "# Creating object of XGBClassifier\n",
        "xgb = XGBClassifier()"
      ],
      "execution_count": 254,
      "outputs": []
    },
    {
      "cell_type": "code",
      "metadata": {
        "colab": {
          "base_uri": "https://localhost:8080/"
        },
        "id": "bFFxNi8mIYvo",
        "outputId": "3765064c-80c1-4e55-c3f4-c05d00d488c4"
      },
      "source": [
        "# Training XGBClassifier with training Data.\n",
        "xgb.fit(X_train,y_train)"
      ],
      "execution_count": 255,
      "outputs": [
        {
          "output_type": "execute_result",
          "data": {
            "text/plain": [
              "XGBClassifier(base_score=0.5, booster='gbtree', colsample_bylevel=1,\n",
              "              colsample_bynode=1, colsample_bytree=1, gamma=0,\n",
              "              learning_rate=0.1, max_delta_step=0, max_depth=3,\n",
              "              min_child_weight=1, missing=None, n_estimators=100, n_jobs=1,\n",
              "              nthread=None, objective='binary:logistic', random_state=0,\n",
              "              reg_alpha=0, reg_lambda=1, scale_pos_weight=1, seed=None,\n",
              "              silent=None, subsample=1, verbosity=1)"
            ]
          },
          "metadata": {
            "tags": []
          },
          "execution_count": 255
        }
      ]
    },
    {
      "cell_type": "code",
      "metadata": {
        "id": "4Y9goUuZIfdF"
      },
      "source": [
        "# Train score using XGBClassifier\n",
        "xgb_train_score = xgb.score(X_train,y_train)"
      ],
      "execution_count": 256,
      "outputs": []
    },
    {
      "cell_type": "code",
      "metadata": {
        "colab": {
          "base_uri": "https://localhost:8080/"
        },
        "id": "zrJW09BGInb3",
        "outputId": "8f621726-a665-4ef6-fd64-adfd1ca07064"
      },
      "source": [
        "# checking the train score\n",
        "xgb_train_score"
      ],
      "execution_count": 257,
      "outputs": [
        {
          "output_type": "execute_result",
          "data": {
            "text/plain": [
              "0.9001918258690886"
            ]
          },
          "metadata": {
            "tags": []
          },
          "execution_count": 257
        }
      ]
    },
    {
      "cell_type": "code",
      "metadata": {
        "id": "iOtBz_hSIouH"
      },
      "source": [
        "# Predicting the test data\n",
        "xgb_test_score = xgb.score(X_test,y_test)"
      ],
      "execution_count": 258,
      "outputs": []
    },
    {
      "cell_type": "code",
      "metadata": {
        "colab": {
          "base_uri": "https://localhost:8080/"
        },
        "id": "LA8TZL3mIvXU",
        "outputId": "0a5526c7-d9e8-407a-f2f6-fc3775f0abff"
      },
      "source": [
        "xgb_test_score"
      ],
      "execution_count": 259,
      "outputs": [
        {
          "output_type": "execute_result",
          "data": {
            "text/plain": [
              "0.9001598538479105"
            ]
          },
          "metadata": {
            "tags": []
          },
          "execution_count": 259
        }
      ]
    },
    {
      "cell_type": "markdown",
      "metadata": {
        "id": "XdEFMa97IxRh"
      },
      "source": [
        "Hyper Parameter Optimization for XGBClassifier"
      ]
    },
    {
      "cell_type": "code",
      "metadata": {
        "id": "fGp0f0z1JdLH"
      },
      "source": [
        "## Hyper Parameter Optimization\n",
        "\n",
        "params={\n",
        " \"learning_rate\"    : [0.05, 0.10, 0.15, 0.20, 0.25, 0.30 ] ,\n",
        " \"max_depth\"        : [ 3, 4, 5, 6, 8, 10, 12, 15],\n",
        " \"min_child_weight\" : [ 1, 3, 5, 7 ],\n",
        " \"gamma\"            : [ 0.0, 0.1, 0.2 , 0.3, 0.4 ],\n",
        " \"colsample_bytree\" : [ 0.3, 0.4, 0.5 , 0.7 ]\n",
        "    \n",
        "}"
      ],
      "execution_count": 260,
      "outputs": []
    },
    {
      "cell_type": "code",
      "metadata": {
        "id": "4kQW0FF6JgLO"
      },
      "source": [
        "# initializing a model with random params\n",
        "xbgclassifier = XGBClassifier()\n",
        "random_search=RandomizedSearchCV(xbgclassifier,param_distributions=params,n_iter=5,scoring='roc_auc',n_jobs=-1,cv=5,verbose=3)"
      ],
      "execution_count": 261,
      "outputs": []
    },
    {
      "cell_type": "code",
      "metadata": {
        "colab": {
          "base_uri": "https://localhost:8080/"
        },
        "id": "0N3WJUcOJyLt",
        "outputId": "557bca98-da6a-4019-f6da-b083a2b0f983"
      },
      "source": [
        "# Fitting the random search with train data\n",
        "random_search.fit(X_train,y_train)"
      ],
      "execution_count": 262,
      "outputs": [
        {
          "output_type": "stream",
          "text": [
            "Fitting 5 folds for each of 5 candidates, totalling 25 fits\n"
          ],
          "name": "stdout"
        },
        {
          "output_type": "stream",
          "text": [
            "[Parallel(n_jobs=-1)]: Using backend LokyBackend with 2 concurrent workers.\n",
            "/usr/local/lib/python3.7/dist-packages/joblib/externals/loky/process_executor.py:691: UserWarning: A worker stopped while some jobs were given to the executor. This can be caused by a too short worker timeout or by a memory leak.\n",
            "  \"timeout or by a memory leak.\", UserWarning\n",
            "[Parallel(n_jobs=-1)]: Done  25 out of  25 | elapsed:  2.8min finished\n"
          ],
          "name": "stderr"
        },
        {
          "output_type": "execute_result",
          "data": {
            "text/plain": [
              "RandomizedSearchCV(cv=5, error_score=nan,\n",
              "                   estimator=XGBClassifier(base_score=0.5, booster='gbtree',\n",
              "                                           colsample_bylevel=1,\n",
              "                                           colsample_bynode=1,\n",
              "                                           colsample_bytree=1, gamma=0,\n",
              "                                           learning_rate=0.1, max_delta_step=0,\n",
              "                                           max_depth=3, min_child_weight=1,\n",
              "                                           missing=None, n_estimators=100,\n",
              "                                           n_jobs=1, nthread=None,\n",
              "                                           objective='binary:logistic',\n",
              "                                           random_state=0, reg_alpha=0,\n",
              "                                           reg_lambda=1, sc...\n",
              "                                           verbosity=1),\n",
              "                   iid='deprecated', n_iter=5, n_jobs=-1,\n",
              "                   param_distributions={'colsample_bytree': [0.3, 0.4, 0.5,\n",
              "                                                             0.7],\n",
              "                                        'gamma': [0.0, 0.1, 0.2, 0.3, 0.4],\n",
              "                                        'learning_rate': [0.05, 0.1, 0.15, 0.2,\n",
              "                                                          0.25, 0.3],\n",
              "                                        'max_depth': [3, 4, 5, 6, 8, 10, 12,\n",
              "                                                      15],\n",
              "                                        'min_child_weight': [1, 3, 5, 7]},\n",
              "                   pre_dispatch='2*n_jobs', random_state=None, refit=True,\n",
              "                   return_train_score=False, scoring='roc_auc', verbose=3)"
            ]
          },
          "metadata": {
            "tags": []
          },
          "execution_count": 262
        }
      ]
    },
    {
      "cell_type": "code",
      "metadata": {
        "colab": {
          "base_uri": "https://localhost:8080/"
        },
        "id": "lGwAUk8iKEjA",
        "outputId": "f392c1e1-8536-4d22-b452-f254d659d68a"
      },
      "source": [
        "# Best Score from random search\n",
        "random_search.best_score_"
      ],
      "execution_count": 263,
      "outputs": [
        {
          "output_type": "execute_result",
          "data": {
            "text/plain": [
              "0.7716860318551121"
            ]
          },
          "metadata": {
            "tags": []
          },
          "execution_count": 263
        }
      ]
    },
    {
      "cell_type": "code",
      "metadata": {
        "id": "1c9ZccZwLMsz"
      },
      "source": [
        "# creating an object with best parameters\n",
        "random_xgb = random_search.best_estimator_"
      ],
      "execution_count": 264,
      "outputs": []
    },
    {
      "cell_type": "code",
      "metadata": {
        "colab": {
          "base_uri": "https://localhost:8080/"
        },
        "id": "7EZOlEW8LRXQ",
        "outputId": "81eed2b9-1119-4ca5-8029-90d1fe3d8775"
      },
      "source": [
        "random_xgb.fit(X_train,y_train)"
      ],
      "execution_count": 265,
      "outputs": [
        {
          "output_type": "execute_result",
          "data": {
            "text/plain": [
              "XGBClassifier(base_score=0.5, booster='gbtree', colsample_bylevel=1,\n",
              "              colsample_bynode=1, colsample_bytree=0.3, gamma=0.3,\n",
              "              learning_rate=0.1, max_delta_step=0, max_depth=6,\n",
              "              min_child_weight=3, missing=None, n_estimators=100, n_jobs=1,\n",
              "              nthread=None, objective='binary:logistic', random_state=0,\n",
              "              reg_alpha=0, reg_lambda=1, scale_pos_weight=1, seed=None,\n",
              "              silent=None, subsample=1, verbosity=1)"
            ]
          },
          "metadata": {
            "tags": []
          },
          "execution_count": 265
        }
      ]
    },
    {
      "cell_type": "code",
      "metadata": {
        "colab": {
          "base_uri": "https://localhost:8080/"
        },
        "id": "IkKwA1P9LU_g",
        "outputId": "69ed6cb5-818b-4616-8ca0-acad2eb6e293"
      },
      "source": [
        "random_xgb.score(X_train,y_train)"
      ],
      "execution_count": 266,
      "outputs": [
        {
          "output_type": "execute_result",
          "data": {
            "text/plain": [
              "0.9046742875039148"
            ]
          },
          "metadata": {
            "tags": []
          },
          "execution_count": 266
        }
      ]
    },
    {
      "cell_type": "code",
      "metadata": {
        "colab": {
          "base_uri": "https://localhost:8080/"
        },
        "id": "xyJwKMg9LaQw",
        "outputId": "8acc7a77-9d46-4c9c-ce0d-e43005c5b645"
      },
      "source": [
        "random_xgb.score(X_test,y_test)"
      ],
      "execution_count": 267,
      "outputs": [
        {
          "output_type": "execute_result",
          "data": {
            "text/plain": [
              "0.9015300296871431"
            ]
          },
          "metadata": {
            "tags": []
          },
          "execution_count": 267
        }
      ]
    },
    {
      "cell_type": "code",
      "metadata": {
        "id": "TO9mDf2fLdwY"
      },
      "source": [
        "#using cross validation \n",
        "from sklearn.model_selection import cross_val_score\n",
        "score = cross_val_score(random_xgb,X,target,cv=10)"
      ],
      "execution_count": 268,
      "outputs": []
    },
    {
      "cell_type": "code",
      "metadata": {
        "colab": {
          "base_uri": "https://localhost:8080/"
        },
        "id": "TkLFsGcML1L8",
        "outputId": "61b8a0db-33d2-4927-fe2f-bf4b16ffafc3"
      },
      "source": [
        "# all the cross val scores\n",
        "score"
      ],
      "execution_count": 269,
      "outputs": [
        {
          "output_type": "execute_result",
          "data": {
            "text/plain": [
              "array([0.90615153, 0.88012056, 0.88875188, 0.89271033, 0.88627021,\n",
              "       0.87791176, 0.82255412, 0.90654974, 0.84927377, 0.88202247])"
            ]
          },
          "metadata": {
            "tags": []
          },
          "execution_count": 269
        }
      ]
    },
    {
      "cell_type": "code",
      "metadata": {
        "colab": {
          "base_uri": "https://localhost:8080/"
        },
        "id": "CfQR7ECwMSGQ",
        "outputId": "ad4786d6-6129-469c-8723-fdeb539e8958"
      },
      "source": [
        "max(score)"
      ],
      "execution_count": 270,
      "outputs": [
        {
          "output_type": "execute_result",
          "data": {
            "text/plain": [
              "0.9065497396546999"
            ]
          },
          "metadata": {
            "tags": []
          },
          "execution_count": 270
        }
      ]
    },
    {
      "cell_type": "code",
      "metadata": {
        "colab": {
          "base_uri": "https://localhost:8080/",
          "height": 94
        },
        "id": "WIXLVcjWWSAV",
        "outputId": "ca52fe04-20b9-4fb2-e89d-454840505ebc"
      },
      "source": [
        "jovian.commit()"
      ],
      "execution_count": 273,
      "outputs": [
        {
          "output_type": "stream",
          "text": [
            "[jovian] Detected Colab notebook...\u001b[0m\n",
            "[jovian] Uploading colab notebook to Jovian...\u001b[0m\n",
            "Committed successfully! https://jovian.ai/nvinay1586/zerotogbms-project\n"
          ],
          "name": "stdout"
        },
        {
          "output_type": "execute_result",
          "data": {
            "application/vnd.google.colaboratory.intrinsic+json": {
              "type": "string"
            },
            "text/plain": [
              "'https://jovian.ai/nvinay1586/zerotogbms-project'"
            ]
          },
          "metadata": {
            "tags": []
          },
          "execution_count": 273
        }
      ]
    },
    {
      "cell_type": "code",
      "metadata": {
        "colab": {
          "base_uri": "https://localhost:8080/"
        },
        "id": "OBmnw0_GM1aV",
        "outputId": "fa808ef5-b46b-47d2-95a7-fdd6f31dbadb"
      },
      "source": [
        "jovian.submit(assignment=\"zerotogbms-project\")"
      ],
      "execution_count": 274,
      "outputs": [
        {
          "output_type": "stream",
          "text": [
            "[jovian] Detected Colab notebook...\u001b[0m\n",
            "[jovian] Uploading colab notebook to Jovian...\u001b[0m\n",
            "Committed successfully! https://jovian.ai/nvinay1586/zerotogbms-project\n",
            "[jovian] Submitting assignment..\u001b[0m\n",
            "[jovian] Verify your submission at https://jovian.ai/learn/machine-learning-with-python-zero-to-gbms/assignment/course-project-real-world-machine-learning-model\u001b[0m\n"
          ],
          "name": "stdout"
        }
      ]
    },
    {
      "cell_type": "code",
      "metadata": {
        "id": "PWZHIL7qWC_W"
      },
      "source": [
        ""
      ],
      "execution_count": null,
      "outputs": []
    }
  ]
}